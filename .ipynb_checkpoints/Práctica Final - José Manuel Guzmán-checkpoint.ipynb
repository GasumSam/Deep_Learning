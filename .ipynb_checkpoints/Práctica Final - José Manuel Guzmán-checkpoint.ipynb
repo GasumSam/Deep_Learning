{
 "cells": [
  {
   "cell_type": "markdown",
   "metadata": {},
   "source": [
    "# Práctica Final - José Manuel Guzmán Gutiérrez\n",
    "-----------------------------------------------------\n",
    "## Deep Learning\n",
    "--------------------------------------\n",
    "Importamos librerías y hacemos una observación inicial del dataset para comprobar que la carga ha sido óptima\n"
   ]
  },
  {
   "cell_type": "code",
   "execution_count": 1,
   "metadata": {},
   "outputs": [
    {
     "name": "stdout",
     "output_type": "stream",
     "text": [
      "Requirement already satisfied: imageio in /Users/jotaemeguzman/opt/anaconda3/envs/tf/lib/python3.7/site-packages (2.9.0)\r\n",
      "Requirement already satisfied: pillow in /Users/jotaemeguzman/opt/anaconda3/envs/tf/lib/python3.7/site-packages (from imageio) (8.2.0)\r\n",
      "Requirement already satisfied: numpy in /Users/jotaemeguzman/opt/anaconda3/envs/tf/lib/python3.7/site-packages (from imageio) (1.19.5)\r\n"
     ]
    }
   ],
   "source": [
    "!pip install imageio"
   ]
  },
  {
   "cell_type": "code",
   "execution_count": 2,
   "metadata": {},
   "outputs": [
    {
     "name": "stdout",
     "output_type": "stream",
     "text": [
      "Requirement already satisfied: opencv-python in /Users/jotaemeguzman/opt/anaconda3/envs/tf/lib/python3.7/site-packages (4.5.2.52)\r\n",
      "Requirement already satisfied: numpy>=1.14.5 in /Users/jotaemeguzman/opt/anaconda3/envs/tf/lib/python3.7/site-packages (from opencv-python) (1.19.5)\r\n"
     ]
    }
   ],
   "source": [
    "!pip install opencv-python"
   ]
  },
  {
   "cell_type": "code",
   "execution_count": 4,
   "metadata": {},
   "outputs": [],
   "source": [
    "import pandas as pd\n",
    "import math\n",
    "import numpy as np\n",
    "import h5py\n",
    "import tensorflow as tf\n",
    "from keras import *\n",
    "from keras.preprocessing import image\n",
    "from keras.applications.imagenet_utils import preprocess_input\n",
    "import matplotlib.pyplot as plt\n",
    "from matplotlib.pyplot import imshow\n",
    "import scipy\n",
    "from PIL import Image\n",
    "from scipy import ndimage\n",
    "from sklearn.model_selection import train_test_split\n",
    "import imageio as io\n",
    "import cv2\n",
    "from numpy import moveaxis\n",
    "import concurrent\n",
    "from tqdm import tqdm"
   ]
  },
  {
   "cell_type": "markdown",
   "metadata": {},
   "source": [
    "## Limpieza y preparación del dataset"
   ]
  },
  {
   "cell_type": "code",
   "execution_count": 5,
   "metadata": {},
   "outputs": [
    {
     "data": {
      "text/plain": [
       "(14780, 89)"
      ]
     },
     "execution_count": 5,
     "metadata": {},
     "output_type": "execute_result"
    }
   ],
   "source": [
    "data = pd.read_csv(\"airbnb-listings.csv\", sep=';', decimal='.')\n",
    "data.shape"
   ]
  },
  {
   "cell_type": "code",
   "execution_count": 6,
   "metadata": {},
   "outputs": [
    {
     "data": {
      "text/html": [
       "<div>\n",
       "<style scoped>\n",
       "    .dataframe tbody tr th:only-of-type {\n",
       "        vertical-align: middle;\n",
       "    }\n",
       "\n",
       "    .dataframe tbody tr th {\n",
       "        vertical-align: top;\n",
       "    }\n",
       "\n",
       "    .dataframe thead th {\n",
       "        text-align: right;\n",
       "    }\n",
       "</style>\n",
       "<table border=\"1\" class=\"dataframe\">\n",
       "  <thead>\n",
       "    <tr style=\"text-align: right;\">\n",
       "      <th></th>\n",
       "      <th>ID</th>\n",
       "      <th>Listing Url</th>\n",
       "      <th>Scrape ID</th>\n",
       "      <th>Last Scraped</th>\n",
       "      <th>Name</th>\n",
       "      <th>Summary</th>\n",
       "      <th>Space</th>\n",
       "      <th>Description</th>\n",
       "      <th>Experiences Offered</th>\n",
       "      <th>Neighborhood Overview</th>\n",
       "      <th>Notes</th>\n",
       "      <th>Transit</th>\n",
       "      <th>Access</th>\n",
       "      <th>Interaction</th>\n",
       "      <th>House Rules</th>\n",
       "      <th>Thumbnail Url</th>\n",
       "      <th>Medium Url</th>\n",
       "      <th>Picture Url</th>\n",
       "      <th>XL Picture Url</th>\n",
       "      <th>Host ID</th>\n",
       "      <th>Host URL</th>\n",
       "      <th>Host Name</th>\n",
       "      <th>Host Since</th>\n",
       "      <th>Host Location</th>\n",
       "      <th>Host About</th>\n",
       "      <th>Host Response Time</th>\n",
       "      <th>Host Response Rate</th>\n",
       "      <th>Host Acceptance Rate</th>\n",
       "      <th>Host Thumbnail Url</th>\n",
       "      <th>Host Picture Url</th>\n",
       "      <th>Host Neighbourhood</th>\n",
       "      <th>Host Listings Count</th>\n",
       "      <th>Host Total Listings Count</th>\n",
       "      <th>Host Verifications</th>\n",
       "      <th>Street</th>\n",
       "      <th>Neighbourhood</th>\n",
       "      <th>Neighbourhood Cleansed</th>\n",
       "      <th>Neighbourhood Group Cleansed</th>\n",
       "      <th>City</th>\n",
       "      <th>State</th>\n",
       "      <th>Zipcode</th>\n",
       "      <th>Market</th>\n",
       "      <th>Smart Location</th>\n",
       "      <th>Country Code</th>\n",
       "      <th>Country</th>\n",
       "      <th>Latitude</th>\n",
       "      <th>Longitude</th>\n",
       "      <th>Property Type</th>\n",
       "      <th>Room Type</th>\n",
       "      <th>Accommodates</th>\n",
       "      <th>Bathrooms</th>\n",
       "      <th>Bedrooms</th>\n",
       "      <th>Beds</th>\n",
       "      <th>Bed Type</th>\n",
       "      <th>Amenities</th>\n",
       "      <th>Square Feet</th>\n",
       "      <th>Price</th>\n",
       "      <th>Weekly Price</th>\n",
       "      <th>Monthly Price</th>\n",
       "      <th>Security Deposit</th>\n",
       "      <th>Cleaning Fee</th>\n",
       "      <th>Guests Included</th>\n",
       "      <th>Extra People</th>\n",
       "      <th>Minimum Nights</th>\n",
       "      <th>Maximum Nights</th>\n",
       "      <th>Calendar Updated</th>\n",
       "      <th>Has Availability</th>\n",
       "      <th>Availability 30</th>\n",
       "      <th>Availability 60</th>\n",
       "      <th>Availability 90</th>\n",
       "      <th>Availability 365</th>\n",
       "      <th>Calendar last Scraped</th>\n",
       "      <th>Number of Reviews</th>\n",
       "      <th>First Review</th>\n",
       "      <th>Last Review</th>\n",
       "      <th>Review Scores Rating</th>\n",
       "      <th>Review Scores Accuracy</th>\n",
       "      <th>Review Scores Cleanliness</th>\n",
       "      <th>Review Scores Checkin</th>\n",
       "      <th>Review Scores Communication</th>\n",
       "      <th>Review Scores Location</th>\n",
       "      <th>Review Scores Value</th>\n",
       "      <th>License</th>\n",
       "      <th>Jurisdiction Names</th>\n",
       "      <th>Cancellation Policy</th>\n",
       "      <th>Calculated host listings count</th>\n",
       "      <th>Reviews per Month</th>\n",
       "      <th>Geolocation</th>\n",
       "      <th>Features</th>\n",
       "    </tr>\n",
       "  </thead>\n",
       "  <tbody>\n",
       "    <tr>\n",
       "      <th>0</th>\n",
       "      <td>14712301</td>\n",
       "      <td>https://www.airbnb.com/rooms/14712301</td>\n",
       "      <td>20170304065726</td>\n",
       "      <td>2017-03-04</td>\n",
       "      <td>Cozy Studio between Earls Court and Gloucester Rd</td>\n",
       "      <td>Located 1 minute away from Earls Court. It is ...</td>\n",
       "      <td>NaN</td>\n",
       "      <td>Located 1 minute away from Earls Court. It is ...</td>\n",
       "      <td>none</td>\n",
       "      <td>NaN</td>\n",
       "      <td>NaN</td>\n",
       "      <td>NaN</td>\n",
       "      <td>NaN</td>\n",
       "      <td>NaN</td>\n",
       "      <td>NaN</td>\n",
       "      <td>NaN</td>\n",
       "      <td>NaN</td>\n",
       "      <td>https://public.opendatasoft.com/api/v2/catalog...</td>\n",
       "      <td>NaN</td>\n",
       "      <td>7232618</td>\n",
       "      <td>https://www.airbnb.com/users/show/7232618</td>\n",
       "      <td>Iñigo</td>\n",
       "      <td>2013-07-02</td>\n",
       "      <td>Madrid, Community of Madrid, Spain</td>\n",
       "      <td>Spanish, I love sports.</td>\n",
       "      <td>within a few hours</td>\n",
       "      <td>100.0</td>\n",
       "      <td>NaN</td>\n",
       "      <td>https://a0.muscache.com/im/users/7232618/profi...</td>\n",
       "      <td>https://a0.muscache.com/im/users/7232618/profi...</td>\n",
       "      <td>NaN</td>\n",
       "      <td>1.0</td>\n",
       "      <td>1.0</td>\n",
       "      <td>email,phone,reviews,jumio,government_id</td>\n",
       "      <td>Bramham Gardens, London, England SW5 0HG, Unit...</td>\n",
       "      <td>NaN</td>\n",
       "      <td>Kensington and Chelsea</td>\n",
       "      <td>NaN</td>\n",
       "      <td>London</td>\n",
       "      <td>England</td>\n",
       "      <td>SW5 0HG</td>\n",
       "      <td>London</td>\n",
       "      <td>London, United Kingdom</td>\n",
       "      <td>GB</td>\n",
       "      <td>United Kingdom</td>\n",
       "      <td>51.492474</td>\n",
       "      <td>-0.188628</td>\n",
       "      <td>Apartment</td>\n",
       "      <td>Entire home/apt</td>\n",
       "      <td>1</td>\n",
       "      <td>1.0</td>\n",
       "      <td>1.0</td>\n",
       "      <td>1.0</td>\n",
       "      <td>Real Bed</td>\n",
       "      <td>Wireless Internet,Kitchen,Smoking allowed,Heat...</td>\n",
       "      <td>NaN</td>\n",
       "      <td>50.0</td>\n",
       "      <td>NaN</td>\n",
       "      <td>NaN</td>\n",
       "      <td>100.0</td>\n",
       "      <td>30.0</td>\n",
       "      <td>1</td>\n",
       "      <td>20</td>\n",
       "      <td>5</td>\n",
       "      <td>49</td>\n",
       "      <td>3 months ago</td>\n",
       "      <td>NaN</td>\n",
       "      <td>3</td>\n",
       "      <td>16</td>\n",
       "      <td>16</td>\n",
       "      <td>169</td>\n",
       "      <td>2017-03-04</td>\n",
       "      <td>2</td>\n",
       "      <td>2016-09-09</td>\n",
       "      <td>2016-09-29</td>\n",
       "      <td>90.0</td>\n",
       "      <td>10.0</td>\n",
       "      <td>10.0</td>\n",
       "      <td>9.0</td>\n",
       "      <td>9.0</td>\n",
       "      <td>9.0</td>\n",
       "      <td>10.0</td>\n",
       "      <td>NaN</td>\n",
       "      <td>NaN</td>\n",
       "      <td>strict</td>\n",
       "      <td>1.0</td>\n",
       "      <td>0.34</td>\n",
       "      <td>51.4924740202,-0.188628400994</td>\n",
       "      <td>Host Has Profile Pic,Host Identity Verified</td>\n",
       "    </tr>\n",
       "    <tr>\n",
       "      <th>1</th>\n",
       "      <td>12884849</td>\n",
       "      <td>https://www.airbnb.com/rooms/12884849</td>\n",
       "      <td>20170304065726</td>\n",
       "      <td>2017-03-05</td>\n",
       "      <td>Five bedroom house in Barnes</td>\n",
       "      <td>Lovely and spacious Edwardian house located on...</td>\n",
       "      <td>The house is spacious with approx 225 sq. of l...</td>\n",
       "      <td>Lovely and spacious Edwardian house located on...</td>\n",
       "      <td>none</td>\n",
       "      <td>Quiet residential street</td>\n",
       "      <td>NaN</td>\n",
       "      <td>The house is located three minutes walk from t...</td>\n",
       "      <td>Guests will have access to all rooms, as desir...</td>\n",
       "      <td>We will be away but will make ourselves availa...</td>\n",
       "      <td>NaN</td>\n",
       "      <td>https://a0.muscache.com/im/pictures/9b3adacb-1...</td>\n",
       "      <td>https://a0.muscache.com/im/pictures/9b3adacb-1...</td>\n",
       "      <td>https://public.opendatasoft.com/api/v2/catalog...</td>\n",
       "      <td>https://a0.muscache.com/im/pictures/9b3adacb-1...</td>\n",
       "      <td>19959228</td>\n",
       "      <td>https://www.airbnb.com/users/show/19959228</td>\n",
       "      <td>Susanna</td>\n",
       "      <td>2014-08-13</td>\n",
       "      <td>GB</td>\n",
       "      <td>NaN</td>\n",
       "      <td>NaN</td>\n",
       "      <td>NaN</td>\n",
       "      <td>NaN</td>\n",
       "      <td>https://a0.muscache.com/im/pictures/76a0b9a0-9...</td>\n",
       "      <td>https://a0.muscache.com/im/pictures/76a0b9a0-9...</td>\n",
       "      <td>Westbourne Green</td>\n",
       "      <td>2.0</td>\n",
       "      <td>2.0</td>\n",
       "      <td>email,phone,reviews</td>\n",
       "      <td>Madrid Road, London, SW13 9PG, United Kingdom</td>\n",
       "      <td>LB of Richmond upon Thames</td>\n",
       "      <td>Richmond upon Thames</td>\n",
       "      <td>NaN</td>\n",
       "      <td>London</td>\n",
       "      <td>NaN</td>\n",
       "      <td>SW13 9PG</td>\n",
       "      <td>London</td>\n",
       "      <td>London, United Kingdom</td>\n",
       "      <td>GB</td>\n",
       "      <td>United Kingdom</td>\n",
       "      <td>51.482005</td>\n",
       "      <td>-0.239277</td>\n",
       "      <td>House</td>\n",
       "      <td>Entire home/apt</td>\n",
       "      <td>8</td>\n",
       "      <td>2.5</td>\n",
       "      <td>5.0</td>\n",
       "      <td>5.0</td>\n",
       "      <td>Real Bed</td>\n",
       "      <td>TV,Wireless Internet,Kitchen,Heating,Family/ki...</td>\n",
       "      <td>NaN</td>\n",
       "      <td>175.0</td>\n",
       "      <td>NaN</td>\n",
       "      <td>NaN</td>\n",
       "      <td>750.0</td>\n",
       "      <td>100.0</td>\n",
       "      <td>6</td>\n",
       "      <td>25</td>\n",
       "      <td>1</td>\n",
       "      <td>1125</td>\n",
       "      <td>8 months ago</td>\n",
       "      <td>NaN</td>\n",
       "      <td>0</td>\n",
       "      <td>0</td>\n",
       "      <td>0</td>\n",
       "      <td>0</td>\n",
       "      <td>2017-03-05</td>\n",
       "      <td>6</td>\n",
       "      <td>2016-07-11</td>\n",
       "      <td>2016-08-07</td>\n",
       "      <td>87.0</td>\n",
       "      <td>10.0</td>\n",
       "      <td>9.0</td>\n",
       "      <td>10.0</td>\n",
       "      <td>10.0</td>\n",
       "      <td>10.0</td>\n",
       "      <td>9.0</td>\n",
       "      <td>NaN</td>\n",
       "      <td>NaN</td>\n",
       "      <td>moderate</td>\n",
       "      <td>2.0</td>\n",
       "      <td>0.76</td>\n",
       "      <td>51.4820046166,-0.23927746504</td>\n",
       "      <td>Host Has Profile Pic,Is Location Exact</td>\n",
       "    </tr>\n",
       "    <tr>\n",
       "      <th>2</th>\n",
       "      <td>17524980</td>\n",
       "      <td>https://www.airbnb.com/rooms/17524980</td>\n",
       "      <td>20170304065726</td>\n",
       "      <td>2017-03-05</td>\n",
       "      <td>Modern &amp; Bright, Central Soho, 1 Bedroom Apart...</td>\n",
       "      <td>A nice compact one bedroom apartment that has ...</td>\n",
       "      <td>One Bedroom Apartment - Bedroom (Double Bed 14...</td>\n",
       "      <td>A nice compact one bedroom apartment that has ...</td>\n",
       "      <td>none</td>\n",
       "      <td>Central Soho. Oxford Street, Berwick Street, C...</td>\n",
       "      <td>- Central Location - Some Street Noise To Be e...</td>\n",
       "      <td>NaN</td>\n",
       "      <td>Whole Apartment Private Space</td>\n",
       "      <td>NaN</td>\n",
       "      <td>- Only 2 People Aloud Inside</td>\n",
       "      <td>https://a0.muscache.com/im/pictures/4d249664-8...</td>\n",
       "      <td>https://a0.muscache.com/im/pictures/4d249664-8...</td>\n",
       "      <td>https://public.opendatasoft.com/api/v2/catalog...</td>\n",
       "      <td>https://a0.muscache.com/im/pictures/4d249664-8...</td>\n",
       "      <td>51343611</td>\n",
       "      <td>https://www.airbnb.com/users/show/51343611</td>\n",
       "      <td>Bianca</td>\n",
       "      <td>2015-12-14</td>\n",
       "      <td>London, England, United Kingdom</td>\n",
       "      <td>Hello, very pleased to make your Airbnb acquai...</td>\n",
       "      <td>within an hour</td>\n",
       "      <td>90.0</td>\n",
       "      <td>NaN</td>\n",
       "      <td>https://a0.muscache.com/im/pictures/83c324c0-1...</td>\n",
       "      <td>https://a0.muscache.com/im/pictures/83c324c0-1...</td>\n",
       "      <td>Soho</td>\n",
       "      <td>10.0</td>\n",
       "      <td>10.0</td>\n",
       "      <td>email,phone,reviews,jumio</td>\n",
       "      <td>D'Arblay Street, London, England W1F, United K...</td>\n",
       "      <td>NaN</td>\n",
       "      <td>Westminster</td>\n",
       "      <td>NaN</td>\n",
       "      <td>London</td>\n",
       "      <td>England</td>\n",
       "      <td>W1F</td>\n",
       "      <td>London</td>\n",
       "      <td>London, United Kingdom</td>\n",
       "      <td>GB</td>\n",
       "      <td>United Kingdom</td>\n",
       "      <td>51.515792</td>\n",
       "      <td>-0.136332</td>\n",
       "      <td>Apartment</td>\n",
       "      <td>Entire home/apt</td>\n",
       "      <td>2</td>\n",
       "      <td>1.0</td>\n",
       "      <td>1.0</td>\n",
       "      <td>1.0</td>\n",
       "      <td>Real Bed</td>\n",
       "      <td>TV,Wireless Internet,Kitchen,Heating,Family/ki...</td>\n",
       "      <td>NaN</td>\n",
       "      <td>155.0</td>\n",
       "      <td>NaN</td>\n",
       "      <td>NaN</td>\n",
       "      <td>NaN</td>\n",
       "      <td>NaN</td>\n",
       "      <td>1</td>\n",
       "      <td>0</td>\n",
       "      <td>1</td>\n",
       "      <td>188</td>\n",
       "      <td>today</td>\n",
       "      <td>NaN</td>\n",
       "      <td>17</td>\n",
       "      <td>47</td>\n",
       "      <td>75</td>\n",
       "      <td>75</td>\n",
       "      <td>2017-03-05</td>\n",
       "      <td>0</td>\n",
       "      <td>NaN</td>\n",
       "      <td>NaN</td>\n",
       "      <td>NaN</td>\n",
       "      <td>NaN</td>\n",
       "      <td>NaN</td>\n",
       "      <td>NaN</td>\n",
       "      <td>NaN</td>\n",
       "      <td>NaN</td>\n",
       "      <td>NaN</td>\n",
       "      <td>NaN</td>\n",
       "      <td>NaN</td>\n",
       "      <td>strict</td>\n",
       "      <td>10.0</td>\n",
       "      <td>NaN</td>\n",
       "      <td>51.5157923128,-0.136332115026</td>\n",
       "      <td>Host Has Profile Pic,Host Identity Verified,In...</td>\n",
       "    </tr>\n",
       "    <tr>\n",
       "      <th>3</th>\n",
       "      <td>3150371</td>\n",
       "      <td>https://www.airbnb.com/rooms/3150371</td>\n",
       "      <td>20170407214119</td>\n",
       "      <td>2017-04-08</td>\n",
       "      <td>Double room + bathroom - La Latina</td>\n",
       "      <td>Double room with own bathroom in La Latina, in...</td>\n",
       "      <td>The apartment is spacious and cozy. It is 90 m...</td>\n",
       "      <td>Double room with own bathroom in La Latina, in...</td>\n",
       "      <td>none</td>\n",
       "      <td>La Latina is one of the most famous neighbourh...</td>\n",
       "      <td>NaN</td>\n",
       "      <td>The closest tube station is La Latina (line 5 ...</td>\n",
       "      <td>You can use the kitchen, the lounge, the terra...</td>\n",
       "      <td>The bedrooms are totally separated: one at one...</td>\n",
       "      <td>Care and respect are both required in the comm...</td>\n",
       "      <td>https://a0.muscache.com/im/pictures/40713802/3...</td>\n",
       "      <td>https://a0.muscache.com/im/pictures/40713802/3...</td>\n",
       "      <td>https://public.opendatasoft.com/api/v2/catalog...</td>\n",
       "      <td>https://a0.muscache.com/im/pictures/40713802/3...</td>\n",
       "      <td>11902716</td>\n",
       "      <td>https://www.airbnb.com/users/show/11902716</td>\n",
       "      <td>Daniel Y Ximena</td>\n",
       "      <td>2014-02-03</td>\n",
       "      <td>Madrid, Community of Madrid, Spain</td>\n",
       "      <td>Aficionados al cine, la música, los amigos, el...</td>\n",
       "      <td>within a day</td>\n",
       "      <td>100.0</td>\n",
       "      <td>NaN</td>\n",
       "      <td>https://a0.muscache.com/im/users/11902716/prof...</td>\n",
       "      <td>https://a0.muscache.com/im/users/11902716/prof...</td>\n",
       "      <td>Palacio</td>\n",
       "      <td>1.0</td>\n",
       "      <td>1.0</td>\n",
       "      <td>email,phone,reviews,jumio</td>\n",
       "      <td>Palacio, Madrid, Community of Madrid 28005, Spain</td>\n",
       "      <td>Palacio</td>\n",
       "      <td>Palacio</td>\n",
       "      <td>Centro</td>\n",
       "      <td>Madrid</td>\n",
       "      <td>Community of Madrid</td>\n",
       "      <td>28005</td>\n",
       "      <td>Madrid</td>\n",
       "      <td>Madrid, Spain</td>\n",
       "      <td>ES</td>\n",
       "      <td>Spain</td>\n",
       "      <td>40.410106</td>\n",
       "      <td>-3.714754</td>\n",
       "      <td>Apartment</td>\n",
       "      <td>Private room</td>\n",
       "      <td>2</td>\n",
       "      <td>1.0</td>\n",
       "      <td>1.0</td>\n",
       "      <td>1.0</td>\n",
       "      <td>Real Bed</td>\n",
       "      <td>TV,Internet,Wireless Internet,Kitchen,Doorman,...</td>\n",
       "      <td>NaN</td>\n",
       "      <td>36.0</td>\n",
       "      <td>NaN</td>\n",
       "      <td>NaN</td>\n",
       "      <td>NaN</td>\n",
       "      <td>NaN</td>\n",
       "      <td>1</td>\n",
       "      <td>0</td>\n",
       "      <td>2</td>\n",
       "      <td>1125</td>\n",
       "      <td>4 days ago</td>\n",
       "      <td>NaN</td>\n",
       "      <td>1</td>\n",
       "      <td>1</td>\n",
       "      <td>1</td>\n",
       "      <td>1</td>\n",
       "      <td>2017-04-07</td>\n",
       "      <td>80</td>\n",
       "      <td>2014-06-15</td>\n",
       "      <td>2017-04-01</td>\n",
       "      <td>98.0</td>\n",
       "      <td>10.0</td>\n",
       "      <td>10.0</td>\n",
       "      <td>10.0</td>\n",
       "      <td>10.0</td>\n",
       "      <td>10.0</td>\n",
       "      <td>10.0</td>\n",
       "      <td>NaN</td>\n",
       "      <td>NaN</td>\n",
       "      <td>flexible</td>\n",
       "      <td>1.0</td>\n",
       "      <td>2.33</td>\n",
       "      <td>40.4101060805,-3.71475403418</td>\n",
       "      <td>Host Has Profile Pic,Host Identity Verified,Is...</td>\n",
       "    </tr>\n",
       "    <tr>\n",
       "      <th>4</th>\n",
       "      <td>3378181</td>\n",
       "      <td>https://www.airbnb.com/rooms/3378181</td>\n",
       "      <td>20170407214119</td>\n",
       "      <td>2017-04-08</td>\n",
       "      <td>Ópera/Plz Mayor -- A/C, elevator</td>\n",
       "      <td>Old world charm meets modern comfort in our ne...</td>\n",
       "      <td>Designed with the traveler in mind, our one-be...</td>\n",
       "      <td>Old world charm meets modern comfort in our ne...</td>\n",
       "      <td>none</td>\n",
       "      <td>The neighborhood is steeped in history and clo...</td>\n",
       "      <td>NaN</td>\n",
       "      <td>The apartment is close to the Ópera metro stat...</td>\n",
       "      <td>The entire apartment is yours.</td>\n",
       "      <td>We are always available to answer questions an...</td>\n",
       "      <td>The Golden Rule shall apply always :) The apar...</td>\n",
       "      <td>https://a0.muscache.com/im/pictures/44239584/c...</td>\n",
       "      <td>https://a0.muscache.com/im/pictures/44239584/c...</td>\n",
       "      <td>https://public.opendatasoft.com/api/v2/catalog...</td>\n",
       "      <td>https://a0.muscache.com/im/pictures/44239584/c...</td>\n",
       "      <td>809083</td>\n",
       "      <td>https://www.airbnb.com/users/show/809083</td>\n",
       "      <td>Michael</td>\n",
       "      <td>2011-07-12</td>\n",
       "      <td>Madrid, Madrid, Spain</td>\n",
       "      <td>I'm a US expat who enjoys welcoming people fro...</td>\n",
       "      <td>within a day</td>\n",
       "      <td>94.0</td>\n",
       "      <td>NaN</td>\n",
       "      <td>https://a0.muscache.com/im/users/809083/profil...</td>\n",
       "      <td>https://a0.muscache.com/im/users/809083/profil...</td>\n",
       "      <td>Palacio</td>\n",
       "      <td>3.0</td>\n",
       "      <td>3.0</td>\n",
       "      <td>email,phone,facebook,reviews,jumio,work_email</td>\n",
       "      <td>Palacio, Madrid, Community of Madrid 28013, Spain</td>\n",
       "      <td>Palacio</td>\n",
       "      <td>Palacio</td>\n",
       "      <td>Centro</td>\n",
       "      <td>Madrid</td>\n",
       "      <td>Community of Madrid</td>\n",
       "      <td>28013</td>\n",
       "      <td>Madrid</td>\n",
       "      <td>Madrid, Spain</td>\n",
       "      <td>ES</td>\n",
       "      <td>Spain</td>\n",
       "      <td>40.416969</td>\n",
       "      <td>-3.709439</td>\n",
       "      <td>Apartment</td>\n",
       "      <td>Entire home/apt</td>\n",
       "      <td>2</td>\n",
       "      <td>1.0</td>\n",
       "      <td>1.0</td>\n",
       "      <td>1.0</td>\n",
       "      <td>Real Bed</td>\n",
       "      <td>TV,Wireless Internet,Air conditioning,Kitchen,...</td>\n",
       "      <td>NaN</td>\n",
       "      <td>85.0</td>\n",
       "      <td>600.0</td>\n",
       "      <td>1800.0</td>\n",
       "      <td>100.0</td>\n",
       "      <td>30.0</td>\n",
       "      <td>1</td>\n",
       "      <td>0</td>\n",
       "      <td>3</td>\n",
       "      <td>1125</td>\n",
       "      <td>5 days ago</td>\n",
       "      <td>NaN</td>\n",
       "      <td>12</td>\n",
       "      <td>32</td>\n",
       "      <td>45</td>\n",
       "      <td>320</td>\n",
       "      <td>2017-04-07</td>\n",
       "      <td>90</td>\n",
       "      <td>2014-07-09</td>\n",
       "      <td>2017-02-28</td>\n",
       "      <td>95.0</td>\n",
       "      <td>10.0</td>\n",
       "      <td>9.0</td>\n",
       "      <td>10.0</td>\n",
       "      <td>10.0</td>\n",
       "      <td>10.0</td>\n",
       "      <td>10.0</td>\n",
       "      <td>NaN</td>\n",
       "      <td>NaN</td>\n",
       "      <td>strict</td>\n",
       "      <td>2.0</td>\n",
       "      <td>2.69</td>\n",
       "      <td>40.4169688226,-3.70943892111</td>\n",
       "      <td>Host Has Profile Pic,Host Identity Verified,Is...</td>\n",
       "    </tr>\n",
       "  </tbody>\n",
       "</table>\n",
       "</div>"
      ],
      "text/plain": [
       "         ID                            Listing Url       Scrape ID  \\\n",
       "0  14712301  https://www.airbnb.com/rooms/14712301  20170304065726   \n",
       "1  12884849  https://www.airbnb.com/rooms/12884849  20170304065726   \n",
       "2  17524980  https://www.airbnb.com/rooms/17524980  20170304065726   \n",
       "3   3150371   https://www.airbnb.com/rooms/3150371  20170407214119   \n",
       "4   3378181   https://www.airbnb.com/rooms/3378181  20170407214119   \n",
       "\n",
       "  Last Scraped                                               Name  \\\n",
       "0   2017-03-04  Cozy Studio between Earls Court and Gloucester Rd   \n",
       "1   2017-03-05                       Five bedroom house in Barnes   \n",
       "2   2017-03-05  Modern & Bright, Central Soho, 1 Bedroom Apart...   \n",
       "3   2017-04-08                 Double room + bathroom - La Latina   \n",
       "4   2017-04-08                   Ópera/Plz Mayor -- A/C, elevator   \n",
       "\n",
       "                                             Summary  \\\n",
       "0  Located 1 minute away from Earls Court. It is ...   \n",
       "1  Lovely and spacious Edwardian house located on...   \n",
       "2  A nice compact one bedroom apartment that has ...   \n",
       "3  Double room with own bathroom in La Latina, in...   \n",
       "4  Old world charm meets modern comfort in our ne...   \n",
       "\n",
       "                                               Space  \\\n",
       "0                                                NaN   \n",
       "1  The house is spacious with approx 225 sq. of l...   \n",
       "2  One Bedroom Apartment - Bedroom (Double Bed 14...   \n",
       "3  The apartment is spacious and cozy. It is 90 m...   \n",
       "4  Designed with the traveler in mind, our one-be...   \n",
       "\n",
       "                                         Description Experiences Offered  \\\n",
       "0  Located 1 minute away from Earls Court. It is ...                none   \n",
       "1  Lovely and spacious Edwardian house located on...                none   \n",
       "2  A nice compact one bedroom apartment that has ...                none   \n",
       "3  Double room with own bathroom in La Latina, in...                none   \n",
       "4  Old world charm meets modern comfort in our ne...                none   \n",
       "\n",
       "                               Neighborhood Overview  \\\n",
       "0                                                NaN   \n",
       "1                           Quiet residential street   \n",
       "2  Central Soho. Oxford Street, Berwick Street, C...   \n",
       "3  La Latina is one of the most famous neighbourh...   \n",
       "4  The neighborhood is steeped in history and clo...   \n",
       "\n",
       "                                               Notes  \\\n",
       "0                                                NaN   \n",
       "1                                                NaN   \n",
       "2  - Central Location - Some Street Noise To Be e...   \n",
       "3                                                NaN   \n",
       "4                                                NaN   \n",
       "\n",
       "                                             Transit  \\\n",
       "0                                                NaN   \n",
       "1  The house is located three minutes walk from t...   \n",
       "2                                                NaN   \n",
       "3  The closest tube station is La Latina (line 5 ...   \n",
       "4  The apartment is close to the Ópera metro stat...   \n",
       "\n",
       "                                              Access  \\\n",
       "0                                                NaN   \n",
       "1  Guests will have access to all rooms, as desir...   \n",
       "2                      Whole Apartment Private Space   \n",
       "3  You can use the kitchen, the lounge, the terra...   \n",
       "4                     The entire apartment is yours.   \n",
       "\n",
       "                                         Interaction  \\\n",
       "0                                                NaN   \n",
       "1  We will be away but will make ourselves availa...   \n",
       "2                                                NaN   \n",
       "3  The bedrooms are totally separated: one at one...   \n",
       "4  We are always available to answer questions an...   \n",
       "\n",
       "                                         House Rules  \\\n",
       "0                                                NaN   \n",
       "1                                                NaN   \n",
       "2                       - Only 2 People Aloud Inside   \n",
       "3  Care and respect are both required in the comm...   \n",
       "4  The Golden Rule shall apply always :) The apar...   \n",
       "\n",
       "                                       Thumbnail Url  \\\n",
       "0                                                NaN   \n",
       "1  https://a0.muscache.com/im/pictures/9b3adacb-1...   \n",
       "2  https://a0.muscache.com/im/pictures/4d249664-8...   \n",
       "3  https://a0.muscache.com/im/pictures/40713802/3...   \n",
       "4  https://a0.muscache.com/im/pictures/44239584/c...   \n",
       "\n",
       "                                          Medium Url  \\\n",
       "0                                                NaN   \n",
       "1  https://a0.muscache.com/im/pictures/9b3adacb-1...   \n",
       "2  https://a0.muscache.com/im/pictures/4d249664-8...   \n",
       "3  https://a0.muscache.com/im/pictures/40713802/3...   \n",
       "4  https://a0.muscache.com/im/pictures/44239584/c...   \n",
       "\n",
       "                                         Picture Url  \\\n",
       "0  https://public.opendatasoft.com/api/v2/catalog...   \n",
       "1  https://public.opendatasoft.com/api/v2/catalog...   \n",
       "2  https://public.opendatasoft.com/api/v2/catalog...   \n",
       "3  https://public.opendatasoft.com/api/v2/catalog...   \n",
       "4  https://public.opendatasoft.com/api/v2/catalog...   \n",
       "\n",
       "                                      XL Picture Url   Host ID  \\\n",
       "0                                                NaN   7232618   \n",
       "1  https://a0.muscache.com/im/pictures/9b3adacb-1...  19959228   \n",
       "2  https://a0.muscache.com/im/pictures/4d249664-8...  51343611   \n",
       "3  https://a0.muscache.com/im/pictures/40713802/3...  11902716   \n",
       "4  https://a0.muscache.com/im/pictures/44239584/c...    809083   \n",
       "\n",
       "                                     Host URL        Host Name  Host Since  \\\n",
       "0   https://www.airbnb.com/users/show/7232618            Iñigo  2013-07-02   \n",
       "1  https://www.airbnb.com/users/show/19959228          Susanna  2014-08-13   \n",
       "2  https://www.airbnb.com/users/show/51343611           Bianca  2015-12-14   \n",
       "3  https://www.airbnb.com/users/show/11902716  Daniel Y Ximena  2014-02-03   \n",
       "4    https://www.airbnb.com/users/show/809083          Michael  2011-07-12   \n",
       "\n",
       "                        Host Location  \\\n",
       "0  Madrid, Community of Madrid, Spain   \n",
       "1                                  GB   \n",
       "2     London, England, United Kingdom   \n",
       "3  Madrid, Community of Madrid, Spain   \n",
       "4               Madrid, Madrid, Spain   \n",
       "\n",
       "                                          Host About  Host Response Time  \\\n",
       "0                            Spanish, I love sports.  within a few hours   \n",
       "1                                                NaN                 NaN   \n",
       "2  Hello, very pleased to make your Airbnb acquai...      within an hour   \n",
       "3  Aficionados al cine, la música, los amigos, el...        within a day   \n",
       "4  I'm a US expat who enjoys welcoming people fro...        within a day   \n",
       "\n",
       "   Host Response Rate Host Acceptance Rate  \\\n",
       "0               100.0                  NaN   \n",
       "1                 NaN                  NaN   \n",
       "2                90.0                  NaN   \n",
       "3               100.0                  NaN   \n",
       "4                94.0                  NaN   \n",
       "\n",
       "                                  Host Thumbnail Url  \\\n",
       "0  https://a0.muscache.com/im/users/7232618/profi...   \n",
       "1  https://a0.muscache.com/im/pictures/76a0b9a0-9...   \n",
       "2  https://a0.muscache.com/im/pictures/83c324c0-1...   \n",
       "3  https://a0.muscache.com/im/users/11902716/prof...   \n",
       "4  https://a0.muscache.com/im/users/809083/profil...   \n",
       "\n",
       "                                    Host Picture Url Host Neighbourhood  \\\n",
       "0  https://a0.muscache.com/im/users/7232618/profi...                NaN   \n",
       "1  https://a0.muscache.com/im/pictures/76a0b9a0-9...   Westbourne Green   \n",
       "2  https://a0.muscache.com/im/pictures/83c324c0-1...               Soho   \n",
       "3  https://a0.muscache.com/im/users/11902716/prof...            Palacio   \n",
       "4  https://a0.muscache.com/im/users/809083/profil...            Palacio   \n",
       "\n",
       "   Host Listings Count  Host Total Listings Count  \\\n",
       "0                  1.0                        1.0   \n",
       "1                  2.0                        2.0   \n",
       "2                 10.0                       10.0   \n",
       "3                  1.0                        1.0   \n",
       "4                  3.0                        3.0   \n",
       "\n",
       "                              Host Verifications  \\\n",
       "0        email,phone,reviews,jumio,government_id   \n",
       "1                            email,phone,reviews   \n",
       "2                      email,phone,reviews,jumio   \n",
       "3                      email,phone,reviews,jumio   \n",
       "4  email,phone,facebook,reviews,jumio,work_email   \n",
       "\n",
       "                                              Street  \\\n",
       "0  Bramham Gardens, London, England SW5 0HG, Unit...   \n",
       "1      Madrid Road, London, SW13 9PG, United Kingdom   \n",
       "2  D'Arblay Street, London, England W1F, United K...   \n",
       "3  Palacio, Madrid, Community of Madrid 28005, Spain   \n",
       "4  Palacio, Madrid, Community of Madrid 28013, Spain   \n",
       "\n",
       "                Neighbourhood  Neighbourhood Cleansed  \\\n",
       "0                         NaN  Kensington and Chelsea   \n",
       "1  LB of Richmond upon Thames    Richmond upon Thames   \n",
       "2                         NaN             Westminster   \n",
       "3                     Palacio                 Palacio   \n",
       "4                     Palacio                 Palacio   \n",
       "\n",
       "  Neighbourhood Group Cleansed    City                State   Zipcode  Market  \\\n",
       "0                          NaN  London              England   SW5 0HG  London   \n",
       "1                          NaN  London                  NaN  SW13 9PG  London   \n",
       "2                          NaN  London              England       W1F  London   \n",
       "3                       Centro  Madrid  Community of Madrid     28005  Madrid   \n",
       "4                       Centro  Madrid  Community of Madrid     28013  Madrid   \n",
       "\n",
       "           Smart Location Country Code         Country   Latitude  Longitude  \\\n",
       "0  London, United Kingdom           GB  United Kingdom  51.492474  -0.188628   \n",
       "1  London, United Kingdom           GB  United Kingdom  51.482005  -0.239277   \n",
       "2  London, United Kingdom           GB  United Kingdom  51.515792  -0.136332   \n",
       "3           Madrid, Spain           ES           Spain  40.410106  -3.714754   \n",
       "4           Madrid, Spain           ES           Spain  40.416969  -3.709439   \n",
       "\n",
       "  Property Type        Room Type  Accommodates  Bathrooms  Bedrooms  Beds  \\\n",
       "0     Apartment  Entire home/apt             1        1.0       1.0   1.0   \n",
       "1         House  Entire home/apt             8        2.5       5.0   5.0   \n",
       "2     Apartment  Entire home/apt             2        1.0       1.0   1.0   \n",
       "3     Apartment     Private room             2        1.0       1.0   1.0   \n",
       "4     Apartment  Entire home/apt             2        1.0       1.0   1.0   \n",
       "\n",
       "   Bed Type                                          Amenities  Square Feet  \\\n",
       "0  Real Bed  Wireless Internet,Kitchen,Smoking allowed,Heat...          NaN   \n",
       "1  Real Bed  TV,Wireless Internet,Kitchen,Heating,Family/ki...          NaN   \n",
       "2  Real Bed  TV,Wireless Internet,Kitchen,Heating,Family/ki...          NaN   \n",
       "3  Real Bed  TV,Internet,Wireless Internet,Kitchen,Doorman,...          NaN   \n",
       "4  Real Bed  TV,Wireless Internet,Air conditioning,Kitchen,...          NaN   \n",
       "\n",
       "   Price  Weekly Price  Monthly Price  Security Deposit  Cleaning Fee  \\\n",
       "0   50.0           NaN            NaN             100.0          30.0   \n",
       "1  175.0           NaN            NaN             750.0         100.0   \n",
       "2  155.0           NaN            NaN               NaN           NaN   \n",
       "3   36.0           NaN            NaN               NaN           NaN   \n",
       "4   85.0         600.0         1800.0             100.0          30.0   \n",
       "\n",
       "   Guests Included  Extra People  Minimum Nights  Maximum Nights  \\\n",
       "0                1            20               5              49   \n",
       "1                6            25               1            1125   \n",
       "2                1             0               1             188   \n",
       "3                1             0               2            1125   \n",
       "4                1             0               3            1125   \n",
       "\n",
       "  Calendar Updated Has Availability  Availability 30  Availability 60  \\\n",
       "0     3 months ago              NaN                3               16   \n",
       "1     8 months ago              NaN                0                0   \n",
       "2            today              NaN               17               47   \n",
       "3       4 days ago              NaN                1                1   \n",
       "4       5 days ago              NaN               12               32   \n",
       "\n",
       "   Availability 90  Availability 365 Calendar last Scraped  Number of Reviews  \\\n",
       "0               16               169            2017-03-04                  2   \n",
       "1                0                 0            2017-03-05                  6   \n",
       "2               75                75            2017-03-05                  0   \n",
       "3                1                 1            2017-04-07                 80   \n",
       "4               45               320            2017-04-07                 90   \n",
       "\n",
       "  First Review Last Review  Review Scores Rating  Review Scores Accuracy  \\\n",
       "0   2016-09-09  2016-09-29                  90.0                    10.0   \n",
       "1   2016-07-11  2016-08-07                  87.0                    10.0   \n",
       "2          NaN         NaN                   NaN                     NaN   \n",
       "3   2014-06-15  2017-04-01                  98.0                    10.0   \n",
       "4   2014-07-09  2017-02-28                  95.0                    10.0   \n",
       "\n",
       "   Review Scores Cleanliness  Review Scores Checkin  \\\n",
       "0                       10.0                    9.0   \n",
       "1                        9.0                   10.0   \n",
       "2                        NaN                    NaN   \n",
       "3                       10.0                   10.0   \n",
       "4                        9.0                   10.0   \n",
       "\n",
       "   Review Scores Communication  Review Scores Location  Review Scores Value  \\\n",
       "0                          9.0                     9.0                 10.0   \n",
       "1                         10.0                    10.0                  9.0   \n",
       "2                          NaN                     NaN                  NaN   \n",
       "3                         10.0                    10.0                 10.0   \n",
       "4                         10.0                    10.0                 10.0   \n",
       "\n",
       "  License Jurisdiction Names Cancellation Policy  \\\n",
       "0     NaN                NaN              strict   \n",
       "1     NaN                NaN            moderate   \n",
       "2     NaN                NaN              strict   \n",
       "3     NaN                NaN            flexible   \n",
       "4     NaN                NaN              strict   \n",
       "\n",
       "   Calculated host listings count  Reviews per Month  \\\n",
       "0                             1.0               0.34   \n",
       "1                             2.0               0.76   \n",
       "2                            10.0                NaN   \n",
       "3                             1.0               2.33   \n",
       "4                             2.0               2.69   \n",
       "\n",
       "                     Geolocation  \\\n",
       "0  51.4924740202,-0.188628400994   \n",
       "1   51.4820046166,-0.23927746504   \n",
       "2  51.5157923128,-0.136332115026   \n",
       "3   40.4101060805,-3.71475403418   \n",
       "4   40.4169688226,-3.70943892111   \n",
       "\n",
       "                                            Features  \n",
       "0        Host Has Profile Pic,Host Identity Verified  \n",
       "1             Host Has Profile Pic,Is Location Exact  \n",
       "2  Host Has Profile Pic,Host Identity Verified,In...  \n",
       "3  Host Has Profile Pic,Host Identity Verified,Is...  \n",
       "4  Host Has Profile Pic,Host Identity Verified,Is...  "
      ]
     },
     "execution_count": 6,
     "metadata": {},
     "output_type": "execute_result"
    }
   ],
   "source": [
    "pd.set_option('max_columns', None)\n",
    "data.head()"
   ]
  },
  {
   "cell_type": "markdown",
   "metadata": {},
   "source": [
    "Después de revisar la información por columnas, se eliminan las primeras variables consideradas irrelevantes para el modelo. Entiendo que no las últimas."
   ]
  },
  {
   "cell_type": "code",
   "execution_count": 7,
   "metadata": {},
   "outputs": [],
   "source": [
    "data = data.drop(['ID','Listing Url','Scrape ID','Last Scraped','Summary','Space','Description','Experiences Offered','Notes','Transit','Access','Medium Url','Picture Url','House Rules','XL Picture Url','Host ID','Host URL','Host Name','Host Since','Host Location','Host About','Host Response Time','Host Thumbnail Url','Host Picture Url','Host Verifications','Street','Neighbourhood','Neighbourhood Group Cleansed','State','Zipcode','Country Code','Country','Weekly Price','Monthly Price','Maximum Nights','Calendar Updated','Has Availability','Availability 30','Availability 60','Availability 90','Availability 365','First Review','Last Review','License','Jurisdiction Names'],axis=1)\n"
   ]
  },
  {
   "cell_type": "markdown",
   "metadata": {},
   "source": [
    "Por no repetir aquí las comprobaciones realizadas en el módulo de Machine Learnind, sobre este mismo dataset, mediante correlaciones o conteo de valores, para determinar la irrelevancia de ciertas columnas, procedemos directamente a limpiar aquellas que entendemos son irrelevantes para nuestro modelo."
   ]
  },
  {
   "cell_type": "code",
   "execution_count": 8,
   "metadata": {},
   "outputs": [],
   "source": [
    "data = data.drop(['Calculated host listings count','Host Total Listings Count','Host Neighbourhood', 'Host Response Rate','Latitude','Longitude','Geolocation', 'Review Scores Accuracy','Review Scores Cleanliness','Review Scores Checkin','Review Scores Communication','Review Scores Location','Review Scores Value', 'Reviews per Month','Guests Included', 'Calendar last Scraped','Cancellation Policy','Features'],axis=1)"
   ]
  },
  {
   "cell_type": "code",
   "execution_count": 9,
   "metadata": {},
   "outputs": [],
   "source": [
    "data['Square Meters'] = data['Square Feet'].apply(lambda x: x * 0.3048 * 0.3048)"
   ]
  },
  {
   "cell_type": "code",
   "execution_count": 10,
   "metadata": {},
   "outputs": [],
   "source": [
    "data = data.drop(['Square Feet'],axis=1)"
   ]
  },
  {
   "cell_type": "code",
   "execution_count": 11,
   "metadata": {},
   "outputs": [],
   "source": [
    "data = data.drop(['Interaction','City','Smart Location'],axis=1)"
   ]
  },
  {
   "cell_type": "code",
   "execution_count": 12,
   "metadata": {},
   "outputs": [
    {
     "data": {
      "text/html": [
       "<div>\n",
       "<style scoped>\n",
       "    .dataframe tbody tr th:only-of-type {\n",
       "        vertical-align: middle;\n",
       "    }\n",
       "\n",
       "    .dataframe tbody tr th {\n",
       "        vertical-align: top;\n",
       "    }\n",
       "\n",
       "    .dataframe thead th {\n",
       "        text-align: right;\n",
       "    }\n",
       "</style>\n",
       "<table border=\"1\" class=\"dataframe\">\n",
       "  <thead>\n",
       "    <tr style=\"text-align: right;\">\n",
       "      <th></th>\n",
       "      <th>Name</th>\n",
       "      <th>Neighborhood Overview</th>\n",
       "      <th>Thumbnail Url</th>\n",
       "      <th>Host Acceptance Rate</th>\n",
       "      <th>Host Listings Count</th>\n",
       "      <th>Neighbourhood Cleansed</th>\n",
       "      <th>Market</th>\n",
       "      <th>Property Type</th>\n",
       "      <th>Room Type</th>\n",
       "      <th>Accommodates</th>\n",
       "      <th>Bathrooms</th>\n",
       "      <th>Bedrooms</th>\n",
       "      <th>Beds</th>\n",
       "      <th>Bed Type</th>\n",
       "      <th>Amenities</th>\n",
       "      <th>Price</th>\n",
       "      <th>Security Deposit</th>\n",
       "      <th>Cleaning Fee</th>\n",
       "      <th>Extra People</th>\n",
       "      <th>Minimum Nights</th>\n",
       "      <th>Number of Reviews</th>\n",
       "      <th>Review Scores Rating</th>\n",
       "      <th>Square Meters</th>\n",
       "    </tr>\n",
       "  </thead>\n",
       "  <tbody>\n",
       "    <tr>\n",
       "      <th>0</th>\n",
       "      <td>Cozy Studio between Earls Court and Gloucester Rd</td>\n",
       "      <td>NaN</td>\n",
       "      <td>NaN</td>\n",
       "      <td>NaN</td>\n",
       "      <td>1.0</td>\n",
       "      <td>Kensington and Chelsea</td>\n",
       "      <td>London</td>\n",
       "      <td>Apartment</td>\n",
       "      <td>Entire home/apt</td>\n",
       "      <td>1</td>\n",
       "      <td>1.0</td>\n",
       "      <td>1.0</td>\n",
       "      <td>1.0</td>\n",
       "      <td>Real Bed</td>\n",
       "      <td>Wireless Internet,Kitchen,Smoking allowed,Heat...</td>\n",
       "      <td>50.0</td>\n",
       "      <td>100.0</td>\n",
       "      <td>30.0</td>\n",
       "      <td>20</td>\n",
       "      <td>5</td>\n",
       "      <td>2</td>\n",
       "      <td>90.0</td>\n",
       "      <td>NaN</td>\n",
       "    </tr>\n",
       "    <tr>\n",
       "      <th>1</th>\n",
       "      <td>Five bedroom house in Barnes</td>\n",
       "      <td>Quiet residential street</td>\n",
       "      <td>https://a0.muscache.com/im/pictures/9b3adacb-1...</td>\n",
       "      <td>NaN</td>\n",
       "      <td>2.0</td>\n",
       "      <td>Richmond upon Thames</td>\n",
       "      <td>London</td>\n",
       "      <td>House</td>\n",
       "      <td>Entire home/apt</td>\n",
       "      <td>8</td>\n",
       "      <td>2.5</td>\n",
       "      <td>5.0</td>\n",
       "      <td>5.0</td>\n",
       "      <td>Real Bed</td>\n",
       "      <td>TV,Wireless Internet,Kitchen,Heating,Family/ki...</td>\n",
       "      <td>175.0</td>\n",
       "      <td>750.0</td>\n",
       "      <td>100.0</td>\n",
       "      <td>25</td>\n",
       "      <td>1</td>\n",
       "      <td>6</td>\n",
       "      <td>87.0</td>\n",
       "      <td>NaN</td>\n",
       "    </tr>\n",
       "    <tr>\n",
       "      <th>2</th>\n",
       "      <td>Modern &amp; Bright, Central Soho, 1 Bedroom Apart...</td>\n",
       "      <td>Central Soho. Oxford Street, Berwick Street, C...</td>\n",
       "      <td>https://a0.muscache.com/im/pictures/4d249664-8...</td>\n",
       "      <td>NaN</td>\n",
       "      <td>10.0</td>\n",
       "      <td>Westminster</td>\n",
       "      <td>London</td>\n",
       "      <td>Apartment</td>\n",
       "      <td>Entire home/apt</td>\n",
       "      <td>2</td>\n",
       "      <td>1.0</td>\n",
       "      <td>1.0</td>\n",
       "      <td>1.0</td>\n",
       "      <td>Real Bed</td>\n",
       "      <td>TV,Wireless Internet,Kitchen,Heating,Family/ki...</td>\n",
       "      <td>155.0</td>\n",
       "      <td>NaN</td>\n",
       "      <td>NaN</td>\n",
       "      <td>0</td>\n",
       "      <td>1</td>\n",
       "      <td>0</td>\n",
       "      <td>NaN</td>\n",
       "      <td>NaN</td>\n",
       "    </tr>\n",
       "    <tr>\n",
       "      <th>3</th>\n",
       "      <td>Double room + bathroom - La Latina</td>\n",
       "      <td>La Latina is one of the most famous neighbourh...</td>\n",
       "      <td>https://a0.muscache.com/im/pictures/40713802/3...</td>\n",
       "      <td>NaN</td>\n",
       "      <td>1.0</td>\n",
       "      <td>Palacio</td>\n",
       "      <td>Madrid</td>\n",
       "      <td>Apartment</td>\n",
       "      <td>Private room</td>\n",
       "      <td>2</td>\n",
       "      <td>1.0</td>\n",
       "      <td>1.0</td>\n",
       "      <td>1.0</td>\n",
       "      <td>Real Bed</td>\n",
       "      <td>TV,Internet,Wireless Internet,Kitchen,Doorman,...</td>\n",
       "      <td>36.0</td>\n",
       "      <td>NaN</td>\n",
       "      <td>NaN</td>\n",
       "      <td>0</td>\n",
       "      <td>2</td>\n",
       "      <td>80</td>\n",
       "      <td>98.0</td>\n",
       "      <td>NaN</td>\n",
       "    </tr>\n",
       "    <tr>\n",
       "      <th>4</th>\n",
       "      <td>Ópera/Plz Mayor -- A/C, elevator</td>\n",
       "      <td>The neighborhood is steeped in history and clo...</td>\n",
       "      <td>https://a0.muscache.com/im/pictures/44239584/c...</td>\n",
       "      <td>NaN</td>\n",
       "      <td>3.0</td>\n",
       "      <td>Palacio</td>\n",
       "      <td>Madrid</td>\n",
       "      <td>Apartment</td>\n",
       "      <td>Entire home/apt</td>\n",
       "      <td>2</td>\n",
       "      <td>1.0</td>\n",
       "      <td>1.0</td>\n",
       "      <td>1.0</td>\n",
       "      <td>Real Bed</td>\n",
       "      <td>TV,Wireless Internet,Air conditioning,Kitchen,...</td>\n",
       "      <td>85.0</td>\n",
       "      <td>100.0</td>\n",
       "      <td>30.0</td>\n",
       "      <td>0</td>\n",
       "      <td>3</td>\n",
       "      <td>90</td>\n",
       "      <td>95.0</td>\n",
       "      <td>NaN</td>\n",
       "    </tr>\n",
       "  </tbody>\n",
       "</table>\n",
       "</div>"
      ],
      "text/plain": [
       "                                                Name  \\\n",
       "0  Cozy Studio between Earls Court and Gloucester Rd   \n",
       "1                       Five bedroom house in Barnes   \n",
       "2  Modern & Bright, Central Soho, 1 Bedroom Apart...   \n",
       "3                 Double room + bathroom - La Latina   \n",
       "4                   Ópera/Plz Mayor -- A/C, elevator   \n",
       "\n",
       "                               Neighborhood Overview  \\\n",
       "0                                                NaN   \n",
       "1                           Quiet residential street   \n",
       "2  Central Soho. Oxford Street, Berwick Street, C...   \n",
       "3  La Latina is one of the most famous neighbourh...   \n",
       "4  The neighborhood is steeped in history and clo...   \n",
       "\n",
       "                                       Thumbnail Url Host Acceptance Rate  \\\n",
       "0                                                NaN                  NaN   \n",
       "1  https://a0.muscache.com/im/pictures/9b3adacb-1...                  NaN   \n",
       "2  https://a0.muscache.com/im/pictures/4d249664-8...                  NaN   \n",
       "3  https://a0.muscache.com/im/pictures/40713802/3...                  NaN   \n",
       "4  https://a0.muscache.com/im/pictures/44239584/c...                  NaN   \n",
       "\n",
       "   Host Listings Count  Neighbourhood Cleansed  Market Property Type  \\\n",
       "0                  1.0  Kensington and Chelsea  London     Apartment   \n",
       "1                  2.0    Richmond upon Thames  London         House   \n",
       "2                 10.0             Westminster  London     Apartment   \n",
       "3                  1.0                 Palacio  Madrid     Apartment   \n",
       "4                  3.0                 Palacio  Madrid     Apartment   \n",
       "\n",
       "         Room Type  Accommodates  Bathrooms  Bedrooms  Beds  Bed Type  \\\n",
       "0  Entire home/apt             1        1.0       1.0   1.0  Real Bed   \n",
       "1  Entire home/apt             8        2.5       5.0   5.0  Real Bed   \n",
       "2  Entire home/apt             2        1.0       1.0   1.0  Real Bed   \n",
       "3     Private room             2        1.0       1.0   1.0  Real Bed   \n",
       "4  Entire home/apt             2        1.0       1.0   1.0  Real Bed   \n",
       "\n",
       "                                           Amenities  Price  Security Deposit  \\\n",
       "0  Wireless Internet,Kitchen,Smoking allowed,Heat...   50.0             100.0   \n",
       "1  TV,Wireless Internet,Kitchen,Heating,Family/ki...  175.0             750.0   \n",
       "2  TV,Wireless Internet,Kitchen,Heating,Family/ki...  155.0               NaN   \n",
       "3  TV,Internet,Wireless Internet,Kitchen,Doorman,...   36.0               NaN   \n",
       "4  TV,Wireless Internet,Air conditioning,Kitchen,...   85.0             100.0   \n",
       "\n",
       "   Cleaning Fee  Extra People  Minimum Nights  Number of Reviews  \\\n",
       "0          30.0            20               5                  2   \n",
       "1         100.0            25               1                  6   \n",
       "2           NaN             0               1                  0   \n",
       "3           NaN             0               2                 80   \n",
       "4          30.0             0               3                 90   \n",
       "\n",
       "   Review Scores Rating  Square Meters  \n",
       "0                  90.0            NaN  \n",
       "1                  87.0            NaN  \n",
       "2                   NaN            NaN  \n",
       "3                  98.0            NaN  \n",
       "4                  95.0            NaN  "
      ]
     },
     "execution_count": 12,
     "metadata": {},
     "output_type": "execute_result"
    }
   ],
   "source": [
    "data.head()"
   ]
  },
  {
   "cell_type": "markdown",
   "metadata": {},
   "source": [
    "Nos quedamos con la variable _Market_ al ser la que más registros de Madrid tenía (Más que _City_ o _Smart Location_). En _Market_ observamos que hay registros que no pertenecen a Madrid, son mínimos, pero perjudicarían nuestro modelo."
   ]
  },
  {
   "cell_type": "code",
   "execution_count": 13,
   "metadata": {},
   "outputs": [
    {
     "name": "stdout",
     "output_type": "stream",
     "text": [
      "57\n",
      "13274\n"
     ]
    }
   ],
   "source": [
    "print(data.Market.isna().sum())\n",
    "print((data['Market'] == 'Madrid').sum())"
   ]
  },
  {
   "cell_type": "markdown",
   "metadata": {},
   "source": [
    "Hay *57* NA, que probablemente podamos identificar como registros de _Madrid_ a través de la columna _Barrio_ , así que no los descartamos."
   ]
  },
  {
   "cell_type": "markdown",
   "metadata": {},
   "source": [
    "Actualizamos el dataset a estos valores y comprobamos que los registros *Madrid* y *NA* de _Market_ coinciden con la longitud del dataset."
   ]
  },
  {
   "cell_type": "code",
   "execution_count": 14,
   "metadata": {},
   "outputs": [
    {
     "data": {
      "text/plain": [
       "True"
      ]
     },
     "execution_count": 14,
     "metadata": {},
     "output_type": "execute_result"
    }
   ],
   "source": [
    "data = data[(data['Market'] == 'Madrid') | (data['Market'].isna())]\n",
    "data['Market'].value_counts().sum() + data['Market'].isna().sum() == data.shape[0]"
   ]
  },
  {
   "cell_type": "markdown",
   "metadata": {},
   "source": [
    "Hemos decidido que _Neighbourhood Cleansed_ sea la variable más óptima para conocer el barrio. Identificamos a qué barrios se refieren los _NA_ de _Market_ ."
   ]
  },
  {
   "cell_type": "code",
   "execution_count": 15,
   "metadata": {},
   "outputs": [
    {
     "data": {
      "text/plain": [
       "Cortes                  30\n",
       "Universidad              3\n",
       "San Diego                2\n",
       "Guindalera               2\n",
       "Hispanoamérica           2\n",
       "Ealing                   1\n",
       "Bellas Vistas            1\n",
       "Frederiksberg            1\n",
       "Palos de Moguer          1\n",
       "Delicias                 1\n",
       "Palacio                  1\n",
       "Justicia                 1\n",
       "Commune de Genève        1\n",
       "Haringey                 1\n",
       "Ciudad Universitaria     1\n",
       "Gaztambide               1\n",
       "Popincourt               1\n",
       "Ibiza                    1\n",
       "ΝΕΟΣ ΚΟΣΜΟΣ              1\n",
       "Argüelles                1\n",
       "Arapiles                 1\n",
       "Little Italy             1\n",
       "Castillejos              1\n",
       "Name: Neighbourhood Cleansed, dtype: int64"
      ]
     },
     "execution_count": 15,
     "metadata": {},
     "output_type": "execute_result"
    }
   ],
   "source": [
    "data[(data['Market'].isna())]['Neighbourhood Cleansed'].value_counts()"
   ]
  },
  {
   "cell_type": "code",
   "execution_count": 16,
   "metadata": {},
   "outputs": [],
   "source": [
    "data[data['Neighbourhood Cleansed'].str.contains('Cortes')] = data[data['Neighbourhood Cleansed'].str.contains('Cortes')].fillna('Madrid')"
   ]
  },
  {
   "cell_type": "code",
   "execution_count": 17,
   "metadata": {},
   "outputs": [],
   "source": [
    "data[data['Neighbourhood Cleansed'].str.contains('Universidad')] = data[data['Neighbourhood Cleansed'].str.contains('Universidad')].fillna('Madrid')"
   ]
  },
  {
   "cell_type": "code",
   "execution_count": 18,
   "metadata": {},
   "outputs": [],
   "source": [
    "data[data['Neighbourhood Cleansed'].str.contains('Hispanoamérica')] = data[data['Neighbourhood Cleansed'].str.contains('Hispanoamérica')].fillna('Madrid')"
   ]
  },
  {
   "cell_type": "code",
   "execution_count": 19,
   "metadata": {},
   "outputs": [],
   "source": [
    "data[data['Neighbourhood Cleansed'].str.contains('San Diego')] = data[data['Neighbourhood Cleansed'].str.contains('San Diego')].fillna('Madrid')"
   ]
  },
  {
   "cell_type": "code",
   "execution_count": 20,
   "metadata": {},
   "outputs": [
    {
     "data": {
      "text/plain": [
       "Guindalera              2\n",
       "Justicia                1\n",
       "Ciudad Universitaria    1\n",
       "Bellas Vistas           1\n",
       "Frederiksberg           1\n",
       "Palos de Moguer         1\n",
       "Castillejos             1\n",
       "ΝΕΟΣ ΚΟΣΜΟΣ             1\n",
       "Palacio                 1\n",
       "Haringey                1\n",
       "Arapiles                1\n",
       "Delicias                1\n",
       "Gaztambide              1\n",
       "Popincourt              1\n",
       "Ibiza                   1\n",
       "Argüelles               1\n",
       "Ealing                  1\n",
       "Little Italy            1\n",
       "Commune de Genève       1\n",
       "Name: Neighbourhood Cleansed, dtype: int64"
      ]
     },
     "execution_count": 20,
     "metadata": {},
     "output_type": "execute_result"
    }
   ],
   "source": [
    "data[(data['Market'].isna())]['Neighbourhood Cleansed'].value_counts()"
   ]
  },
  {
   "cell_type": "markdown",
   "metadata": {},
   "source": [
    "Eliminamos los registros que no corresponden a barrios madrileños."
   ]
  },
  {
   "cell_type": "code",
   "execution_count": 21,
   "metadata": {},
   "outputs": [
    {
     "data": {
      "text/html": [
       "<div>\n",
       "<style scoped>\n",
       "    .dataframe tbody tr th:only-of-type {\n",
       "        vertical-align: middle;\n",
       "    }\n",
       "\n",
       "    .dataframe tbody tr th {\n",
       "        vertical-align: top;\n",
       "    }\n",
       "\n",
       "    .dataframe thead th {\n",
       "        text-align: right;\n",
       "    }\n",
       "</style>\n",
       "<table border=\"1\" class=\"dataframe\">\n",
       "  <thead>\n",
       "    <tr style=\"text-align: right;\">\n",
       "      <th></th>\n",
       "      <th>Name</th>\n",
       "      <th>Neighborhood Overview</th>\n",
       "      <th>Thumbnail Url</th>\n",
       "      <th>Host Acceptance Rate</th>\n",
       "      <th>Host Listings Count</th>\n",
       "      <th>Neighbourhood Cleansed</th>\n",
       "      <th>Market</th>\n",
       "      <th>Property Type</th>\n",
       "      <th>Room Type</th>\n",
       "      <th>Accommodates</th>\n",
       "      <th>Bathrooms</th>\n",
       "      <th>Bedrooms</th>\n",
       "      <th>Beds</th>\n",
       "      <th>Bed Type</th>\n",
       "      <th>Amenities</th>\n",
       "      <th>Price</th>\n",
       "      <th>Security Deposit</th>\n",
       "      <th>Cleaning Fee</th>\n",
       "      <th>Extra People</th>\n",
       "      <th>Minimum Nights</th>\n",
       "      <th>Number of Reviews</th>\n",
       "      <th>Review Scores Rating</th>\n",
       "      <th>Square Meters</th>\n",
       "    </tr>\n",
       "  </thead>\n",
       "  <tbody>\n",
       "    <tr>\n",
       "      <th>3214</th>\n",
       "      <td>Acropolis Modern Design Studio</td>\n",
       "      <td>Nearby attractions are: - Acropolis Museum (15...</td>\n",
       "      <td>https://a0.muscache.com/im/pictures/691b5606-d...</td>\n",
       "      <td>NaN</td>\n",
       "      <td>3.0</td>\n",
       "      <td>ΝΕΟΣ ΚΟΣΜΟΣ</td>\n",
       "      <td>NaN</td>\n",
       "      <td>Apartment</td>\n",
       "      <td>Entire home/apt</td>\n",
       "      <td>3</td>\n",
       "      <td>1.0</td>\n",
       "      <td>0.0</td>\n",
       "      <td>1.0</td>\n",
       "      <td>Real Bed</td>\n",
       "      <td>TV,Wireless Internet,Air conditioning,Kitchen,...</td>\n",
       "      <td>32.0</td>\n",
       "      <td>NaN</td>\n",
       "      <td>15.0</td>\n",
       "      <td>8</td>\n",
       "      <td>2</td>\n",
       "      <td>36</td>\n",
       "      <td>99.0</td>\n",
       "      <td>NaN</td>\n",
       "    </tr>\n",
       "  </tbody>\n",
       "</table>\n",
       "</div>"
      ],
      "text/plain": [
       "                                Name  \\\n",
       "3214  Acropolis Modern Design Studio   \n",
       "\n",
       "                                  Neighborhood Overview  \\\n",
       "3214  Nearby attractions are: - Acropolis Museum (15...   \n",
       "\n",
       "                                          Thumbnail Url Host Acceptance Rate  \\\n",
       "3214  https://a0.muscache.com/im/pictures/691b5606-d...                  NaN   \n",
       "\n",
       "     Host Listings Count Neighbourhood Cleansed Market Property Type  \\\n",
       "3214                 3.0            ΝΕΟΣ ΚΟΣΜΟΣ    NaN     Apartment   \n",
       "\n",
       "            Room Type  Accommodates Bathrooms Bedrooms Beds  Bed Type  \\\n",
       "3214  Entire home/apt             3       1.0      0.0  1.0  Real Bed   \n",
       "\n",
       "                                              Amenities Price  \\\n",
       "3214  TV,Wireless Internet,Air conditioning,Kitchen,...  32.0   \n",
       "\n",
       "     Security Deposit Cleaning Fee  Extra People  Minimum Nights  \\\n",
       "3214              NaN         15.0             8               2   \n",
       "\n",
       "      Number of Reviews Review Scores Rating Square Meters  \n",
       "3214                 36                 99.0           NaN  "
      ]
     },
     "execution_count": 21,
     "metadata": {},
     "output_type": "execute_result"
    }
   ],
   "source": [
    "data[data['Neighbourhood Cleansed'].str.contains('ΝΕΟΣ ΚΟΣΜΟΣ')]"
   ]
  },
  {
   "cell_type": "code",
   "execution_count": 22,
   "metadata": {},
   "outputs": [],
   "source": [
    "data = data.drop(3214, axis=0)"
   ]
  },
  {
   "cell_type": "code",
   "execution_count": 23,
   "metadata": {},
   "outputs": [
    {
     "data": {
      "text/html": [
       "<div>\n",
       "<style scoped>\n",
       "    .dataframe tbody tr th:only-of-type {\n",
       "        vertical-align: middle;\n",
       "    }\n",
       "\n",
       "    .dataframe tbody tr th {\n",
       "        vertical-align: top;\n",
       "    }\n",
       "\n",
       "    .dataframe thead th {\n",
       "        text-align: right;\n",
       "    }\n",
       "</style>\n",
       "<table border=\"1\" class=\"dataframe\">\n",
       "  <thead>\n",
       "    <tr style=\"text-align: right;\">\n",
       "      <th></th>\n",
       "      <th>Name</th>\n",
       "      <th>Neighborhood Overview</th>\n",
       "      <th>Thumbnail Url</th>\n",
       "      <th>Host Acceptance Rate</th>\n",
       "      <th>Host Listings Count</th>\n",
       "      <th>Neighbourhood Cleansed</th>\n",
       "      <th>Market</th>\n",
       "      <th>Property Type</th>\n",
       "      <th>Room Type</th>\n",
       "      <th>Accommodates</th>\n",
       "      <th>Bathrooms</th>\n",
       "      <th>Bedrooms</th>\n",
       "      <th>Beds</th>\n",
       "      <th>Bed Type</th>\n",
       "      <th>Amenities</th>\n",
       "      <th>Price</th>\n",
       "      <th>Security Deposit</th>\n",
       "      <th>Cleaning Fee</th>\n",
       "      <th>Extra People</th>\n",
       "      <th>Minimum Nights</th>\n",
       "      <th>Number of Reviews</th>\n",
       "      <th>Review Scores Rating</th>\n",
       "      <th>Square Meters</th>\n",
       "    </tr>\n",
       "  </thead>\n",
       "  <tbody>\n",
       "    <tr>\n",
       "      <th>3190</th>\n",
       "      <td>Beautiful modern loft in Little Italy!</td>\n",
       "      <td>NaN</td>\n",
       "      <td>https://a2.muscache.com/im/pictures/2a9f71aa-4...</td>\n",
       "      <td>NaN</td>\n",
       "      <td>1.0</td>\n",
       "      <td>Little Italy</td>\n",
       "      <td>NaN</td>\n",
       "      <td>Loft</td>\n",
       "      <td>Entire home/apt</td>\n",
       "      <td>2</td>\n",
       "      <td>1.0</td>\n",
       "      <td>1.0</td>\n",
       "      <td>1.0</td>\n",
       "      <td>Real Bed</td>\n",
       "      <td>TV,Wireless Internet,Air Conditioning,Kitchen,...</td>\n",
       "      <td>180.0</td>\n",
       "      <td>NaN</td>\n",
       "      <td>25.0</td>\n",
       "      <td>0</td>\n",
       "      <td>3</td>\n",
       "      <td>0</td>\n",
       "      <td>NaN</td>\n",
       "      <td>NaN</td>\n",
       "    </tr>\n",
       "  </tbody>\n",
       "</table>\n",
       "</div>"
      ],
      "text/plain": [
       "                                        Name Neighborhood Overview  \\\n",
       "3190  Beautiful modern loft in Little Italy!                   NaN   \n",
       "\n",
       "                                          Thumbnail Url Host Acceptance Rate  \\\n",
       "3190  https://a2.muscache.com/im/pictures/2a9f71aa-4...                  NaN   \n",
       "\n",
       "     Host Listings Count Neighbourhood Cleansed Market Property Type  \\\n",
       "3190                 1.0           Little Italy    NaN          Loft   \n",
       "\n",
       "            Room Type  Accommodates Bathrooms Bedrooms Beds  Bed Type  \\\n",
       "3190  Entire home/apt             2       1.0      1.0  1.0  Real Bed   \n",
       "\n",
       "                                              Amenities  Price  \\\n",
       "3190  TV,Wireless Internet,Air Conditioning,Kitchen,...  180.0   \n",
       "\n",
       "     Security Deposit Cleaning Fee  Extra People  Minimum Nights  \\\n",
       "3190              NaN         25.0             0               3   \n",
       "\n",
       "      Number of Reviews Review Scores Rating Square Meters  \n",
       "3190                  0                  NaN           NaN  "
      ]
     },
     "execution_count": 23,
     "metadata": {},
     "output_type": "execute_result"
    }
   ],
   "source": [
    "data[data['Neighbourhood Cleansed'].str.contains('Little Italy')]"
   ]
  },
  {
   "cell_type": "code",
   "execution_count": 24,
   "metadata": {},
   "outputs": [],
   "source": [
    "data = data.drop(3190, axis=0)"
   ]
  },
  {
   "cell_type": "code",
   "execution_count": 25,
   "metadata": {},
   "outputs": [
    {
     "data": {
      "text/html": [
       "<div>\n",
       "<style scoped>\n",
       "    .dataframe tbody tr th:only-of-type {\n",
       "        vertical-align: middle;\n",
       "    }\n",
       "\n",
       "    .dataframe tbody tr th {\n",
       "        vertical-align: top;\n",
       "    }\n",
       "\n",
       "    .dataframe thead th {\n",
       "        text-align: right;\n",
       "    }\n",
       "</style>\n",
       "<table border=\"1\" class=\"dataframe\">\n",
       "  <thead>\n",
       "    <tr style=\"text-align: right;\">\n",
       "      <th></th>\n",
       "      <th>Name</th>\n",
       "      <th>Neighborhood Overview</th>\n",
       "      <th>Thumbnail Url</th>\n",
       "      <th>Host Acceptance Rate</th>\n",
       "      <th>Host Listings Count</th>\n",
       "      <th>Neighbourhood Cleansed</th>\n",
       "      <th>Market</th>\n",
       "      <th>Property Type</th>\n",
       "      <th>Room Type</th>\n",
       "      <th>Accommodates</th>\n",
       "      <th>Bathrooms</th>\n",
       "      <th>Bedrooms</th>\n",
       "      <th>Beds</th>\n",
       "      <th>Bed Type</th>\n",
       "      <th>Amenities</th>\n",
       "      <th>Price</th>\n",
       "      <th>Security Deposit</th>\n",
       "      <th>Cleaning Fee</th>\n",
       "      <th>Extra People</th>\n",
       "      <th>Minimum Nights</th>\n",
       "      <th>Number of Reviews</th>\n",
       "      <th>Review Scores Rating</th>\n",
       "      <th>Square Meters</th>\n",
       "    </tr>\n",
       "  </thead>\n",
       "  <tbody>\n",
       "    <tr>\n",
       "      <th>9407</th>\n",
       "      <td>Apartment close to Lake Geneva and Jet d'eau</td>\n",
       "      <td>NaN</td>\n",
       "      <td>https://a2.muscache.com/im/pictures/40d78b94-e...</td>\n",
       "      <td>NaN</td>\n",
       "      <td>1.0</td>\n",
       "      <td>Commune de Genève</td>\n",
       "      <td>NaN</td>\n",
       "      <td>Apartment</td>\n",
       "      <td>Entire home/apt</td>\n",
       "      <td>2</td>\n",
       "      <td>1.0</td>\n",
       "      <td>1.0</td>\n",
       "      <td>1.0</td>\n",
       "      <td>Real Bed</td>\n",
       "      <td>Wireless Internet,Kitchen,Elevator in Building...</td>\n",
       "      <td>95.0</td>\n",
       "      <td>NaN</td>\n",
       "      <td>25.0</td>\n",
       "      <td>0</td>\n",
       "      <td>2</td>\n",
       "      <td>0</td>\n",
       "      <td>NaN</td>\n",
       "      <td>NaN</td>\n",
       "    </tr>\n",
       "  </tbody>\n",
       "</table>\n",
       "</div>"
      ],
      "text/plain": [
       "                                              Name Neighborhood Overview  \\\n",
       "9407  Apartment close to Lake Geneva and Jet d'eau                   NaN   \n",
       "\n",
       "                                          Thumbnail Url Host Acceptance Rate  \\\n",
       "9407  https://a2.muscache.com/im/pictures/40d78b94-e...                  NaN   \n",
       "\n",
       "     Host Listings Count Neighbourhood Cleansed Market Property Type  \\\n",
       "9407                 1.0      Commune de Genève    NaN     Apartment   \n",
       "\n",
       "            Room Type  Accommodates Bathrooms Bedrooms Beds  Bed Type  \\\n",
       "9407  Entire home/apt             2       1.0      1.0  1.0  Real Bed   \n",
       "\n",
       "                                              Amenities Price  \\\n",
       "9407  Wireless Internet,Kitchen,Elevator in Building...  95.0   \n",
       "\n",
       "     Security Deposit Cleaning Fee  Extra People  Minimum Nights  \\\n",
       "9407              NaN         25.0             0               2   \n",
       "\n",
       "      Number of Reviews Review Scores Rating Square Meters  \n",
       "9407                  0                  NaN           NaN  "
      ]
     },
     "execution_count": 25,
     "metadata": {},
     "output_type": "execute_result"
    }
   ],
   "source": [
    "data[data['Neighbourhood Cleansed'].str.contains('Commune de Genève')]"
   ]
  },
  {
   "cell_type": "code",
   "execution_count": 26,
   "metadata": {},
   "outputs": [],
   "source": [
    "data = data.drop(9407, axis=0)"
   ]
  },
  {
   "cell_type": "code",
   "execution_count": 27,
   "metadata": {},
   "outputs": [
    {
     "data": {
      "text/html": [
       "<div>\n",
       "<style scoped>\n",
       "    .dataframe tbody tr th:only-of-type {\n",
       "        vertical-align: middle;\n",
       "    }\n",
       "\n",
       "    .dataframe tbody tr th {\n",
       "        vertical-align: top;\n",
       "    }\n",
       "\n",
       "    .dataframe thead th {\n",
       "        text-align: right;\n",
       "    }\n",
       "</style>\n",
       "<table border=\"1\" class=\"dataframe\">\n",
       "  <thead>\n",
       "    <tr style=\"text-align: right;\">\n",
       "      <th></th>\n",
       "      <th>Name</th>\n",
       "      <th>Neighborhood Overview</th>\n",
       "      <th>Thumbnail Url</th>\n",
       "      <th>Host Acceptance Rate</th>\n",
       "      <th>Host Listings Count</th>\n",
       "      <th>Neighbourhood Cleansed</th>\n",
       "      <th>Market</th>\n",
       "      <th>Property Type</th>\n",
       "      <th>Room Type</th>\n",
       "      <th>Accommodates</th>\n",
       "      <th>Bathrooms</th>\n",
       "      <th>Bedrooms</th>\n",
       "      <th>Beds</th>\n",
       "      <th>Bed Type</th>\n",
       "      <th>Amenities</th>\n",
       "      <th>Price</th>\n",
       "      <th>Security Deposit</th>\n",
       "      <th>Cleaning Fee</th>\n",
       "      <th>Extra People</th>\n",
       "      <th>Minimum Nights</th>\n",
       "      <th>Number of Reviews</th>\n",
       "      <th>Review Scores Rating</th>\n",
       "      <th>Square Meters</th>\n",
       "    </tr>\n",
       "  </thead>\n",
       "  <tbody>\n",
       "    <tr>\n",
       "      <th>14729</th>\n",
       "      <td>Lovely and modern small flat in Paris 11th</td>\n",
       "      <td>The 11th is trendy and in some places hipster-...</td>\n",
       "      <td>NaN</td>\n",
       "      <td>NaN</td>\n",
       "      <td>1.0</td>\n",
       "      <td>Popincourt</td>\n",
       "      <td>NaN</td>\n",
       "      <td>Apartment</td>\n",
       "      <td>Entire home/apt</td>\n",
       "      <td>2</td>\n",
       "      <td>1.0</td>\n",
       "      <td>0.0</td>\n",
       "      <td>1.0</td>\n",
       "      <td>Real Bed</td>\n",
       "      <td>Wireless Internet,Kitchen,Heating,Family/kid f...</td>\n",
       "      <td>62.0</td>\n",
       "      <td>NaN</td>\n",
       "      <td>NaN</td>\n",
       "      <td>0</td>\n",
       "      <td>1</td>\n",
       "      <td>1</td>\n",
       "      <td>100.0</td>\n",
       "      <td>NaN</td>\n",
       "    </tr>\n",
       "  </tbody>\n",
       "</table>\n",
       "</div>"
      ],
      "text/plain": [
       "                                             Name  \\\n",
       "14729  Lovely and modern small flat in Paris 11th   \n",
       "\n",
       "                                   Neighborhood Overview Thumbnail Url  \\\n",
       "14729  The 11th is trendy and in some places hipster-...           NaN   \n",
       "\n",
       "      Host Acceptance Rate Host Listings Count Neighbourhood Cleansed Market  \\\n",
       "14729                  NaN                 1.0             Popincourt    NaN   \n",
       "\n",
       "      Property Type        Room Type  Accommodates Bathrooms Bedrooms Beds  \\\n",
       "14729     Apartment  Entire home/apt             2       1.0      0.0  1.0   \n",
       "\n",
       "       Bed Type                                          Amenities Price  \\\n",
       "14729  Real Bed  Wireless Internet,Kitchen,Heating,Family/kid f...  62.0   \n",
       "\n",
       "      Security Deposit Cleaning Fee  Extra People  Minimum Nights  \\\n",
       "14729              NaN          NaN             0               1   \n",
       "\n",
       "       Number of Reviews Review Scores Rating Square Meters  \n",
       "14729                  1                100.0           NaN  "
      ]
     },
     "execution_count": 27,
     "metadata": {},
     "output_type": "execute_result"
    }
   ],
   "source": [
    "data[data['Neighbourhood Cleansed'].str.contains('Popincourt')]"
   ]
  },
  {
   "cell_type": "code",
   "execution_count": 28,
   "metadata": {},
   "outputs": [],
   "source": [
    "data = data.drop(14729, axis=0)"
   ]
  },
  {
   "cell_type": "code",
   "execution_count": 29,
   "metadata": {},
   "outputs": [
    {
     "data": {
      "text/html": [
       "<div>\n",
       "<style scoped>\n",
       "    .dataframe tbody tr th:only-of-type {\n",
       "        vertical-align: middle;\n",
       "    }\n",
       "\n",
       "    .dataframe tbody tr th {\n",
       "        vertical-align: top;\n",
       "    }\n",
       "\n",
       "    .dataframe thead th {\n",
       "        text-align: right;\n",
       "    }\n",
       "</style>\n",
       "<table border=\"1\" class=\"dataframe\">\n",
       "  <thead>\n",
       "    <tr style=\"text-align: right;\">\n",
       "      <th></th>\n",
       "      <th>Name</th>\n",
       "      <th>Neighborhood Overview</th>\n",
       "      <th>Thumbnail Url</th>\n",
       "      <th>Host Acceptance Rate</th>\n",
       "      <th>Host Listings Count</th>\n",
       "      <th>Neighbourhood Cleansed</th>\n",
       "      <th>Market</th>\n",
       "      <th>Property Type</th>\n",
       "      <th>Room Type</th>\n",
       "      <th>Accommodates</th>\n",
       "      <th>Bathrooms</th>\n",
       "      <th>Bedrooms</th>\n",
       "      <th>Beds</th>\n",
       "      <th>Bed Type</th>\n",
       "      <th>Amenities</th>\n",
       "      <th>Price</th>\n",
       "      <th>Security Deposit</th>\n",
       "      <th>Cleaning Fee</th>\n",
       "      <th>Extra People</th>\n",
       "      <th>Minimum Nights</th>\n",
       "      <th>Number of Reviews</th>\n",
       "      <th>Review Scores Rating</th>\n",
       "      <th>Square Meters</th>\n",
       "    </tr>\n",
       "  </thead>\n",
       "  <tbody>\n",
       "    <tr>\n",
       "      <th>10313</th>\n",
       "      <td>Beautiful room in period house near Finsbury Park</td>\n",
       "      <td>NaN</td>\n",
       "      <td>https://a0.muscache.com/im/pictures/763a5ccc-2...</td>\n",
       "      <td>NaN</td>\n",
       "      <td>1.0</td>\n",
       "      <td>Haringey</td>\n",
       "      <td>NaN</td>\n",
       "      <td>House</td>\n",
       "      <td>Private room</td>\n",
       "      <td>2</td>\n",
       "      <td>1.0</td>\n",
       "      <td>1.0</td>\n",
       "      <td>1.0</td>\n",
       "      <td>Real Bed</td>\n",
       "      <td>Wireless Internet,Kitchen,Breakfast,Heating,Es...</td>\n",
       "      <td>42.0</td>\n",
       "      <td>NaN</td>\n",
       "      <td>8.0</td>\n",
       "      <td>0</td>\n",
       "      <td>1</td>\n",
       "      <td>3</td>\n",
       "      <td>100.0</td>\n",
       "      <td>NaN</td>\n",
       "    </tr>\n",
       "  </tbody>\n",
       "</table>\n",
       "</div>"
      ],
      "text/plain": [
       "                                                    Name  \\\n",
       "10313  Beautiful room in period house near Finsbury Park   \n",
       "\n",
       "      Neighborhood Overview  \\\n",
       "10313                   NaN   \n",
       "\n",
       "                                           Thumbnail Url Host Acceptance Rate  \\\n",
       "10313  https://a0.muscache.com/im/pictures/763a5ccc-2...                  NaN   \n",
       "\n",
       "      Host Listings Count Neighbourhood Cleansed Market Property Type  \\\n",
       "10313                 1.0               Haringey    NaN         House   \n",
       "\n",
       "          Room Type  Accommodates Bathrooms Bedrooms Beds  Bed Type  \\\n",
       "10313  Private room             2       1.0      1.0  1.0  Real Bed   \n",
       "\n",
       "                                               Amenities Price  \\\n",
       "10313  Wireless Internet,Kitchen,Breakfast,Heating,Es...  42.0   \n",
       "\n",
       "      Security Deposit Cleaning Fee  Extra People  Minimum Nights  \\\n",
       "10313              NaN          8.0             0               1   \n",
       "\n",
       "       Number of Reviews Review Scores Rating Square Meters  \n",
       "10313                  3                100.0           NaN  "
      ]
     },
     "execution_count": 29,
     "metadata": {},
     "output_type": "execute_result"
    }
   ],
   "source": [
    "data[data['Neighbourhood Cleansed'].str.contains('Haringey')]"
   ]
  },
  {
   "cell_type": "code",
   "execution_count": 30,
   "metadata": {},
   "outputs": [],
   "source": [
    "data = data.drop(10313, axis=0)"
   ]
  },
  {
   "cell_type": "code",
   "execution_count": 31,
   "metadata": {},
   "outputs": [
    {
     "data": {
      "text/html": [
       "<div>\n",
       "<style scoped>\n",
       "    .dataframe tbody tr th:only-of-type {\n",
       "        vertical-align: middle;\n",
       "    }\n",
       "\n",
       "    .dataframe tbody tr th {\n",
       "        vertical-align: top;\n",
       "    }\n",
       "\n",
       "    .dataframe thead th {\n",
       "        text-align: right;\n",
       "    }\n",
       "</style>\n",
       "<table border=\"1\" class=\"dataframe\">\n",
       "  <thead>\n",
       "    <tr style=\"text-align: right;\">\n",
       "      <th></th>\n",
       "      <th>Name</th>\n",
       "      <th>Neighborhood Overview</th>\n",
       "      <th>Thumbnail Url</th>\n",
       "      <th>Host Acceptance Rate</th>\n",
       "      <th>Host Listings Count</th>\n",
       "      <th>Neighbourhood Cleansed</th>\n",
       "      <th>Market</th>\n",
       "      <th>Property Type</th>\n",
       "      <th>Room Type</th>\n",
       "      <th>Accommodates</th>\n",
       "      <th>Bathrooms</th>\n",
       "      <th>Bedrooms</th>\n",
       "      <th>Beds</th>\n",
       "      <th>Bed Type</th>\n",
       "      <th>Amenities</th>\n",
       "      <th>Price</th>\n",
       "      <th>Security Deposit</th>\n",
       "      <th>Cleaning Fee</th>\n",
       "      <th>Extra People</th>\n",
       "      <th>Minimum Nights</th>\n",
       "      <th>Number of Reviews</th>\n",
       "      <th>Review Scores Rating</th>\n",
       "      <th>Square Meters</th>\n",
       "    </tr>\n",
       "  </thead>\n",
       "  <tbody>\n",
       "    <tr>\n",
       "      <th>534</th>\n",
       "      <td>Big room in 110sqm apartment near inner city</td>\n",
       "      <td>NaN</td>\n",
       "      <td>https://a0.muscache.com/im/pictures/a9c0ad73-2...</td>\n",
       "      <td>NaN</td>\n",
       "      <td>2.0</td>\n",
       "      <td>Frederiksberg</td>\n",
       "      <td>NaN</td>\n",
       "      <td>Apartment</td>\n",
       "      <td>Private room</td>\n",
       "      <td>3</td>\n",
       "      <td>1.0</td>\n",
       "      <td>1.0</td>\n",
       "      <td>2.0</td>\n",
       "      <td>Real Bed</td>\n",
       "      <td>TV,Wireless Internet,Kitchen,Free parking on p...</td>\n",
       "      <td>397.0</td>\n",
       "      <td>NaN</td>\n",
       "      <td>100.0</td>\n",
       "      <td>100</td>\n",
       "      <td>4</td>\n",
       "      <td>4</td>\n",
       "      <td>100.0</td>\n",
       "      <td>NaN</td>\n",
       "    </tr>\n",
       "  </tbody>\n",
       "</table>\n",
       "</div>"
      ],
      "text/plain": [
       "                                             Name Neighborhood Overview  \\\n",
       "534  Big room in 110sqm apartment near inner city                   NaN   \n",
       "\n",
       "                                         Thumbnail Url Host Acceptance Rate  \\\n",
       "534  https://a0.muscache.com/im/pictures/a9c0ad73-2...                  NaN   \n",
       "\n",
       "    Host Listings Count Neighbourhood Cleansed Market Property Type  \\\n",
       "534                 2.0          Frederiksberg    NaN     Apartment   \n",
       "\n",
       "        Room Type  Accommodates Bathrooms Bedrooms Beds  Bed Type  \\\n",
       "534  Private room             3       1.0      1.0  2.0  Real Bed   \n",
       "\n",
       "                                             Amenities  Price  \\\n",
       "534  TV,Wireless Internet,Kitchen,Free parking on p...  397.0   \n",
       "\n",
       "    Security Deposit Cleaning Fee  Extra People  Minimum Nights  \\\n",
       "534              NaN        100.0           100               4   \n",
       "\n",
       "     Number of Reviews Review Scores Rating Square Meters  \n",
       "534                  4                100.0           NaN  "
      ]
     },
     "execution_count": 31,
     "metadata": {},
     "output_type": "execute_result"
    }
   ],
   "source": [
    "data[data['Neighbourhood Cleansed'].str.contains('Frederiksberg')]"
   ]
  },
  {
   "cell_type": "code",
   "execution_count": 32,
   "metadata": {},
   "outputs": [],
   "source": [
    "data = data.drop(534, axis=0)"
   ]
  },
  {
   "cell_type": "code",
   "execution_count": 33,
   "metadata": {},
   "outputs": [
    {
     "data": {
      "text/html": [
       "<div>\n",
       "<style scoped>\n",
       "    .dataframe tbody tr th:only-of-type {\n",
       "        vertical-align: middle;\n",
       "    }\n",
       "\n",
       "    .dataframe tbody tr th {\n",
       "        vertical-align: top;\n",
       "    }\n",
       "\n",
       "    .dataframe thead th {\n",
       "        text-align: right;\n",
       "    }\n",
       "</style>\n",
       "<table border=\"1\" class=\"dataframe\">\n",
       "  <thead>\n",
       "    <tr style=\"text-align: right;\">\n",
       "      <th></th>\n",
       "      <th>Name</th>\n",
       "      <th>Neighborhood Overview</th>\n",
       "      <th>Thumbnail Url</th>\n",
       "      <th>Host Acceptance Rate</th>\n",
       "      <th>Host Listings Count</th>\n",
       "      <th>Neighbourhood Cleansed</th>\n",
       "      <th>Market</th>\n",
       "      <th>Property Type</th>\n",
       "      <th>Room Type</th>\n",
       "      <th>Accommodates</th>\n",
       "      <th>Bathrooms</th>\n",
       "      <th>Bedrooms</th>\n",
       "      <th>Beds</th>\n",
       "      <th>Bed Type</th>\n",
       "      <th>Amenities</th>\n",
       "      <th>Price</th>\n",
       "      <th>Security Deposit</th>\n",
       "      <th>Cleaning Fee</th>\n",
       "      <th>Extra People</th>\n",
       "      <th>Minimum Nights</th>\n",
       "      <th>Number of Reviews</th>\n",
       "      <th>Review Scores Rating</th>\n",
       "      <th>Square Meters</th>\n",
       "    </tr>\n",
       "  </thead>\n",
       "  <tbody>\n",
       "    <tr>\n",
       "      <th>14678</th>\n",
       "      <td>GARDEN EN SUITE PRIVATE ENTRANCE WI FI</td>\n",
       "      <td>NaN</td>\n",
       "      <td>https://a0.muscache.com/im/pictures/a8d53aa9-b...</td>\n",
       "      <td>NaN</td>\n",
       "      <td>16.0</td>\n",
       "      <td>Ealing</td>\n",
       "      <td>NaN</td>\n",
       "      <td>Apartment</td>\n",
       "      <td>Private room</td>\n",
       "      <td>2</td>\n",
       "      <td>1.0</td>\n",
       "      <td>1.0</td>\n",
       "      <td>1.0</td>\n",
       "      <td>Real Bed</td>\n",
       "      <td>Wireless Internet,Heating,Family/kid friendly,...</td>\n",
       "      <td>45.0</td>\n",
       "      <td>NaN</td>\n",
       "      <td>NaN</td>\n",
       "      <td>0</td>\n",
       "      <td>1</td>\n",
       "      <td>0</td>\n",
       "      <td>NaN</td>\n",
       "      <td>NaN</td>\n",
       "    </tr>\n",
       "  </tbody>\n",
       "</table>\n",
       "</div>"
      ],
      "text/plain": [
       "                                         Name Neighborhood Overview  \\\n",
       "14678  GARDEN EN SUITE PRIVATE ENTRANCE WI FI                   NaN   \n",
       "\n",
       "                                           Thumbnail Url Host Acceptance Rate  \\\n",
       "14678  https://a0.muscache.com/im/pictures/a8d53aa9-b...                  NaN   \n",
       "\n",
       "      Host Listings Count Neighbourhood Cleansed Market Property Type  \\\n",
       "14678                16.0                 Ealing    NaN     Apartment   \n",
       "\n",
       "          Room Type  Accommodates Bathrooms Bedrooms Beds  Bed Type  \\\n",
       "14678  Private room             2       1.0      1.0  1.0  Real Bed   \n",
       "\n",
       "                                               Amenities Price  \\\n",
       "14678  Wireless Internet,Heating,Family/kid friendly,...  45.0   \n",
       "\n",
       "      Security Deposit Cleaning Fee  Extra People  Minimum Nights  \\\n",
       "14678              NaN          NaN             0               1   \n",
       "\n",
       "       Number of Reviews Review Scores Rating Square Meters  \n",
       "14678                  0                  NaN           NaN  "
      ]
     },
     "execution_count": 33,
     "metadata": {},
     "output_type": "execute_result"
    }
   ],
   "source": [
    "data[data['Neighbourhood Cleansed'].str.contains('Ealing')]"
   ]
  },
  {
   "cell_type": "code",
   "execution_count": 34,
   "metadata": {},
   "outputs": [],
   "source": [
    "data = data.drop(14678, axis=0)"
   ]
  },
  {
   "cell_type": "code",
   "execution_count": 35,
   "metadata": {},
   "outputs": [
    {
     "data": {
      "text/plain": [
       "Guindalera              2\n",
       "Delicias                1\n",
       "Ciudad Universitaria    1\n",
       "Argüelles               1\n",
       "Arapiles                1\n",
       "Palacio                 1\n",
       "Palos de Moguer         1\n",
       "Ibiza                   1\n",
       "Justicia                1\n",
       "Bellas Vistas           1\n",
       "Gaztambide              1\n",
       "Castillejos             1\n",
       "Name: Neighbourhood Cleansed, dtype: int64"
      ]
     },
     "execution_count": 35,
     "metadata": {},
     "output_type": "execute_result"
    }
   ],
   "source": [
    "data[(data['Market'].isna())]['Neighbourhood Cleansed'].value_counts()"
   ]
  },
  {
   "cell_type": "markdown",
   "metadata": {},
   "source": [
    "Para los restantes, rellenamos sus NA en la variable _Market_ como **Madrid** ."
   ]
  },
  {
   "cell_type": "code",
   "execution_count": 36,
   "metadata": {},
   "outputs": [
    {
     "data": {
      "text/plain": [
       "Series([], Name: Neighbourhood Cleansed, dtype: int64)"
      ]
     },
     "execution_count": 36,
     "metadata": {},
     "output_type": "execute_result"
    }
   ],
   "source": [
    "data['Market'] = data['Market'].fillna('Madrid')\n",
    "data[(data['Market'].isna())]['Neighbourhood Cleansed'].value_counts()"
   ]
  },
  {
   "cell_type": "code",
   "execution_count": 37,
   "metadata": {},
   "outputs": [
    {
     "data": {
      "text/plain": [
       "Madrid    13324\n",
       "Name: Market, dtype: int64"
      ]
     },
     "execution_count": 37,
     "metadata": {},
     "output_type": "execute_result"
    }
   ],
   "source": [
    "data['Market'].value_counts()"
   ]
  },
  {
   "cell_type": "code",
   "execution_count": 38,
   "metadata": {},
   "outputs": [
    {
     "data": {
      "text/plain": [
       "(13324, 23)"
      ]
     },
     "execution_count": 38,
     "metadata": {},
     "output_type": "execute_result"
    }
   ],
   "source": [
    "data.shape"
   ]
  },
  {
   "cell_type": "code",
   "execution_count": 39,
   "metadata": {},
   "outputs": [
    {
     "data": {
      "text/plain": [
       "Index(['Name', 'Neighborhood Overview', 'Thumbnail Url',\n",
       "       'Host Acceptance Rate', 'Host Listings Count', 'Neighbourhood Cleansed',\n",
       "       'Market', 'Property Type', 'Room Type', 'Accommodates', 'Bathrooms',\n",
       "       'Bedrooms', 'Beds', 'Bed Type', 'Amenities', 'Price',\n",
       "       'Security Deposit', 'Cleaning Fee', 'Extra People', 'Minimum Nights',\n",
       "       'Number of Reviews', 'Review Scores Rating', 'Square Meters'],\n",
       "      dtype='object')"
      ]
     },
     "execution_count": 39,
     "metadata": {},
     "output_type": "execute_result"
    }
   ],
   "source": [
    "data.columns"
   ]
  },
  {
   "cell_type": "markdown",
   "metadata": {},
   "source": [
    "Eliminamos algunas columnas más, entre ellas _Market_ puesto que ya sabemos que todos los registros pertenecen a **Madrid** ."
   ]
  },
  {
   "cell_type": "code",
   "execution_count": 40,
   "metadata": {},
   "outputs": [],
   "source": [
    "data = data.drop(['Market','Bed Type','Host Acceptance Rate','Host Listings Count'],axis=1)"
   ]
  },
  {
   "cell_type": "markdown",
   "metadata": {},
   "source": [
    "Limpiamos algunas variables que consideramos interesantes y cuyos valores residuales nos pueden generar overfiting."
   ]
  },
  {
   "cell_type": "code",
   "execution_count": 41,
   "metadata": {},
   "outputs": [
    {
     "data": {
      "text/plain": [
       "Apartment             10962\n",
       "House                  1001\n",
       "Condominium             346\n",
       "Bed & Breakfast         340\n",
       "Loft                    285\n",
       "Other                   220\n",
       "Dorm                     44\n",
       "Guesthouse               39\n",
       "Chalet                   24\n",
       "Hostel                   16\n",
       "Serviced apartment       13\n",
       "Townhouse                 9\n",
       "Boutique hotel            6\n",
       "Villa                     4\n",
       "Casa particular           3\n",
       "Guest suite               3\n",
       "Earth House               3\n",
       "Camper/RV                 2\n",
       "Boat                      1\n",
       "Tent                      1\n",
       "Bungalow                  1\n",
       "Timeshare                 1\n",
       "Name: Property Type, dtype: int64"
      ]
     },
     "execution_count": 41,
     "metadata": {},
     "output_type": "execute_result"
    }
   ],
   "source": [
    "data['Property Type'].value_counts()"
   ]
  },
  {
   "cell_type": "code",
   "execution_count": 42,
   "metadata": {},
   "outputs": [],
   "source": [
    "s = data['Property Type'].value_counts().gt(50)\n",
    "data = data.loc[data['Property Type'].isin(s[s].index)]"
   ]
  },
  {
   "cell_type": "code",
   "execution_count": 43,
   "metadata": {},
   "outputs": [
    {
     "data": {
      "text/plain": [
       "Apartment          10962\n",
       "House               1001\n",
       "Condominium          346\n",
       "Bed & Breakfast      340\n",
       "Loft                 285\n",
       "Other                220\n",
       "Name: Property Type, dtype: int64"
      ]
     },
     "execution_count": 43,
     "metadata": {},
     "output_type": "execute_result"
    }
   ],
   "source": [
    "data['Property Type'].value_counts()"
   ]
  },
  {
   "cell_type": "code",
   "execution_count": 44,
   "metadata": {},
   "outputs": [
    {
     "data": {
      "text/plain": [
       "1.0       10052\n",
       "2.0        2020\n",
       "1.5         455\n",
       "3.0         230\n",
       "2.5          93\n",
       "0.5          61\n",
       "0.0          59\n",
       "5.0          41\n",
       "4.0          34\n",
       "4.5          23\n",
       "6.0          19\n",
       "3.5          15\n",
       "Madrid        6\n",
       "5.5           3\n",
       "8.0           1\n",
       "6.5           1\n",
       "Name: Bathrooms, dtype: int64"
      ]
     },
     "execution_count": 44,
     "metadata": {},
     "output_type": "execute_result"
    }
   ],
   "source": [
    "data['Bathrooms'].value_counts()"
   ]
  },
  {
   "cell_type": "code",
   "execution_count": 45,
   "metadata": {},
   "outputs": [],
   "source": [
    "t = data['Bathrooms'].value_counts().eq(6)\n",
    "data = data.loc[~data['Bathrooms'].isin(t[t].index)]"
   ]
  },
  {
   "cell_type": "code",
   "execution_count": 46,
   "metadata": {},
   "outputs": [
    {
     "data": {
      "text/plain": [
       "1.0       8865\n",
       "2.0       2334\n",
       "0.0        916\n",
       "3.0        735\n",
       "4.0        194\n",
       "5.0         52\n",
       "6.0         15\n",
       "10.0         6\n",
       "7.0          5\n",
       "8.0          4\n",
       "Madrid       4\n",
       "Name: Bedrooms, dtype: int64"
      ]
     },
     "execution_count": 46,
     "metadata": {},
     "output_type": "execute_result"
    }
   ],
   "source": [
    "data['Bedrooms'].value_counts()"
   ]
  },
  {
   "cell_type": "markdown",
   "metadata": {},
   "source": [
    "Vemos que **_Bedrooms_** y otras columnas también tiene un _outlier_ raro con 'Madrid' . Los transformamos en NA para posteriormente darles tratamiento."
   ]
  },
  {
   "cell_type": "code",
   "execution_count": 47,
   "metadata": {},
   "outputs": [
    {
     "data": {
      "text/plain": [
       "4"
      ]
     },
     "execution_count": 47,
     "metadata": {},
     "output_type": "execute_result"
    }
   ],
   "source": [
    "len(data[data['Bedrooms'] == 'Madrid'])"
   ]
  },
  {
   "cell_type": "code",
   "execution_count": 48,
   "metadata": {},
   "outputs": [
    {
     "data": {
      "text/plain": [
       "0"
      ]
     },
     "execution_count": 48,
     "metadata": {},
     "output_type": "execute_result"
    }
   ],
   "source": [
    "data['Bedrooms'] = data['Bedrooms'].replace('Madrid', np.nan)\n",
    "len(data[data['Bedrooms'] == 'Madrid'])"
   ]
  },
  {
   "cell_type": "code",
   "execution_count": 49,
   "metadata": {},
   "outputs": [
    {
     "data": {
      "text/plain": [
       "1"
      ]
     },
     "execution_count": 49,
     "metadata": {},
     "output_type": "execute_result"
    }
   ],
   "source": [
    "len(data.loc[data['Price'] == 'Madrid'])"
   ]
  },
  {
   "cell_type": "code",
   "execution_count": 50,
   "metadata": {},
   "outputs": [
    {
     "data": {
      "text/plain": [
       "0"
      ]
     },
     "execution_count": 50,
     "metadata": {},
     "output_type": "execute_result"
    }
   ],
   "source": [
    "data['Price'] = data['Price'].replace('Madrid', np.nan)\n",
    "len(data.loc[data['Price'] == 'Madrid'])"
   ]
  },
  {
   "cell_type": "code",
   "execution_count": 51,
   "metadata": {},
   "outputs": [
    {
     "data": {
      "text/plain": [
       "1183"
      ]
     },
     "execution_count": 51,
     "metadata": {},
     "output_type": "execute_result"
    }
   ],
   "source": [
    "len(data.loc[data['Security Deposit'] == 'Madrid'])"
   ]
  },
  {
   "cell_type": "code",
   "execution_count": 52,
   "metadata": {},
   "outputs": [
    {
     "data": {
      "text/plain": [
       "0"
      ]
     },
     "execution_count": 52,
     "metadata": {},
     "output_type": "execute_result"
    }
   ],
   "source": [
    "data['Security Deposit'] = data['Security Deposit'].replace('Madrid', np.nan)\n",
    "len(data.loc[data['Security Deposit'] == 'Madrid'])"
   ]
  },
  {
   "cell_type": "code",
   "execution_count": 53,
   "metadata": {},
   "outputs": [
    {
     "data": {
      "text/plain": [
       "716"
      ]
     },
     "execution_count": 53,
     "metadata": {},
     "output_type": "execute_result"
    }
   ],
   "source": [
    "len(data.loc[data['Cleaning Fee'] == 'Madrid'])"
   ]
  },
  {
   "cell_type": "code",
   "execution_count": 54,
   "metadata": {},
   "outputs": [
    {
     "data": {
      "text/plain": [
       "0"
      ]
     },
     "execution_count": 54,
     "metadata": {},
     "output_type": "execute_result"
    }
   ],
   "source": [
    "data['Cleaning Fee'] = data['Cleaning Fee'].replace('Madrid', np.nan)\n",
    "len(data.loc[data['Cleaning Fee'] == 'Madrid'])"
   ]
  },
  {
   "cell_type": "code",
   "execution_count": 55,
   "metadata": {},
   "outputs": [
    {
     "data": {
      "text/plain": [
       "402"
      ]
     },
     "execution_count": 55,
     "metadata": {},
     "output_type": "execute_result"
    }
   ],
   "source": [
    "len(data.loc[data['Review Scores Rating'] == 'Madrid'])"
   ]
  },
  {
   "cell_type": "code",
   "execution_count": 56,
   "metadata": {},
   "outputs": [
    {
     "data": {
      "text/plain": [
       "0"
      ]
     },
     "execution_count": 56,
     "metadata": {},
     "output_type": "execute_result"
    }
   ],
   "source": [
    "data['Review Scores Rating'] = data['Review Scores Rating'].replace('Madrid', np.nan)\n",
    "len(data.loc[data['Review Scores Rating'] == 'Madrid'])"
   ]
  },
  {
   "cell_type": "code",
   "execution_count": 57,
   "metadata": {},
   "outputs": [
    {
     "data": {
      "text/plain": [
       "2140"
      ]
     },
     "execution_count": 57,
     "metadata": {},
     "output_type": "execute_result"
    }
   ],
   "source": [
    "len(data.loc[data['Square Meters'] == 'Madrid'])"
   ]
  },
  {
   "cell_type": "code",
   "execution_count": 58,
   "metadata": {},
   "outputs": [
    {
     "data": {
      "text/plain": [
       "0"
      ]
     },
     "execution_count": 58,
     "metadata": {},
     "output_type": "execute_result"
    }
   ],
   "source": [
    "data['Square Meters'] = data['Square Meters'].replace('Madrid', np.nan)\n",
    "len(data.loc[data['Square Meters'] == 'Madrid'])"
   ]
  },
  {
   "cell_type": "markdown",
   "metadata": {},
   "source": [
    "..a numéricos..."
   ]
  },
  {
   "cell_type": "code",
   "execution_count": 59,
   "metadata": {},
   "outputs": [],
   "source": [
    "data['Bathrooms'] = pd.to_numeric(data['Bathrooms'])\n",
    "data['Bedrooms'] = pd.to_numeric(data['Bedrooms'])\n",
    "data['Price'] = pd.to_numeric(data['Price'])\n",
    "data['Security Deposit'] = pd.to_numeric(data['Security Deposit'])\n",
    "data['Cleaning Fee'] = pd.to_numeric(data['Cleaning Fee'])\n",
    "data['Review Scores Rating'] = pd.to_numeric(data['Review Scores Rating'])\n",
    "data['Square Meters'] = pd.to_numeric(data['Square Meters'])"
   ]
  },
  {
   "cell_type": "markdown",
   "metadata": {},
   "source": [
    "Rellenamos NA's sobre variables en las que entendemos que la ausencia de valores es = 0:"
   ]
  },
  {
   "cell_type": "code",
   "execution_count": 60,
   "metadata": {},
   "outputs": [],
   "source": [
    "data['Review Scores Rating'] = data['Review Scores Rating'].fillna(0)\n",
    "data['Cleaning Fee'] = data['Cleaning Fee'].fillna(0)\n",
    "data['Security Deposit'] = data['Security Deposit'].fillna(0)"
   ]
  },
  {
   "cell_type": "markdown",
   "metadata": {},
   "source": [
    "Y sobre las variables en las que entendemos que 0 no es el valor más idóneo para calcular el modelo:"
   ]
  },
  {
   "cell_type": "code",
   "execution_count": 61,
   "metadata": {},
   "outputs": [],
   "source": [
    "data['Square Meters'] = data['Square Meters'].interpolate()\n",
    "data['Bedrooms'] = data['Bedrooms'].interpolate()\n",
    "data['Bathrooms'] = data['Bathrooms'].interpolate()"
   ]
  },
  {
   "cell_type": "code",
   "execution_count": 62,
   "metadata": {},
   "outputs": [
    {
     "data": {
      "text/plain": [
       "True     13146\n",
       "False        2\n",
       "Name: Square Meters, dtype: int64"
      ]
     },
     "execution_count": 62,
     "metadata": {},
     "output_type": "execute_result"
    }
   ],
   "source": [
    "data['Square Meters'].notna().value_counts()"
   ]
  },
  {
   "cell_type": "code",
   "execution_count": 63,
   "metadata": {},
   "outputs": [
    {
     "data": {
      "text/html": [
       "<div>\n",
       "<style scoped>\n",
       "    .dataframe tbody tr th:only-of-type {\n",
       "        vertical-align: middle;\n",
       "    }\n",
       "\n",
       "    .dataframe tbody tr th {\n",
       "        vertical-align: top;\n",
       "    }\n",
       "\n",
       "    .dataframe thead th {\n",
       "        text-align: right;\n",
       "    }\n",
       "</style>\n",
       "<table border=\"1\" class=\"dataframe\">\n",
       "  <thead>\n",
       "    <tr style=\"text-align: right;\">\n",
       "      <th></th>\n",
       "      <th>Name</th>\n",
       "      <th>Neighborhood Overview</th>\n",
       "      <th>Thumbnail Url</th>\n",
       "      <th>Neighbourhood Cleansed</th>\n",
       "      <th>Property Type</th>\n",
       "      <th>Room Type</th>\n",
       "      <th>Accommodates</th>\n",
       "      <th>Bathrooms</th>\n",
       "      <th>Bedrooms</th>\n",
       "      <th>Beds</th>\n",
       "      <th>Amenities</th>\n",
       "      <th>Price</th>\n",
       "      <th>Security Deposit</th>\n",
       "      <th>Cleaning Fee</th>\n",
       "      <th>Extra People</th>\n",
       "      <th>Minimum Nights</th>\n",
       "      <th>Number of Reviews</th>\n",
       "      <th>Review Scores Rating</th>\n",
       "      <th>Square Meters</th>\n",
       "    </tr>\n",
       "  </thead>\n",
       "  <tbody>\n",
       "    <tr>\n",
       "      <th>3</th>\n",
       "      <td>Double room + bathroom - La Latina</td>\n",
       "      <td>La Latina is one of the most famous neighbourh...</td>\n",
       "      <td>https://a0.muscache.com/im/pictures/40713802/3...</td>\n",
       "      <td>Palacio</td>\n",
       "      <td>Apartment</td>\n",
       "      <td>Private room</td>\n",
       "      <td>2</td>\n",
       "      <td>1.0</td>\n",
       "      <td>1.0</td>\n",
       "      <td>1.0</td>\n",
       "      <td>TV,Internet,Wireless Internet,Kitchen,Doorman,...</td>\n",
       "      <td>36.0</td>\n",
       "      <td>0.0</td>\n",
       "      <td>0.0</td>\n",
       "      <td>0</td>\n",
       "      <td>2</td>\n",
       "      <td>80</td>\n",
       "      <td>98.0</td>\n",
       "      <td>NaN</td>\n",
       "    </tr>\n",
       "    <tr>\n",
       "      <th>4</th>\n",
       "      <td>Ópera/Plz Mayor -- A/C, elevator</td>\n",
       "      <td>The neighborhood is steeped in history and clo...</td>\n",
       "      <td>https://a0.muscache.com/im/pictures/44239584/c...</td>\n",
       "      <td>Palacio</td>\n",
       "      <td>Apartment</td>\n",
       "      <td>Entire home/apt</td>\n",
       "      <td>2</td>\n",
       "      <td>1.0</td>\n",
       "      <td>1.0</td>\n",
       "      <td>1.0</td>\n",
       "      <td>TV,Wireless Internet,Air conditioning,Kitchen,...</td>\n",
       "      <td>85.0</td>\n",
       "      <td>100.0</td>\n",
       "      <td>30.0</td>\n",
       "      <td>0</td>\n",
       "      <td>3</td>\n",
       "      <td>90</td>\n",
       "      <td>95.0</td>\n",
       "      <td>NaN</td>\n",
       "    </tr>\n",
       "  </tbody>\n",
       "</table>\n",
       "</div>"
      ],
      "text/plain": [
       "                                 Name  \\\n",
       "3  Double room + bathroom - La Latina   \n",
       "4    Ópera/Plz Mayor -- A/C, elevator   \n",
       "\n",
       "                               Neighborhood Overview  \\\n",
       "3  La Latina is one of the most famous neighbourh...   \n",
       "4  The neighborhood is steeped in history and clo...   \n",
       "\n",
       "                                       Thumbnail Url Neighbourhood Cleansed  \\\n",
       "3  https://a0.muscache.com/im/pictures/40713802/3...                Palacio   \n",
       "4  https://a0.muscache.com/im/pictures/44239584/c...                Palacio   \n",
       "\n",
       "  Property Type        Room Type  Accommodates  Bathrooms  Bedrooms Beds  \\\n",
       "3     Apartment     Private room             2        1.0       1.0  1.0   \n",
       "4     Apartment  Entire home/apt             2        1.0       1.0  1.0   \n",
       "\n",
       "                                           Amenities  Price  Security Deposit  \\\n",
       "3  TV,Internet,Wireless Internet,Kitchen,Doorman,...   36.0               0.0   \n",
       "4  TV,Wireless Internet,Air conditioning,Kitchen,...   85.0             100.0   \n",
       "\n",
       "   Cleaning Fee  Extra People  Minimum Nights  Number of Reviews  \\\n",
       "3           0.0             0               2                 80   \n",
       "4          30.0             0               3                 90   \n",
       "\n",
       "   Review Scores Rating  Square Meters  \n",
       "3                  98.0            NaN  \n",
       "4                  95.0            NaN  "
      ]
     },
     "execution_count": 63,
     "metadata": {},
     "output_type": "execute_result"
    }
   ],
   "source": [
    "data[data['Square Meters'].isna()]"
   ]
  },
  {
   "cell_type": "markdown",
   "metadata": {},
   "source": [
    "Hay dos NaN en _Square Meters_ , opto por transformarlos a 0, un valor que representa un Outlier y que eliminaremos después."
   ]
  },
  {
   "cell_type": "code",
   "execution_count": 64,
   "metadata": {},
   "outputs": [],
   "source": [
    "data['Square Meters'] = data['Square Meters'].fillna(0)"
   ]
  },
  {
   "cell_type": "code",
   "execution_count": 65,
   "metadata": {},
   "outputs": [
    {
     "data": {
      "text/plain": [
       "True     13140\n",
       "False        8\n",
       "Name: Price, dtype: int64"
      ]
     },
     "execution_count": 65,
     "metadata": {},
     "output_type": "execute_result"
    }
   ],
   "source": [
    "data['Price'].notna().value_counts()"
   ]
  },
  {
   "cell_type": "code",
   "execution_count": 66,
   "metadata": {},
   "outputs": [],
   "source": [
    "data['Price'] = data['Price'].interpolate()"
   ]
  },
  {
   "cell_type": "code",
   "execution_count": 67,
   "metadata": {},
   "outputs": [
    {
     "data": {
      "text/plain": [
       "True    13148\n",
       "Name: Price, dtype: int64"
      ]
     },
     "execution_count": 67,
     "metadata": {},
     "output_type": "execute_result"
    }
   ],
   "source": [
    "data['Price'].notna().value_counts()"
   ]
  },
  {
   "cell_type": "markdown",
   "metadata": {},
   "source": [
    "Repasamos algunos valores en busca de outliers."
   ]
  },
  {
   "cell_type": "code",
   "execution_count": 68,
   "metadata": {},
   "outputs": [
    {
     "data": {
      "image/png": "[encoded data removed]",
      "text/plain": [
       "<Figure size 432x288 with 1 Axes>"
      ]
     },
     "metadata": {
      "needs_background": "light"
     },
     "output_type": "display_data"
    }
   ],
   "source": [
    "import matplotlib.pyplot as plt\n",
    "data.plot(kind='scatter', x='Accommodates', y='Bedrooms')\n",
    "plt.show()"
   ]
  },
  {
   "cell_type": "markdown",
   "metadata": {},
   "source": [
    "En cierta medida correlacionados, podemos gestionar los outliers de _Bedrooms_ y eliminar _Accomodates_"
   ]
  },
  {
   "cell_type": "code",
   "execution_count": 69,
   "metadata": {},
   "outputs": [],
   "source": [
    "data = data.drop(['Accommodates'],axis=1)"
   ]
  },
  {
   "cell_type": "code",
   "execution_count": 70,
   "metadata": {},
   "outputs": [
    {
     "data": {
      "image/png": "[encoded data removed]",
      "text/plain": [
       "<Figure size 432x288 with 1 Axes>"
      ]
     },
     "metadata": {
      "needs_background": "light"
     },
     "output_type": "display_data"
    }
   ],
   "source": [
    "data.plot(kind='scatter', x='Bedrooms', y='Price')\n",
    "plt.show()"
   ]
  },
  {
   "cell_type": "code",
   "execution_count": 71,
   "metadata": {},
   "outputs": [
    {
     "data": {
      "text/plain": [
       "15"
      ]
     },
     "execution_count": 71,
     "metadata": {},
     "output_type": "execute_result"
    }
   ],
   "source": [
    "data[data['Bedrooms'] >= 7].shape[0]"
   ]
  },
  {
   "cell_type": "code",
   "execution_count": 72,
   "metadata": {},
   "outputs": [],
   "source": [
    "import pandas as pd\n",
    "e = data['Bedrooms'].value_counts().ge(6)\n",
    "data = data.loc[data['Bedrooms'].isin(e[e].index)]"
   ]
  },
  {
   "cell_type": "code",
   "execution_count": 73,
   "metadata": {},
   "outputs": [
    {
     "data": {
      "text/plain": [
       "6"
      ]
     },
     "execution_count": 73,
     "metadata": {},
     "output_type": "execute_result"
    }
   ],
   "source": [
    "data[data['Bedrooms'] >= 7].shape[0]"
   ]
  },
  {
   "cell_type": "code",
   "execution_count": 74,
   "metadata": {},
   "outputs": [],
   "source": [
    "e = data['Bedrooms'].value_counts().ge(10)\n",
    "data = data.loc[data['Bedrooms'].isin(e[e].index)]"
   ]
  },
  {
   "cell_type": "code",
   "execution_count": 75,
   "metadata": {},
   "outputs": [
    {
     "data": {
      "text/plain": [
       "0"
      ]
     },
     "execution_count": 75,
     "metadata": {},
     "output_type": "execute_result"
    }
   ],
   "source": [
    "data[data['Bedrooms'] >= 7].shape[0]"
   ]
  },
  {
   "cell_type": "code",
   "execution_count": 76,
   "metadata": {},
   "outputs": [
    {
     "data": {
      "image/png": "[encoded data removed]",
      "text/plain": [
       "<Figure size 432x288 with 1 Axes>"
      ]
     },
     "metadata": {
      "needs_background": "light"
     },
     "output_type": "display_data"
    }
   ],
   "source": [
    "data.plot(kind='scatter', x='Bedrooms', y='Price')\n",
    "plt.show()"
   ]
  },
  {
   "cell_type": "code",
   "execution_count": 77,
   "metadata": {},
   "outputs": [
    {
     "data": {
      "image/png": "[encoded data removed]",
      "text/plain": [
       "<Figure size 432x288 with 1 Axes>"
      ]
     },
     "metadata": {
      "needs_background": "light"
     },
     "output_type": "display_data"
    }
   ],
   "source": [
    "data.plot(kind='scatter', x='Cleaning Fee', y='Price')\n",
    "plt.show()"
   ]
  },
  {
   "cell_type": "code",
   "execution_count": 78,
   "metadata": {},
   "outputs": [
    {
     "data": {
      "image/png": "[encoded data removed]",
      "text/plain": [
       "<Figure size 432x288 with 1 Axes>"
      ]
     },
     "metadata": {
      "needs_background": "light"
     },
     "output_type": "display_data"
    }
   ],
   "source": [
    "data = data[data['Cleaning Fee'].le(175)]\n",
    "data.plot(kind='scatter', x='Cleaning Fee', y='Price')\n",
    "plt.show()"
   ]
  },
  {
   "cell_type": "code",
   "execution_count": 79,
   "metadata": {},
   "outputs": [
    {
     "data": {
      "image/png": "[encoded data removed]",
      "text/plain": [
       "<Figure size 432x288 with 1 Axes>"
      ]
     },
     "metadata": {
      "needs_background": "light"
     },
     "output_type": "display_data"
    }
   ],
   "source": [
    "data.plot(kind='scatter', x='Neighbourhood Cleansed', y='Price')\n",
    "plt.show()"
   ]
  },
  {
   "cell_type": "code",
   "execution_count": 80,
   "metadata": {},
   "outputs": [
    {
     "data": {
      "image/png": "[encoded data removed]",
      "text/plain": [
       "<Figure size 432x288 with 1 Axes>"
      ]
     },
     "metadata": {
      "needs_background": "light"
     },
     "output_type": "display_data"
    }
   ],
   "source": [
    "data.plot(kind='scatter', x='Bathrooms', y='Price')\n",
    "plt.show()"
   ]
  },
  {
   "cell_type": "code",
   "execution_count": 81,
   "metadata": {},
   "outputs": [
    {
     "data": {
      "image/png": "[encoded data removed]",
      "text/plain": [
       "<Figure size 432x288 with 1 Axes>"
      ]
     },
     "metadata": {
      "needs_background": "light"
     },
     "output_type": "display_data"
    }
   ],
   "source": [
    "data = data[data['Bathrooms'].le(6)]\n",
    "data.plot(kind='scatter', x='Bathrooms', y='Price')\n",
    "plt.show()"
   ]
  },
  {
   "cell_type": "code",
   "execution_count": 82,
   "metadata": {},
   "outputs": [],
   "source": [
    "data = data[data['Security Deposit'].le(600)]"
   ]
  },
  {
   "cell_type": "code",
   "execution_count": 83,
   "metadata": {},
   "outputs": [
    {
     "data": {
      "image/png": "[encoded data removed]",
      "text/plain": [
       "<Figure size 432x288 with 1 Axes>"
      ]
     },
     "metadata": {
      "needs_background": "light"
     },
     "output_type": "display_data"
    }
   ],
   "source": [
    "data.plot(kind='scatter', x='Minimum Nights', y='Price')\n",
    "plt.show()"
   ]
  },
  {
   "cell_type": "code",
   "execution_count": 84,
   "metadata": {},
   "outputs": [],
   "source": [
    "data = data.drop(['Minimum Nights'],axis=1)"
   ]
  },
  {
   "cell_type": "code",
   "execution_count": 85,
   "metadata": {},
   "outputs": [
    {
     "data": {
      "image/png": "[encoded data removed]",
      "text/plain": [
       "<Figure size 432x288 with 1 Axes>"
      ]
     },
     "metadata": {
      "needs_background": "light"
     },
     "output_type": "display_data"
    }
   ],
   "source": [
    "data.plot(kind='scatter', x='Number of Reviews', y='Price')\n",
    "plt.show()"
   ]
  },
  {
   "cell_type": "markdown",
   "metadata": {},
   "source": [
    "Que los precios altos coincidan con 0 o pocas Reviews no es muy coherente."
   ]
  },
  {
   "cell_type": "code",
   "execution_count": 86,
   "metadata": {},
   "outputs": [],
   "source": [
    "data = data.drop(['Number of Reviews'],axis=1)"
   ]
  },
  {
   "cell_type": "code",
   "execution_count": 87,
   "metadata": {},
   "outputs": [
    {
     "data": {
      "image/png": "[encoded data removed]",
      "text/plain": [
       "<Figure size 432x288 with 1 Axes>"
      ]
     },
     "metadata": {
      "needs_background": "light"
     },
     "output_type": "display_data"
    }
   ],
   "source": [
    "data.plot(kind='scatter', x='Review Scores Rating', y='Price')\n",
    "plt.show()"
   ]
  },
  {
   "cell_type": "code",
   "execution_count": 88,
   "metadata": {},
   "outputs": [],
   "source": [
    "data = data.drop(['Review Scores Rating'],axis=1)"
   ]
  },
  {
   "cell_type": "code",
   "execution_count": 89,
   "metadata": {},
   "outputs": [
    {
     "data": {
      "image/png": "[encoded data removed]",
      "text/plain": [
       "<Figure size 432x288 with 1 Axes>"
      ]
     },
     "metadata": {
      "needs_background": "light"
     },
     "output_type": "display_data"
    }
   ],
   "source": [
    "data.plot(kind='scatter', x='Square Meters', y='Price')\n",
    "plt.show()"
   ]
  },
  {
   "cell_type": "markdown",
   "metadata": {},
   "source": [
    "Alojamientos de más de 250 metros los consideramos outliers. Asimismo, si Ikea decora pisos de hasta 30 metros, entendemos que lo que esté por debajo de esa medida también es outlier."
   ]
  },
  {
   "cell_type": "code",
   "execution_count": 90,
   "metadata": {},
   "outputs": [
    {
     "data": {
      "image/png": "[encoded data removed]",
      "text/plain": [
       "<Figure size 432x288 with 1 Axes>"
      ]
     },
     "metadata": {
      "needs_background": "light"
     },
     "output_type": "display_data"
    }
   ],
   "source": [
    "data = data[data['Square Meters'].le(250)]\n",
    "data = data[data['Square Meters'].ge(25)]\n",
    "data.plot(kind='scatter', x='Square Meters', y='Price')\n",
    "plt.show()"
   ]
  },
  {
   "cell_type": "code",
   "execution_count": 91,
   "metadata": {},
   "outputs": [
    {
     "data": {
      "text/plain": [
       "(6079, 15)"
      ]
     },
     "execution_count": 91,
     "metadata": {},
     "output_type": "execute_result"
    }
   ],
   "source": [
    "data.shape"
   ]
  },
  {
   "cell_type": "markdown",
   "metadata": {},
   "source": [
    "#### Después de numerosas pruebas sobre la configuración del los modelos _mlp_ y _cnn_ , intentamos bajar el riesgo de overfiting limpiando los datos cuyos precios (residuales) superen una determinada cifra"
   ]
  },
  {
   "cell_type": "markdown",
   "metadata": {},
   "source": [
    "Es decir, volvimos a este punto del tratamiento de datos a eliminar los precios muy altos, de manera que durante la normalización de Y los valores fuesen más homogéneos."
   ]
  },
  {
   "cell_type": "markdown",
   "metadata": {},
   "source": [
    "Como hemos observado en las gráficas anteriores, por encima de 300 de precio pueden considerarse registros residuales. Así que optamos por mejorar nuestro modelo poniendo el corte en 250."
   ]
  },
  {
   "cell_type": "code",
   "execution_count": 92,
   "metadata": {},
   "outputs": [
    {
     "data": {
      "text/plain": [
       "(85,)"
      ]
     },
     "execution_count": 92,
     "metadata": {},
     "output_type": "execute_result"
    }
   ],
   "source": [
    "data['Price'][data['Price'] > 250].shape"
   ]
  },
  {
   "cell_type": "markdown",
   "metadata": {},
   "source": [
    "No son muchos 85 en un dataset de 6k registros, sin embargo, recordamos que con ello mejoramos la normalización posterior."
   ]
  },
  {
   "cell_type": "code",
   "execution_count": 95,
   "metadata": {},
   "outputs": [
    {
     "data": {
      "text/plain": [
       "(0,)"
      ]
     },
     "execution_count": 95,
     "metadata": {},
     "output_type": "execute_result"
    }
   ],
   "source": [
    "data = data[data['Price'].le(250)]\n",
    "data['Price'][data['Price'] > 250].shape"
   ]
  },
  {
   "cell_type": "code",
   "execution_count": 94,
   "metadata": {},
   "outputs": [
    {
     "data": {
      "text/plain": [
       "(5994, 15)"
      ]
     },
     "execution_count": 94,
     "metadata": {},
     "output_type": "execute_result"
    }
   ],
   "source": [
    "data.shape"
   ]
  },
  {
   "cell_type": "markdown",
   "metadata": {},
   "source": [
    "## Extracción de imágenes"
   ]
  },
  {
   "cell_type": "code",
   "execution_count": 97,
   "metadata": {},
   "outputs": [
    {
     "data": {
      "text/plain": [
       "(5994,)"
      ]
     },
     "execution_count": 97,
     "metadata": {},
     "output_type": "execute_result"
    }
   ],
   "source": [
    "data['Thumbnail Url'].shape"
   ]
  },
  {
   "cell_type": "code",
   "execution_count": 98,
   "metadata": {},
   "outputs": [],
   "source": [
    "images_paths = []\n",
    "for i, img_url in enumerate(data['Thumbnail Url']):\n",
    "    images_paths.append([i, img_url])"
   ]
  },
  {
   "cell_type": "code",
   "execution_count": 99,
   "metadata": {},
   "outputs": [
    {
     "data": {
      "text/plain": [
       "5994"
      ]
     },
     "execution_count": 99,
     "metadata": {},
     "output_type": "execute_result"
    }
   ],
   "source": [
    "len(images_paths)"
   ]
  },
  {
   "cell_type": "code",
   "execution_count": 100,
   "metadata": {},
   "outputs": [
    {
     "data": {
      "text/plain": [
       "[[0,\n",
       "  'https://a0.muscache.com/im/pictures/84378550/fa2dbe0d_original.jpg?aki_policy=small'],\n",
       " [1,\n",
       "  'https://a0.muscache.com/im/pictures/be441d1f-4d11-4fbf-86a4-d62c78356d32.jpg?aki_policy=small'],\n",
       " [2,\n",
       "  'https://a0.muscache.com/im/pictures/c232f016-f2cf-45e4-8a1c-2aadaaa44a73.jpg?aki_policy=small'],\n",
       " [3,\n",
       "  'https://a0.muscache.com/im/pictures/90548067/4746f77f_original.jpg?aki_policy=small'],\n",
       " [4,\n",
       "  'https://a0.muscache.com/im/pictures/48573525/acb63e6a_original.jpg?aki_policy=small'],\n",
       " [5,\n",
       "  'https://a0.muscache.com/im/pictures/37148597/483c364b_original.jpg?aki_policy=small'],\n",
       " [6,\n",
       "  'https://a0.muscache.com/im/pictures/5ecdbcc7-9a02-40e2-9801-54c2fbf5dbf4.jpg?aki_policy=small'],\n",
       " [7,\n",
       "  'https://a0.muscache.com/im/pictures/106816640/965e2d19_original.jpg?aki_policy=small'],\n",
       " [8,\n",
       "  'https://a0.muscache.com/im/pictures/15115319/63c16404_original.jpg?aki_policy=small'],\n",
       " [9,\n",
       "  'https://a0.muscache.com/im/pictures/eaf4a298-29a9-4062-9841-8fbe5b1fe162.jpg?aki_policy=small'],\n",
       " [10,\n",
       "  'https://a0.muscache.com/im/pictures/5c5dfe8d-2e8c-4ef2-8c3c-8708d4a69b83.jpg?aki_policy=small'],\n",
       " [11,\n",
       "  'https://a0.muscache.com/im/pictures/420c7033-b107-47b3-990a-e9f48848a8b3.jpg?aki_policy=small'],\n",
       " [12,\n",
       "  'https://a0.muscache.com/im/pictures/c4463299-47aa-42f5-85a6-d9dd691da702.jpg?aki_policy=small'],\n",
       " [13,\n",
       "  'https://a0.muscache.com/im/pictures/ee3b7904-4c80-4b6c-a2b2-3526e7f192ec.jpg?aki_policy=small'],\n",
       " [14,\n",
       "  'https://a0.muscache.com/im/pictures/20cd55c6-49d1-40ae-81b9-f552ef055f28.jpg?aki_policy=small'],\n",
       " [15, nan]]"
      ]
     },
     "execution_count": 100,
     "metadata": {},
     "output_type": "execute_result"
    }
   ],
   "source": [
    "images_paths[:16]"
   ]
  },
  {
   "cell_type": "code",
   "execution_count": 101,
   "metadata": {},
   "outputs": [],
   "source": [
    "\n",
    "# This function downloads the images and returns them with the index where to save them\n",
    "\n",
    "def get_image(data_url, target_size=(224, 224)):\n",
    "    idx, url = data_url\n",
    "    try:\n",
    "        img = io.imread(url)\n",
    "        \n",
    "        # If channles info is in first place, move to last position\n",
    "        if(img.shape[0] < img.shape[1]) and (img.shape[0] < img.shape[2]):\n",
    "            img = moveaxis(img, 0, 2)\n",
    "            \n",
    "        # In case any image is RGBA, take only RGB channels\n",
    "        img = img[:,:,:3]\n",
    "              \n",
    "        # Some images may be in black & white. I convert to to RGB as otherwise it generates error\n",
    "        if img.ndim < 3:\n",
    "            img = cv2.cvtColor(img, cv2.COLOR_GRAY2RGB)\n",
    "        img = cv2.resize(img, dsize=target_size)\n",
    "        return img, idx\n",
    "    except IOError as err:\n",
    "        return (None, idx)"
   ]
  },
  {
   "cell_type": "code",
   "execution_count": 102,
   "metadata": {},
   "outputs": [],
   "source": [
    "import numpy as np\n",
    "\n",
    "# Let's only work with the first 100 samples\n",
    "images_paths = images_paths#[:100]\n",
    "\n",
    "\n",
    "# Tensor to save the images\n",
    "loaded_images = np.zeros((len(images_paths), 224, 224, 3), dtype=np.uint8)\n",
    "\n",
    "# Tensor to check whihc images were not saved\n",
    "was_loaded = np.zeros(len(images_paths))"
   ]
  },
  {
   "cell_type": "code",
   "execution_count": 103,
   "metadata": {},
   "outputs": [
    {
     "name": "stdout",
     "output_type": "stream",
     "text": [
      "(5994, 224, 224, 3)\n",
      "(5994,)\n"
     ]
    }
   ],
   "source": [
    "print(loaded_images.shape)\n",
    "print(was_loaded.shape)"
   ]
  },
  {
   "cell_type": "markdown",
   "metadata": {},
   "source": [
    "Tras un importante atasco en esta función, descubrimos que el fallo no estaba en _concurrent_, sino en _Process_, puesto que con el método _Thread_ la extracción era óptimo. Desconozco el motivo de este fallo. Se ha optado por continuar y priorizar en los requisitos del ejercicio."
   ]
  },
  {
   "cell_type": "code",
   "execution_count": 104,
   "metadata": {},
   "outputs": [
    {
     "name": "stderr",
     "output_type": "stream",
     "text": [
      "100%|██████████| 5994/5994 [07:13<00:00, 13.84it/s]"
     ]
    },
    {
     "name": "stdout",
     "output_type": "stream",
     "text": [
      "Finished!\n",
      "Number of images loaded: 4837.0/5994\n"
     ]
    },
    {
     "name": "stderr",
     "output_type": "stream",
     "text": [
      "\n"
     ]
    }
   ],
   "source": [
    "# Creating pool to load images. By default, it uses as much cores as your machine has\n",
    "\n",
    "#ProcessPoolExecutor no funcionaba\n",
    "with concurrent.futures.ThreadPoolExecutor(max_workers=1) as executor:\n",
    "    \n",
    "    for (img, idx) in tqdm(executor.map(get_image, images_paths), total=len(images_paths)):\n",
    "\n",
    "        # Loading the images\n",
    "\n",
    "        if img is not None:\n",
    "            loaded_images[idx] = img\n",
    "            was_loaded[idx] = 1\n",
    "        else:\n",
    "            was_loaded[idx] = 0\n",
    "            \n",
    "            \n",
    "print('Finished!')\n",
    "print(f'Number of images loaded: {sum(was_loaded)}/{len(images_paths)}')\n",
    "\n",
    "\n",
    "\n",
    "#def parallel_trees(m, fn, n_jobs=8):\n",
    "#return list(ThreadPoolExecutor(n_jobs).map(fn, m.estimators_))"
   ]
  },
  {
   "cell_type": "code",
   "execution_count": 105,
   "metadata": {},
   "outputs": [
    {
     "data": {
      "text/plain": [
       "array([[[213, 208, 204],\n",
       "        [213, 208, 204],\n",
       "        [213, 208, 204],\n",
       "        ...,\n",
       "        [224, 222, 223],\n",
       "        [224, 222, 223],\n",
       "        [224, 222, 223]],\n",
       "\n",
       "       [[213, 208, 204],\n",
       "        [213, 208, 204],\n",
       "        [213, 208, 204],\n",
       "        ...,\n",
       "        [224, 222, 223],\n",
       "        [224, 222, 223],\n",
       "        [224, 222, 223]],\n",
       "\n",
       "       [[213, 208, 204],\n",
       "        [213, 208, 204],\n",
       "        [213, 208, 204],\n",
       "        ...,\n",
       "        [224, 222, 223],\n",
       "        [224, 222, 223],\n",
       "        [224, 222, 223]],\n",
       "\n",
       "       ...,\n",
       "\n",
       "       [[163, 120,  87],\n",
       "        [167, 123,  90],\n",
       "        [172, 128,  95],\n",
       "        ...,\n",
       "        [ 86,  65,  44],\n",
       "        [ 87,  66,  46],\n",
       "        [ 89,  67,  47]],\n",
       "\n",
       "       [[165, 118,  83],\n",
       "        [169, 122,  86],\n",
       "        [173, 126,  92],\n",
       "        ...,\n",
       "        [ 92,  68,  45],\n",
       "        [ 93,  69,  47],\n",
       "        [ 95,  71,  48]],\n",
       "\n",
       "       [[167, 117,  80],\n",
       "        [171, 121,  84],\n",
       "        [173, 125,  88],\n",
       "        ...,\n",
       "        [100,  74,  49],\n",
       "        [102,  76,  53],\n",
       "        [104,  78,  55]]], dtype=uint8)"
      ]
     },
     "execution_count": 105,
     "metadata": {},
     "output_type": "execute_result"
    }
   ],
   "source": [
    "loaded_images[1300]"
   ]
  },
  {
   "cell_type": "code",
   "execution_count": 106,
   "metadata": {},
   "outputs": [],
   "source": [
    "# Saving images. I'd recommend to save this to not repeat this process\n",
    "np.save('images.npy', loaded_images)\n",
    "np.save('was_loaded.npy', was_loaded)"
   ]
  },
  {
   "cell_type": "markdown",
   "metadata": {},
   "source": [
    "Nos quedamos con las imágenes reales (4837 de un total de 5994 enlaces)"
   ]
  },
  {
   "cell_type": "code",
   "execution_count": 108,
   "metadata": {},
   "outputs": [
    {
     "data": {
      "text/plain": [
       "(4837, 224, 224, 3)"
      ]
     },
     "execution_count": 108,
     "metadata": {},
     "output_type": "execute_result"
    }
   ],
   "source": [
    "image_clean = loaded_images[was_loaded == 1]\n",
    "image_clean.shape"
   ]
  },
  {
   "cell_type": "code",
   "execution_count": 120,
   "metadata": {},
   "outputs": [
    {
     "data": {
      "text/plain": [
       "<matplotlib.image.AxesImage at 0x7ffb63ee0e10>"
      ]
     },
     "execution_count": 120,
     "metadata": {},
     "output_type": "execute_result"
    },
    {
     "data": {
      "image/png": "[encoded data removed]",
      "text/plain": [
       "<Figure size 432x288 with 1 Axes>"
      ]
     },
     "metadata": {
      "needs_background": "light"
     },
     "output_type": "display_data"
    }
   ],
   "source": [
    "index = 1300\n",
    "plt.imshow(image_clean[index])"
   ]
  },
  {
   "cell_type": "markdown",
   "metadata": {},
   "source": [
    "Nos quedamos con los datos de los registros que sí tienen imágenes."
   ]
  },
  {
   "cell_type": "code",
   "execution_count": 110,
   "metadata": {},
   "outputs": [],
   "source": [
    "# Filter rows. Using only the ones with images\n",
    "data_with_imgs = data[was_loaded == 1]  #[:100]"
   ]
  },
  {
   "cell_type": "markdown",
   "metadata": {},
   "source": [
    "Comprobamos que los datos están limpios y que coinciden en longitud ambos dataset."
   ]
  },
  {
   "cell_type": "code",
   "execution_count": 113,
   "metadata": {},
   "outputs": [
    {
     "data": {
      "text/plain": [
       "False    4837\n",
       "Name: Price, dtype: int64"
      ]
     },
     "execution_count": 113,
     "metadata": {},
     "output_type": "execute_result"
    }
   ],
   "source": [
    "data_with_imgs['Price'].isna().value_counts()"
   ]
  },
  {
   "cell_type": "code",
   "execution_count": 114,
   "metadata": {},
   "outputs": [
    {
     "data": {
      "text/plain": [
       "4837"
      ]
     },
     "execution_count": 114,
     "metadata": {},
     "output_type": "execute_result"
    }
   ],
   "source": [
    "len(data_with_imgs)"
   ]
  },
  {
   "cell_type": "code",
   "execution_count": 115,
   "metadata": {},
   "outputs": [
    {
     "data": {
      "text/plain": [
       "4837"
      ]
     },
     "execution_count": 115,
     "metadata": {},
     "output_type": "execute_result"
    }
   ],
   "source": [
    "len(image_clean)"
   ]
  },
  {
   "cell_type": "markdown",
   "metadata": {},
   "source": [
    "Preparación y visualización de la etiqueta _Price_ ."
   ]
  },
  {
   "cell_type": "code",
   "execution_count": 116,
   "metadata": {},
   "outputs": [],
   "source": [
    "# Select what will be our label\n",
    "y_reg = np.array(data_with_imgs['Price'])#.astype(int)"
   ]
  },
  {
   "cell_type": "code",
   "execution_count": 117,
   "metadata": {},
   "outputs": [
    {
     "data": {
      "image/png": "[encoded data removed]",
      "text/plain": [
       "<Figure size 432x288 with 1 Axes>"
      ]
     },
     "metadata": {
      "needs_background": "light"
     },
     "output_type": "display_data"
    }
   ],
   "source": [
    "# Plotting the labels\n",
    "import matplotlib.pyplot as plt\n",
    "plt.hist(y_reg, bins=10)\n",
    "plt.show()"
   ]
  },
  {
   "cell_type": "markdown",
   "metadata": {},
   "source": [
    "En este punto, siguiente el Notebook sobre carga de datos, se probó el modelo como clasificación con la categorización de las etiquetas en tres grupos. Posteriormente en cinco grupos. Finalmente se decidió realizar como regresión para el conjunto absoluto de precios."
   ]
  },
  {
   "cell_type": "markdown",
   "metadata": {},
   "source": [
    "## Optimizando datos para MLP"
   ]
  },
  {
   "cell_type": "code",
   "execution_count": 121,
   "metadata": {},
   "outputs": [
    {
     "data": {
      "text/html": [
       "<div>\n",
       "<style scoped>\n",
       "    .dataframe tbody tr th:only-of-type {\n",
       "        vertical-align: middle;\n",
       "    }\n",
       "\n",
       "    .dataframe tbody tr th {\n",
       "        vertical-align: top;\n",
       "    }\n",
       "\n",
       "    .dataframe thead th {\n",
       "        text-align: right;\n",
       "    }\n",
       "</style>\n",
       "<table border=\"1\" class=\"dataframe\">\n",
       "  <thead>\n",
       "    <tr style=\"text-align: right;\">\n",
       "      <th></th>\n",
       "      <th>Name</th>\n",
       "      <th>Neighborhood Overview</th>\n",
       "      <th>Thumbnail Url</th>\n",
       "      <th>Neighbourhood Cleansed</th>\n",
       "      <th>Property Type</th>\n",
       "      <th>Room Type</th>\n",
       "      <th>Bathrooms</th>\n",
       "      <th>Bedrooms</th>\n",
       "      <th>Beds</th>\n",
       "      <th>Amenities</th>\n",
       "      <th>Price</th>\n",
       "      <th>Security Deposit</th>\n",
       "      <th>Cleaning Fee</th>\n",
       "      <th>Extra People</th>\n",
       "      <th>Square Meters</th>\n",
       "    </tr>\n",
       "  </thead>\n",
       "  <tbody>\n",
       "    <tr>\n",
       "      <th>5</th>\n",
       "      <td>Centric room with a balcony</td>\n",
       "      <td>-</td>\n",
       "      <td>https://a0.muscache.com/im/pictures/84378550/f...</td>\n",
       "      <td>Palacio</td>\n",
       "      <td>Apartment</td>\n",
       "      <td>Private room</td>\n",
       "      <td>1.0</td>\n",
       "      <td>1.0</td>\n",
       "      <td>1.0</td>\n",
       "      <td>Wireless Internet,Kitchen,Pets allowed,Buzzer/...</td>\n",
       "      <td>20.0</td>\n",
       "      <td>100.0</td>\n",
       "      <td>0.0</td>\n",
       "      <td>10</td>\n",
       "      <td>79.989517</td>\n",
       "    </tr>\n",
       "    <tr>\n",
       "      <th>6</th>\n",
       "      <td>PLAZA DE ESPAÑA - Único - Gimnasio.</td>\n",
       "      <td>NaN</td>\n",
       "      <td>https://a0.muscache.com/im/pictures/be441d1f-4...</td>\n",
       "      <td>Palacio</td>\n",
       "      <td>Apartment</td>\n",
       "      <td>Entire home/apt</td>\n",
       "      <td>1.0</td>\n",
       "      <td>1.0</td>\n",
       "      <td>2.0</td>\n",
       "      <td>TV,Internet,Wireless Internet,Air conditioning...</td>\n",
       "      <td>112.0</td>\n",
       "      <td>250.0</td>\n",
       "      <td>15.0</td>\n",
       "      <td>5</td>\n",
       "      <td>76.656621</td>\n",
       "    </tr>\n",
       "    <tr>\n",
       "      <th>7</th>\n",
       "      <td>Loft/duplex 150m2, 3 double rooms</td>\n",
       "      <td>NaN</td>\n",
       "      <td>https://a0.muscache.com/im/pictures/c232f016-f...</td>\n",
       "      <td>Palacio</td>\n",
       "      <td>Apartment</td>\n",
       "      <td>Entire home/apt</td>\n",
       "      <td>3.0</td>\n",
       "      <td>3.0</td>\n",
       "      <td>4.0</td>\n",
       "      <td>TV,Internet,Wireless Internet,Kitchen,Pets all...</td>\n",
       "      <td>190.0</td>\n",
       "      <td>200.0</td>\n",
       "      <td>20.0</td>\n",
       "      <td>40</td>\n",
       "      <td>73.323724</td>\n",
       "    </tr>\n",
       "    <tr>\n",
       "      <th>8</th>\n",
       "      <td>CITY CENTER OPERA ROOM 8</td>\n",
       "      <td>Se encuentra en la zona de Palacio, por lo que...</td>\n",
       "      <td>https://a0.muscache.com/im/pictures/90548067/4...</td>\n",
       "      <td>Palacio</td>\n",
       "      <td>Apartment</td>\n",
       "      <td>Private room</td>\n",
       "      <td>2.0</td>\n",
       "      <td>1.0</td>\n",
       "      <td>1.0</td>\n",
       "      <td>Wireless Internet,Kitchen,Smoking allowed,Door...</td>\n",
       "      <td>30.0</td>\n",
       "      <td>0.0</td>\n",
       "      <td>15.0</td>\n",
       "      <td>5</td>\n",
       "      <td>69.990828</td>\n",
       "    </tr>\n",
       "    <tr>\n",
       "      <th>9</th>\n",
       "      <td>CITY CENTER SOL B ROOM 3</td>\n",
       "      <td>A dos minutos de la Puerta de Sol y justo al l...</td>\n",
       "      <td>https://a0.muscache.com/im/pictures/48573525/a...</td>\n",
       "      <td>Embajadores</td>\n",
       "      <td>Apartment</td>\n",
       "      <td>Private room</td>\n",
       "      <td>1.0</td>\n",
       "      <td>1.0</td>\n",
       "      <td>1.0</td>\n",
       "      <td>Wireless Internet,Kitchen,Smoking allowed,Door...</td>\n",
       "      <td>18.0</td>\n",
       "      <td>0.0</td>\n",
       "      <td>15.0</td>\n",
       "      <td>0</td>\n",
       "      <td>66.657931</td>\n",
       "    </tr>\n",
       "  </tbody>\n",
       "</table>\n",
       "</div>"
      ],
      "text/plain": [
       "                                  Name  \\\n",
       "5          Centric room with a balcony   \n",
       "6  PLAZA DE ESPAÑA - Único - Gimnasio.   \n",
       "7    Loft/duplex 150m2, 3 double rooms   \n",
       "8             CITY CENTER OPERA ROOM 8   \n",
       "9             CITY CENTER SOL B ROOM 3   \n",
       "\n",
       "                               Neighborhood Overview  \\\n",
       "5                                                  -   \n",
       "6                                                NaN   \n",
       "7                                                NaN   \n",
       "8  Se encuentra en la zona de Palacio, por lo que...   \n",
       "9  A dos minutos de la Puerta de Sol y justo al l...   \n",
       "\n",
       "                                       Thumbnail Url Neighbourhood Cleansed  \\\n",
       "5  https://a0.muscache.com/im/pictures/84378550/f...                Palacio   \n",
       "6  https://a0.muscache.com/im/pictures/be441d1f-4...                Palacio   \n",
       "7  https://a0.muscache.com/im/pictures/c232f016-f...                Palacio   \n",
       "8  https://a0.muscache.com/im/pictures/90548067/4...                Palacio   \n",
       "9  https://a0.muscache.com/im/pictures/48573525/a...            Embajadores   \n",
       "\n",
       "  Property Type        Room Type  Bathrooms  Bedrooms Beds  \\\n",
       "5     Apartment     Private room        1.0       1.0  1.0   \n",
       "6     Apartment  Entire home/apt        1.0       1.0  2.0   \n",
       "7     Apartment  Entire home/apt        3.0       3.0  4.0   \n",
       "8     Apartment     Private room        2.0       1.0  1.0   \n",
       "9     Apartment     Private room        1.0       1.0  1.0   \n",
       "\n",
       "                                           Amenities  Price  Security Deposit  \\\n",
       "5  Wireless Internet,Kitchen,Pets allowed,Buzzer/...   20.0             100.0   \n",
       "6  TV,Internet,Wireless Internet,Air conditioning...  112.0             250.0   \n",
       "7  TV,Internet,Wireless Internet,Kitchen,Pets all...  190.0             200.0   \n",
       "8  Wireless Internet,Kitchen,Smoking allowed,Door...   30.0               0.0   \n",
       "9  Wireless Internet,Kitchen,Smoking allowed,Door...   18.0               0.0   \n",
       "\n",
       "   Cleaning Fee  Extra People  Square Meters  \n",
       "5           0.0            10      79.989517  \n",
       "6          15.0             5      76.656621  \n",
       "7          20.0            40      73.323724  \n",
       "8          15.0             5      69.990828  \n",
       "9          15.0             0      66.657931  "
      ]
     },
     "execution_count": 121,
     "metadata": {},
     "output_type": "execute_result"
    }
   ],
   "source": [
    "data_with_imgs.head()"
   ]
  },
  {
   "cell_type": "code",
   "execution_count": 122,
   "metadata": {},
   "outputs": [],
   "source": [
    "cols = ['Neighbourhood Cleansed','Property Type','Room Type','Bathrooms','Bedrooms','Square Meters','Price']"
   ]
  },
  {
   "cell_type": "code",
   "execution_count": 123,
   "metadata": {},
   "outputs": [
    {
     "data": {
      "text/html": [
       "<div>\n",
       "<style scoped>\n",
       "    .dataframe tbody tr th:only-of-type {\n",
       "        vertical-align: middle;\n",
       "    }\n",
       "\n",
       "    .dataframe tbody tr th {\n",
       "        vertical-align: top;\n",
       "    }\n",
       "\n",
       "    .dataframe thead th {\n",
       "        text-align: right;\n",
       "    }\n",
       "</style>\n",
       "<table border=\"1\" class=\"dataframe\">\n",
       "  <thead>\n",
       "    <tr style=\"text-align: right;\">\n",
       "      <th></th>\n",
       "      <th>Neighbourhood Cleansed</th>\n",
       "      <th>Property Type</th>\n",
       "      <th>Room Type</th>\n",
       "      <th>Bathrooms</th>\n",
       "      <th>Bedrooms</th>\n",
       "      <th>Square Meters</th>\n",
       "      <th>Price</th>\n",
       "    </tr>\n",
       "  </thead>\n",
       "  <tbody>\n",
       "    <tr>\n",
       "      <th>5</th>\n",
       "      <td>Palacio</td>\n",
       "      <td>Apartment</td>\n",
       "      <td>Private room</td>\n",
       "      <td>1.0</td>\n",
       "      <td>1.0</td>\n",
       "      <td>79.989517</td>\n",
       "      <td>20.0</td>\n",
       "    </tr>\n",
       "    <tr>\n",
       "      <th>6</th>\n",
       "      <td>Palacio</td>\n",
       "      <td>Apartment</td>\n",
       "      <td>Entire home/apt</td>\n",
       "      <td>1.0</td>\n",
       "      <td>1.0</td>\n",
       "      <td>76.656621</td>\n",
       "      <td>112.0</td>\n",
       "    </tr>\n",
       "    <tr>\n",
       "      <th>7</th>\n",
       "      <td>Palacio</td>\n",
       "      <td>Apartment</td>\n",
       "      <td>Entire home/apt</td>\n",
       "      <td>3.0</td>\n",
       "      <td>3.0</td>\n",
       "      <td>73.323724</td>\n",
       "      <td>190.0</td>\n",
       "    </tr>\n",
       "    <tr>\n",
       "      <th>8</th>\n",
       "      <td>Palacio</td>\n",
       "      <td>Apartment</td>\n",
       "      <td>Private room</td>\n",
       "      <td>2.0</td>\n",
       "      <td>1.0</td>\n",
       "      <td>69.990828</td>\n",
       "      <td>30.0</td>\n",
       "    </tr>\n",
       "    <tr>\n",
       "      <th>9</th>\n",
       "      <td>Embajadores</td>\n",
       "      <td>Apartment</td>\n",
       "      <td>Private room</td>\n",
       "      <td>1.0</td>\n",
       "      <td>1.0</td>\n",
       "      <td>66.657931</td>\n",
       "      <td>18.0</td>\n",
       "    </tr>\n",
       "  </tbody>\n",
       "</table>\n",
       "</div>"
      ],
      "text/plain": [
       "  Neighbourhood Cleansed Property Type        Room Type  Bathrooms  Bedrooms  \\\n",
       "5                Palacio     Apartment     Private room        1.0       1.0   \n",
       "6                Palacio     Apartment  Entire home/apt        1.0       1.0   \n",
       "7                Palacio     Apartment  Entire home/apt        3.0       3.0   \n",
       "8                Palacio     Apartment     Private room        2.0       1.0   \n",
       "9            Embajadores     Apartment     Private room        1.0       1.0   \n",
       "\n",
       "   Square Meters  Price  \n",
       "5      79.989517   20.0  \n",
       "6      76.656621  112.0  \n",
       "7      73.323724  190.0  \n",
       "8      69.990828   30.0  \n",
       "9      66.657931   18.0  "
      ]
     },
     "execution_count": 123,
     "metadata": {},
     "output_type": "execute_result"
    }
   ],
   "source": [
    "data_with_imgs2 = data_with_imgs[cols]\n",
    "data_with_imgs2.head()"
   ]
  },
  {
   "cell_type": "markdown",
   "metadata": {},
   "source": [
    "Categorizamos"
   ]
  },
  {
   "cell_type": "code",
   "execution_count": 124,
   "metadata": {},
   "outputs": [
    {
     "data": {
      "text/plain": [
       "Neighbourhood Cleansed\n",
       "Abrantes        60.000000\n",
       "Acacias         42.161290\n",
       "Adelfas         49.280000\n",
       "Aeropuerto      21.000000\n",
       "Aguilas         21.833333\n",
       "                  ...    \n",
       "Valverde        40.750000\n",
       "Ventas          29.200000\n",
       "Vinateros       19.000000\n",
       "Vista Alegre    35.000000\n",
       "Zofío           20.000000\n",
       "Name: Price, Length: 123, dtype: float64"
      ]
     },
     "execution_count": 124,
     "metadata": {},
     "output_type": "execute_result"
    }
   ],
   "source": [
    "mean_Neighbourhood = data_with_imgs2.groupby('Neighbourhood Cleansed')['Price'].mean()\n",
    "mean_Neighbourhood"
   ]
  },
  {
   "cell_type": "code",
   "execution_count": 125,
   "metadata": {},
   "outputs": [
    {
     "name": "stderr",
     "output_type": "stream",
     "text": [
      "/Users/jotaemeguzman/opt/anaconda3/envs/tf/lib/python3.7/site-packages/pandas/core/indexing.py:1597: SettingWithCopyWarning: \n",
      "A value is trying to be set on a copy of a slice from a DataFrame.\n",
      "Try using .loc[row_indexer,col_indexer] = value instead\n",
      "\n",
      "See the caveats in the documentation: https://pandas.pydata.org/pandas-docs/stable/user_guide/indexing.html#returning-a-view-versus-a-copy\n",
      "  self.obj[key] = value\n",
      "/Users/jotaemeguzman/opt/anaconda3/envs/tf/lib/python3.7/site-packages/pandas/core/indexing.py:1676: SettingWithCopyWarning: \n",
      "A value is trying to be set on a copy of a slice from a DataFrame.\n",
      "Try using .loc[row_indexer,col_indexer] = value instead\n",
      "\n",
      "See the caveats in the documentation: https://pandas.pydata.org/pandas-docs/stable/user_guide/indexing.html#returning-a-view-versus-a-copy\n",
      "  self._setitem_single_column(ilocs[0], value, pi)\n"
     ]
    }
   ],
   "source": [
    "data_with_imgs2.loc[:, 'Neighbourhood Mean'] = data_with_imgs2['Neighbourhood Cleansed'].map(mean_Neighbourhood)"
   ]
  },
  {
   "cell_type": "code",
   "execution_count": 126,
   "metadata": {},
   "outputs": [],
   "source": [
    "mean_Property = data_with_imgs2.groupby('Property Type')['Square Meters'].mean()\n",
    "data_with_imgs2.loc[:, 'PropertyType Mean'] = data_with_imgs2['Property Type'].map(mean_Property)"
   ]
  },
  {
   "cell_type": "code",
   "execution_count": 127,
   "metadata": {},
   "outputs": [
    {
     "name": "stderr",
     "output_type": "stream",
     "text": [
      "/Users/jotaemeguzman/opt/anaconda3/envs/tf/lib/python3.7/site-packages/ipykernel_launcher.py:2: SettingWithCopyWarning: \n",
      "A value is trying to be set on a copy of a slice from a DataFrame.\n",
      "Try using .loc[row_indexer,col_indexer] = value instead\n",
      "\n",
      "See the caveats in the documentation: https://pandas.pydata.org/pandas-docs/stable/user_guide/indexing.html#returning-a-view-versus-a-copy\n",
      "  \n"
     ]
    }
   ],
   "source": [
    "typeRoom_dict = {'Shared room':1,'Private room':2,'Entire home/apt':3}\n",
    "data_with_imgs2['Type Room Order'] = data_with_imgs2['Room Type'].map(typeRoom_dict)"
   ]
  },
  {
   "cell_type": "code",
   "execution_count": 128,
   "metadata": {},
   "outputs": [
    {
     "data": {
      "text/html": [
       "<div>\n",
       "<style scoped>\n",
       "    .dataframe tbody tr th:only-of-type {\n",
       "        vertical-align: middle;\n",
       "    }\n",
       "\n",
       "    .dataframe tbody tr th {\n",
       "        vertical-align: top;\n",
       "    }\n",
       "\n",
       "    .dataframe thead th {\n",
       "        text-align: right;\n",
       "    }\n",
       "</style>\n",
       "<table border=\"1\" class=\"dataframe\">\n",
       "  <thead>\n",
       "    <tr style=\"text-align: right;\">\n",
       "      <th></th>\n",
       "      <th>Neighbourhood Cleansed</th>\n",
       "      <th>Property Type</th>\n",
       "      <th>Room Type</th>\n",
       "      <th>Bathrooms</th>\n",
       "      <th>Bedrooms</th>\n",
       "      <th>Square Meters</th>\n",
       "      <th>Price</th>\n",
       "      <th>Neighbourhood Mean</th>\n",
       "      <th>PropertyType Mean</th>\n",
       "      <th>Type Room Order</th>\n",
       "    </tr>\n",
       "  </thead>\n",
       "  <tbody>\n",
       "    <tr>\n",
       "      <th>5</th>\n",
       "      <td>Palacio</td>\n",
       "      <td>Apartment</td>\n",
       "      <td>Private room</td>\n",
       "      <td>1.0</td>\n",
       "      <td>1.0</td>\n",
       "      <td>79.989517</td>\n",
       "      <td>20.0</td>\n",
       "      <td>69.103704</td>\n",
       "      <td>63.065834</td>\n",
       "      <td>2</td>\n",
       "    </tr>\n",
       "    <tr>\n",
       "      <th>6</th>\n",
       "      <td>Palacio</td>\n",
       "      <td>Apartment</td>\n",
       "      <td>Entire home/apt</td>\n",
       "      <td>1.0</td>\n",
       "      <td>1.0</td>\n",
       "      <td>76.656621</td>\n",
       "      <td>112.0</td>\n",
       "      <td>69.103704</td>\n",
       "      <td>63.065834</td>\n",
       "      <td>3</td>\n",
       "    </tr>\n",
       "    <tr>\n",
       "      <th>7</th>\n",
       "      <td>Palacio</td>\n",
       "      <td>Apartment</td>\n",
       "      <td>Entire home/apt</td>\n",
       "      <td>3.0</td>\n",
       "      <td>3.0</td>\n",
       "      <td>73.323724</td>\n",
       "      <td>190.0</td>\n",
       "      <td>69.103704</td>\n",
       "      <td>63.065834</td>\n",
       "      <td>3</td>\n",
       "    </tr>\n",
       "    <tr>\n",
       "      <th>8</th>\n",
       "      <td>Palacio</td>\n",
       "      <td>Apartment</td>\n",
       "      <td>Private room</td>\n",
       "      <td>2.0</td>\n",
       "      <td>1.0</td>\n",
       "      <td>69.990828</td>\n",
       "      <td>30.0</td>\n",
       "      <td>69.103704</td>\n",
       "      <td>63.065834</td>\n",
       "      <td>2</td>\n",
       "    </tr>\n",
       "    <tr>\n",
       "      <th>9</th>\n",
       "      <td>Embajadores</td>\n",
       "      <td>Apartment</td>\n",
       "      <td>Private room</td>\n",
       "      <td>1.0</td>\n",
       "      <td>1.0</td>\n",
       "      <td>66.657931</td>\n",
       "      <td>18.0</td>\n",
       "      <td>55.594720</td>\n",
       "      <td>63.065834</td>\n",
       "      <td>2</td>\n",
       "    </tr>\n",
       "  </tbody>\n",
       "</table>\n",
       "</div>"
      ],
      "text/plain": [
       "  Neighbourhood Cleansed Property Type        Room Type  Bathrooms  Bedrooms  \\\n",
       "5                Palacio     Apartment     Private room        1.0       1.0   \n",
       "6                Palacio     Apartment  Entire home/apt        1.0       1.0   \n",
       "7                Palacio     Apartment  Entire home/apt        3.0       3.0   \n",
       "8                Palacio     Apartment     Private room        2.0       1.0   \n",
       "9            Embajadores     Apartment     Private room        1.0       1.0   \n",
       "\n",
       "   Square Meters  Price  Neighbourhood Mean  PropertyType Mean  \\\n",
       "5      79.989517   20.0           69.103704          63.065834   \n",
       "6      76.656621  112.0           69.103704          63.065834   \n",
       "7      73.323724  190.0           69.103704          63.065834   \n",
       "8      69.990828   30.0           69.103704          63.065834   \n",
       "9      66.657931   18.0           55.594720          63.065834   \n",
       "\n",
       "   Type Room Order  \n",
       "5                2  \n",
       "6                3  \n",
       "7                3  \n",
       "8                2  \n",
       "9                2  "
      ]
     },
     "execution_count": 128,
     "metadata": {},
     "output_type": "execute_result"
    }
   ],
   "source": [
    "data_with_imgs2.head()"
   ]
  },
  {
   "cell_type": "code",
   "execution_count": 129,
   "metadata": {},
   "outputs": [],
   "source": [
    "cols = ['Bathrooms','Bedrooms','Square Meters','Neighbourhood Mean','PropertyType Mean','Type Room Order']"
   ]
  },
  {
   "cell_type": "code",
   "execution_count": 130,
   "metadata": {},
   "outputs": [],
   "source": [
    "data_with_imgs3 = data_with_imgs2[cols]"
   ]
  },
  {
   "cell_type": "code",
   "execution_count": 131,
   "metadata": {},
   "outputs": [
    {
     "name": "stderr",
     "output_type": "stream",
     "text": [
      "/Users/jotaemeguzman/opt/anaconda3/envs/tf/lib/python3.7/site-packages/ipykernel_launcher.py:1: SettingWithCopyWarning: \n",
      "A value is trying to be set on a copy of a slice from a DataFrame.\n",
      "Try using .loc[row_indexer,col_indexer] = value instead\n",
      "\n",
      "See the caveats in the documentation: https://pandas.pydata.org/pandas-docs/stable/user_guide/indexing.html#returning-a-view-versus-a-copy\n",
      "  \"\"\"Entry point for launching an IPython kernel.\n",
      "/Users/jotaemeguzman/opt/anaconda3/envs/tf/lib/python3.7/site-packages/ipykernel_launcher.py:2: SettingWithCopyWarning: \n",
      "A value is trying to be set on a copy of a slice from a DataFrame.\n",
      "Try using .loc[row_indexer,col_indexer] = value instead\n",
      "\n",
      "See the caveats in the documentation: https://pandas.pydata.org/pandas-docs/stable/user_guide/indexing.html#returning-a-view-versus-a-copy\n",
      "  \n",
      "/Users/jotaemeguzman/opt/anaconda3/envs/tf/lib/python3.7/site-packages/ipykernel_launcher.py:3: SettingWithCopyWarning: \n",
      "A value is trying to be set on a copy of a slice from a DataFrame.\n",
      "Try using .loc[row_indexer,col_indexer] = value instead\n",
      "\n",
      "See the caveats in the documentation: https://pandas.pydata.org/pandas-docs/stable/user_guide/indexing.html#returning-a-view-versus-a-copy\n",
      "  This is separate from the ipykernel package so we can avoid doing imports until\n"
     ]
    },
    {
     "data": {
      "text/html": [
       "<div>\n",
       "<style scoped>\n",
       "    .dataframe tbody tr th:only-of-type {\n",
       "        vertical-align: middle;\n",
       "    }\n",
       "\n",
       "    .dataframe tbody tr th {\n",
       "        vertical-align: top;\n",
       "    }\n",
       "\n",
       "    .dataframe thead th {\n",
       "        text-align: right;\n",
       "    }\n",
       "</style>\n",
       "<table border=\"1\" class=\"dataframe\">\n",
       "  <thead>\n",
       "    <tr style=\"text-align: right;\">\n",
       "      <th></th>\n",
       "      <th>Bathrooms</th>\n",
       "      <th>Bedrooms</th>\n",
       "      <th>Square Meters</th>\n",
       "      <th>Neighbourhood Mean</th>\n",
       "      <th>PropertyType Mean</th>\n",
       "      <th>Type Room Order</th>\n",
       "    </tr>\n",
       "  </thead>\n",
       "  <tbody>\n",
       "    <tr>\n",
       "      <th>5</th>\n",
       "      <td>1.0</td>\n",
       "      <td>1.0</td>\n",
       "      <td>79.989517</td>\n",
       "      <td>69.103704</td>\n",
       "      <td>63.065834</td>\n",
       "      <td>2</td>\n",
       "    </tr>\n",
       "    <tr>\n",
       "      <th>6</th>\n",
       "      <td>1.0</td>\n",
       "      <td>1.0</td>\n",
       "      <td>76.656621</td>\n",
       "      <td>69.103704</td>\n",
       "      <td>63.065834</td>\n",
       "      <td>3</td>\n",
       "    </tr>\n",
       "    <tr>\n",
       "      <th>7</th>\n",
       "      <td>3.0</td>\n",
       "      <td>3.0</td>\n",
       "      <td>73.323724</td>\n",
       "      <td>69.103704</td>\n",
       "      <td>63.065834</td>\n",
       "      <td>3</td>\n",
       "    </tr>\n",
       "    <tr>\n",
       "      <th>8</th>\n",
       "      <td>2.0</td>\n",
       "      <td>1.0</td>\n",
       "      <td>69.990828</td>\n",
       "      <td>69.103704</td>\n",
       "      <td>63.065834</td>\n",
       "      <td>2</td>\n",
       "    </tr>\n",
       "    <tr>\n",
       "      <th>9</th>\n",
       "      <td>1.0</td>\n",
       "      <td>1.0</td>\n",
       "      <td>66.657931</td>\n",
       "      <td>55.594720</td>\n",
       "      <td>63.065834</td>\n",
       "      <td>2</td>\n",
       "    </tr>\n",
       "  </tbody>\n",
       "</table>\n",
       "</div>"
      ],
      "text/plain": [
       "   Bathrooms  Bedrooms  Square Meters  Neighbourhood Mean  PropertyType Mean  \\\n",
       "5        1.0       1.0      79.989517           69.103704          63.065834   \n",
       "6        1.0       1.0      76.656621           69.103704          63.065834   \n",
       "7        3.0       3.0      73.323724           69.103704          63.065834   \n",
       "8        2.0       1.0      69.990828           69.103704          63.065834   \n",
       "9        1.0       1.0      66.657931           55.594720          63.065834   \n",
       "\n",
       "   Type Room Order  \n",
       "5                2  \n",
       "6                3  \n",
       "7                3  \n",
       "8                2  \n",
       "9                2  "
      ]
     },
     "execution_count": 131,
     "metadata": {},
     "output_type": "execute_result"
    }
   ],
   "source": [
    "data_with_imgs3['Neighbourhood Mean'] = pd.to_numeric(data_with_imgs3['Neighbourhood Mean'])\n",
    "data_with_imgs3['PropertyType Mean'] = pd.to_numeric(data_with_imgs3['PropertyType Mean'])\n",
    "data_with_imgs3['Type Room Order'] = pd.to_numeric(data_with_imgs3['Type Room Order'])\n",
    "data_with_imgs3.head()"
   ]
  },
  {
   "cell_type": "code",
   "execution_count": 133,
   "metadata": {},
   "outputs": [],
   "source": [
    "#División de datos para MLP\n",
    "X_train_mlp, X_test_mlp = train_test_split(data_with_imgs3, test_size=0.2, shuffle=True, random_state=0)"
   ]
  },
  {
   "cell_type": "code",
   "execution_count": 134,
   "metadata": {},
   "outputs": [],
   "source": [
    "#División de datos para CNN\n",
    "X_train_cnn, X_test_cnn = train_test_split(image_clean, test_size=0.2, shuffle=True, random_state=0)"
   ]
  },
  {
   "cell_type": "code",
   "execution_count": 135,
   "metadata": {},
   "outputs": [],
   "source": [
    "#División de labels\n",
    "Y_train_orig, Y_test_orig = train_test_split(y_reg, test_size=0.2, shuffle=True, random_state=0)"
   ]
  },
  {
   "cell_type": "code",
   "execution_count": 136,
   "metadata": {},
   "outputs": [],
   "source": [
    "Y_train_orig = np.array(Y_train_orig)\n",
    "Y_test_orig = np.array(Y_test_orig)"
   ]
  },
  {
   "cell_type": "code",
   "execution_count": 139,
   "metadata": {},
   "outputs": [
    {
     "name": "stdout",
     "output_type": "stream",
     "text": [
      "3869\n",
      "3869\n",
      "3869\n"
     ]
    }
   ],
   "source": [
    "print(len(X_train_mlp))\n",
    "print(len(X_train_cnn))\n",
    "print(len(Y_train_orig))"
   ]
  },
  {
   "cell_type": "code",
   "execution_count": 140,
   "metadata": {},
   "outputs": [
    {
     "name": "stdout",
     "output_type": "stream",
     "text": [
      "(3869, 6)\n",
      "(3869, 224, 224, 3)\n",
      "(3869,)\n"
     ]
    }
   ],
   "source": []
  },
  {
   "cell_type": "code",
   "execution_count": 142,
   "metadata": {},
   "outputs": [],
   "source": [
    "Y_train_orig = np.expand_dims(Y_train_orig, axis=1)\n",
    "Y_test_orig = np.expand_dims(Y_test_orig, axis=1)"
   ]
  },
  {
   "cell_type": "markdown",
   "metadata": {},
   "source": [
    "En este punto es donde nos dimos cuenta que el valor máximo de la etiqueta precio era de 722, por lo que decidimos volver a la limpieza de datos y eliminar esos valores consideramos outliers."
   ]
  },
  {
   "cell_type": "code",
   "execution_count": 143,
   "metadata": {},
   "outputs": [
    {
     "data": {
      "text/plain": [
       "250.0"
      ]
     },
     "execution_count": 143,
     "metadata": {},
     "output_type": "execute_result"
    }
   ],
   "source": [
    "Y_train_orig.max()"
   ]
  },
  {
   "cell_type": "code",
   "execution_count": 145,
   "metadata": {},
   "outputs": [],
   "source": [
    "X_train_mlp = X_train_mlp/X_train_mlp.max()\n",
    "X_test_mlp = X_test_mlp/X_test_mlp.max()\n",
    "X_train_cnn = X_train_cnn/255.\n",
    "X_test_cnn = X_test_cnn/255.\n",
    "Y_train = Y_train_orig/Y_train_orig.max()\n",
    "Y_test = Y_test_orig/Y_test_orig.max()"
   ]
  },
  {
   "cell_type": "code",
   "execution_count": 146,
   "metadata": {},
   "outputs": [
    {
     "name": "stdout",
     "output_type": "stream",
     "text": [
      "(3869, 6)\n",
      "(968, 6)\n",
      "(3869, 224, 224, 3)\n",
      "(968, 224, 224, 3)\n",
      "(3869, 1)\n",
      "(3869, 1)\n"
     ]
    }
   ],
   "source": [
    "print(X_train_mlp.shape)\n",
    "print(X_test_mlp.shape)\n",
    "print(X_train_cnn.shape)\n",
    "print(X_test_cnn.shape)\n",
    "print(Y_train.shape)\n",
    "print(Y_train.shape)\n"
   ]
  },
  {
   "cell_type": "code",
   "execution_count": 147,
   "metadata": {},
   "outputs": [
    {
     "data": {
      "text/plain": [
       "array([0.184])"
      ]
     },
     "execution_count": 147,
     "metadata": {},
     "output_type": "execute_result"
    }
   ],
   "source": [
    "Y_train[1300]"
   ]
  },
  {
   "cell_type": "code",
   "execution_count": null,
   "metadata": {},
   "outputs": [],
   "source": [
    "print(X_train.shape)\n",
    "print(X_train_norm.shape)\n",
    "print(Y_train.shape)\n"
   ]
  },
  {
   "cell_type": "markdown",
   "metadata": {},
   "source": [
    "# MLP"
   ]
  },
  {
   "cell_type": "code",
   "execution_count": 149,
   "metadata": {},
   "outputs": [],
   "source": [
    "from tensorflow.keras.models import Sequential, Model\n",
    "from tensorflow.keras.layers import BatchNormalization, Conv2D, MaxPooling2D, Activation, Dropout, Dense, Flatten, Input"
   ]
  },
  {
   "cell_type": "markdown",
   "metadata": {},
   "source": [
    "Optamos por una arquitectura sencilla, puesto que los datos numéricos no requieren un modelo muy complejo."
   ]
  },
  {
   "cell_type": "markdown",
   "metadata": {},
   "source": [
    "Como se especificó antes, se optó por el modelo más sensillo de Regresión usando como etiquetas todos los precios tratados. Activación _relu_ en capas intermedias y salida _linear_ ."
   ]
  },
  {
   "cell_type": "code",
   "execution_count": 150,
   "metadata": {},
   "outputs": [],
   "source": [
    "def mlp():\n",
    "    model = Sequential()\n",
    "    model.add(Dense(8, activation=\"relu\"))\n",
    "    model.add(Dense(4, activation=\"relu\"))\n",
    "    model.add(Dense(1, activation=\"linear\"))\n",
    "\n",
    "    return model"
   ]
  },
  {
   "cell_type": "code",
   "execution_count": 151,
   "metadata": {},
   "outputs": [],
   "source": [
    "model_mlp = mlp()"
   ]
  },
  {
   "cell_type": "markdown",
   "metadata": {},
   "source": [
    "En todas las pruebas, MAE y MSE son quienes mejor rendimiento han dado en la función de pérdida, por lo que se ha decidido esta configuración como la más óptima para la regresión (manteniendo el optimizador Adam al ser el más usado)."
   ]
  },
  {
   "cell_type": "code",
   "execution_count": 155,
   "metadata": {},
   "outputs": [],
   "source": [
    "model_mlp.compile(loss=\"mean_absolute_error\",\n",
    "              optimizer=tf.keras.optimizers.Adam(),\n",
    "                metrics=\"mean_squared_error\")"
   ]
  },
  {
   "cell_type": "markdown",
   "metadata": {},
   "source": [
    "Las pruebas iniciales se han realizado para un Batch Size de 10, pero al ir bastante rápido (arquitectura sencilla y numérico), hemos optado por usar finalmente el Batch completo. Hemos considerado 20 épocas como un hiperparámetro óptimo, ya que tras las pruebas, a partir de 20, el modelo prácticamente dejaba de mejorar."
   ]
  },
  {
   "cell_type": "code",
   "execution_count": 156,
   "metadata": {},
   "outputs": [
    {
     "name": "stdout",
     "output_type": "stream",
     "text": [
      "Epoch 1/50\n",
      "3869/3869 [==============================] - 2s 585us/step - loss: 0.0776 - mean_squared_error: 0.0155 - val_loss: 0.0731 - val_mean_squared_error: 0.0128\n",
      "Epoch 2/50\n",
      "3869/3869 [==============================] - 2s 564us/step - loss: 0.0703 - mean_squared_error: 0.0117 - val_loss: 0.0780 - val_mean_squared_error: 0.0142\n",
      "Epoch 3/50\n",
      "3869/3869 [==============================] - 2s 575us/step - loss: 0.0699 - mean_squared_error: 0.0116 - val_loss: 0.0719 - val_mean_squared_error: 0.0120\n",
      "Epoch 4/50\n",
      "3869/3869 [==============================] - 2s 579us/step - loss: 0.0693 - mean_squared_error: 0.0114 - val_loss: 0.0659 - val_mean_squared_error: 0.0096\n",
      "Epoch 5/50\n",
      "3869/3869 [==============================] - 2s 575us/step - loss: 0.0683 - mean_squared_error: 0.0111 - val_loss: 0.0785 - val_mean_squared_error: 0.0143\n",
      "Epoch 6/50\n",
      "3869/3869 [==============================] - 2s 578us/step - loss: 0.0680 - mean_squared_error: 0.0110 - val_loss: 0.0683 - val_mean_squared_error: 0.0113\n",
      "Epoch 7/50\n",
      "3869/3869 [==============================] - 2s 582us/step - loss: 0.0672 - mean_squared_error: 0.0108 - val_loss: 0.0666 - val_mean_squared_error: 0.0102\n",
      "Epoch 8/50\n",
      "3869/3869 [==============================] - 2s 586us/step - loss: 0.0668 - mean_squared_error: 0.0106 - val_loss: 0.0657 - val_mean_squared_error: 0.0105\n",
      "Epoch 9/50\n",
      "3869/3869 [==============================] - 2s 589us/step - loss: 0.0661 - mean_squared_error: 0.0104 - val_loss: 0.0675 - val_mean_squared_error: 0.0117\n",
      "Epoch 10/50\n",
      "3869/3869 [==============================] - 2s 591us/step - loss: 0.0656 - mean_squared_error: 0.0104 - val_loss: 0.0691 - val_mean_squared_error: 0.0113\n",
      "Epoch 11/50\n",
      "3869/3869 [==============================] - 2s 591us/step - loss: 0.0656 - mean_squared_error: 0.0102 - val_loss: 0.0651 - val_mean_squared_error: 0.0100\n",
      "Epoch 12/50\n",
      "3869/3869 [==============================] - 2s 592us/step - loss: 0.0658 - mean_squared_error: 0.0103 - val_loss: 0.0762 - val_mean_squared_error: 0.0131\n",
      "Epoch 13/50\n",
      "3869/3869 [==============================] - 2s 590us/step - loss: 0.0653 - mean_squared_error: 0.0102 - val_loss: 0.0765 - val_mean_squared_error: 0.0144\n",
      "Epoch 14/50\n",
      "3869/3869 [==============================] - 2s 604us/step - loss: 0.0653 - mean_squared_error: 0.0102 - val_loss: 0.0722 - val_mean_squared_error: 0.0120\n",
      "Epoch 15/50\n",
      "3869/3869 [==============================] - 2s 593us/step - loss: 0.0651 - mean_squared_error: 0.0100 - val_loss: 0.0783 - val_mean_squared_error: 0.0142\n",
      "Epoch 16/50\n",
      "3869/3869 [==============================] - 2s 634us/step - loss: 0.0653 - mean_squared_error: 0.0102 - val_loss: 0.0684 - val_mean_squared_error: 0.0115\n",
      "Epoch 17/50\n",
      "3869/3869 [==============================] - 2s 594us/step - loss: 0.0652 - mean_squared_error: 0.0101 - val_loss: 0.0700 - val_mean_squared_error: 0.0119\n",
      "Epoch 18/50\n",
      "3869/3869 [==============================] - 2s 595us/step - loss: 0.0646 - mean_squared_error: 0.0099 - val_loss: 0.0747 - val_mean_squared_error: 0.0152\n",
      "Epoch 19/50\n",
      "3869/3869 [==============================] - 2s 596us/step - loss: 0.0645 - mean_squared_error: 0.0100 - val_loss: 0.0663 - val_mean_squared_error: 0.0105\n",
      "Epoch 20/50\n",
      "3869/3869 [==============================] - 2s 622us/step - loss: 0.0653 - mean_squared_error: 0.0101 - val_loss: 0.0719 - val_mean_squared_error: 0.0141\n",
      "Epoch 21/50\n",
      "3869/3869 [==============================] - 2s 607us/step - loss: 0.0643 - mean_squared_error: 0.0100 - val_loss: 0.0696 - val_mean_squared_error: 0.0117\n",
      "Epoch 22/50\n",
      "3869/3869 [==============================] - 2s 595us/step - loss: 0.0641 - mean_squared_error: 0.0097 - val_loss: 0.0643 - val_mean_squared_error: 0.0098\n",
      "Epoch 23/50\n",
      "3869/3869 [==============================] - 2s 590us/step - loss: 0.0647 - mean_squared_error: 0.0098 - val_loss: 0.0659 - val_mean_squared_error: 0.0106\n",
      "Epoch 24/50\n",
      "3869/3869 [==============================] - 2s 590us/step - loss: 0.0644 - mean_squared_error: 0.0099 - val_loss: 0.0705 - val_mean_squared_error: 0.0123\n",
      "Epoch 25/50\n",
      "3869/3869 [==============================] - 2s 589us/step - loss: 0.0644 - mean_squared_error: 0.0098 - val_loss: 0.0732 - val_mean_squared_error: 0.0127\n",
      "Epoch 26/50\n",
      "3869/3869 [==============================] - 2s 588us/step - loss: 0.0643 - mean_squared_error: 0.0099 - val_loss: 0.0707 - val_mean_squared_error: 0.0116\n",
      "Epoch 27/50\n",
      "3869/3869 [==============================] - 2s 583us/step - loss: 0.0644 - mean_squared_error: 0.0098 - val_loss: 0.0682 - val_mean_squared_error: 0.0113\n",
      "Epoch 28/50\n",
      "3869/3869 [==============================] - 2s 583us/step - loss: 0.0640 - mean_squared_error: 0.0098 - val_loss: 0.0656 - val_mean_squared_error: 0.0104\n",
      "Epoch 29/50\n",
      "3869/3869 [==============================] - 2s 624us/step - loss: 0.0641 - mean_squared_error: 0.0097 - val_loss: 0.0854 - val_mean_squared_error: 0.0188\n",
      "Epoch 30/50\n",
      "3869/3869 [==============================] - 2s 591us/step - loss: 0.0642 - mean_squared_error: 0.0099 - val_loss: 0.0653 - val_mean_squared_error: 0.0099\n",
      "Epoch 31/50\n",
      "3869/3869 [==============================] - 2s 599us/step - loss: 0.0643 - mean_squared_error: 0.0098 - val_loss: 0.0680 - val_mean_squared_error: 0.0108\n",
      "Epoch 32/50\n",
      "3869/3869 [==============================] - 2s 590us/step - loss: 0.0644 - mean_squared_error: 0.0099 - val_loss: 0.0677 - val_mean_squared_error: 0.0108\n",
      "Epoch 33/50\n",
      "3869/3869 [==============================] - 3s 721us/step - loss: 0.0639 - mean_squared_error: 0.0098 - val_loss: 0.0745 - val_mean_squared_error: 0.0137\n",
      "Epoch 34/50\n",
      "3869/3869 [==============================] - 2s 615us/step - loss: 0.0642 - mean_squared_error: 0.0098 - val_loss: 0.0658 - val_mean_squared_error: 0.0104\n",
      "Epoch 35/50\n",
      "3869/3869 [==============================] - 2s 634us/step - loss: 0.0642 - mean_squared_error: 0.0098 - val_loss: 0.0657 - val_mean_squared_error: 0.0105\n",
      "Epoch 36/50\n",
      "3869/3869 [==============================] - 3s 647us/step - loss: 0.0640 - mean_squared_error: 0.0098 - val_loss: 0.0635 - val_mean_squared_error: 0.0094\n",
      "Epoch 37/50\n",
      "3869/3869 [==============================] - 2s 623us/step - loss: 0.0639 - mean_squared_error: 0.0098 - val_loss: 0.0662 - val_mean_squared_error: 0.0105\n",
      "Epoch 38/50\n",
      "3869/3869 [==============================] - 2s 582us/step - loss: 0.0639 - mean_squared_error: 0.0096 - val_loss: 0.0758 - val_mean_squared_error: 0.0133\n",
      "Epoch 39/50\n",
      "3869/3869 [==============================] - 2s 613us/step - loss: 0.0639 - mean_squared_error: 0.0098 - val_loss: 0.0648 - val_mean_squared_error: 0.0101\n",
      "Epoch 40/50\n",
      "3869/3869 [==============================] - 2s 616us/step - loss: 0.0637 - mean_squared_error: 0.0096 - val_loss: 0.0702 - val_mean_squared_error: 0.0131\n",
      "Epoch 41/50\n",
      "3869/3869 [==============================] - 2s 604us/step - loss: 0.0638 - mean_squared_error: 0.0096 - val_loss: 0.0630 - val_mean_squared_error: 0.0095\n",
      "Epoch 42/50\n",
      "3869/3869 [==============================] - 3s 654us/step - loss: 0.0636 - mean_squared_error: 0.0098 - val_loss: 0.0757 - val_mean_squared_error: 0.0131\n",
      "Epoch 43/50\n",
      "3869/3869 [==============================] - 2s 588us/step - loss: 0.0635 - mean_squared_error: 0.0096 - val_loss: 0.0692 - val_mean_squared_error: 0.0122\n",
      "Epoch 44/50\n",
      "3869/3869 [==============================] - 2s 593us/step - loss: 0.0636 - mean_squared_error: 0.0096 - val_loss: 0.0822 - val_mean_squared_error: 0.0151\n",
      "Epoch 45/50\n",
      "3869/3869 [==============================] - 2s 588us/step - loss: 0.0636 - mean_squared_error: 0.0096 - val_loss: 0.0797 - val_mean_squared_error: 0.0145\n",
      "Epoch 46/50\n",
      "3869/3869 [==============================] - 2s 587us/step - loss: 0.0637 - mean_squared_error: 0.0097 - val_loss: 0.0699 - val_mean_squared_error: 0.0120\n",
      "Epoch 47/50\n",
      "3869/3869 [==============================] - 2s 587us/step - loss: 0.0636 - mean_squared_error: 0.0097 - val_loss: 0.0695 - val_mean_squared_error: 0.0116\n",
      "Epoch 48/50\n",
      "3869/3869 [==============================] - 2s 594us/step - loss: 0.0639 - mean_squared_error: 0.0097 - val_loss: 0.0709 - val_mean_squared_error: 0.0124\n",
      "Epoch 49/50\n",
      "3869/3869 [==============================] - 2s 595us/step - loss: 0.0636 - mean_squared_error: 0.0097 - val_loss: 0.0634 - val_mean_squared_error: 0.0095\n",
      "Epoch 50/50\n"
     ]
    },
    {
     "name": "stdout",
     "output_type": "stream",
     "text": [
      "3869/3869 [==============================] - 2s 602us/step - loss: 0.0637 - mean_squared_error: 0.0097 - val_loss: 0.0668 - val_mean_squared_error: 0.0110\n"
     ]
    },
    {
     "data": {
      "text/plain": [
       "<tensorflow.python.keras.callbacks.History at 0x7ffb90a78e50>"
      ]
     },
     "execution_count": 156,
     "metadata": {},
     "output_type": "execute_result"
    }
   ],
   "source": [
    "model_mlp.fit(X_train_mlp,\n",
    "          Y_train,\n",
    "          batch_size=1,\n",
    "          epochs=20,\n",
    "          verbose=1,\n",
    "          validation_data=(X_test_mlp, Y_test))"
   ]
  },
  {
   "cell_type": "code",
   "execution_count": 157,
   "metadata": {},
   "outputs": [
    {
     "name": "stdout",
     "output_type": "stream",
     "text": [
      "31/31 [==============================] - 0s 700us/step - loss: 0.0668 - mean_squared_error: 0.0110\n",
      "MSE =  0.01104831788688898\n"
     ]
    }
   ],
   "source": [
    "loss, mse = model_mlp.evaluate(X_test_mlp, Y_test)\n",
    "print(\"MSE = \", mse)"
   ]
  },
  {
   "cell_type": "markdown",
   "metadata": {},
   "source": [
    "# CNN"
   ]
  },
  {
   "cell_type": "markdown",
   "metadata": {},
   "source": [
    "- La primera arquitectura que probamos fue sencilla (CONV2 > BN > MPOOL) basada en LeNet.\n",
    "- Posteriormente aumentamos el número de capas, probamos Dropout en la salida de la capa Pooling y fuimos mejorando el rendimiento hasta alcanzar un resultado óptimo.\n",
    "- Prueba de desactivación de las capas de Pooling (MaxPooling) que ralentizó considerablemente el entrenamiento sin que mejorara el resultado.\n",
    "- Finalmente, optamos por una arquitectura básica x3, alcanzando las 64 neuronas en una de las capas más profundas.\n",
    "- Una de las pruebas de arquitectura fue la que determinó también optar por un modelo de regresión con las etiquetas precios en lugar de clasificación. Por eso repetimos la salida con una neurona y la activación _linear_ ."
   ]
  },
  {
   "cell_type": "code",
   "execution_count": 160,
   "metadata": {},
   "outputs": [],
   "source": [
    "def cnn():\n",
    "    model = tf.keras.Sequential()\n",
    "    model.add(tf.keras.layers.Conv2D(16, [3, 3], activation='relu', input_shape=(224, 224, 3)))\n",
    "    model.add(tf.keras.layers.BatchNormalization())\n",
    "    model.add(tf.keras.layers.MaxPooling2D(pool_size=(2, 2))) #No es necesario aplicar pool size pero mejora\n",
    "    model.add(tf.keras.layers.Dropout(0.25))\n",
    "    model.add(tf.keras.layers.Conv2D(32, [3, 3], activation='relu', input_shape=(224, 224, 3)))\n",
    "    model.add(tf.keras.layers.BatchNormalization())\n",
    "    model.add(tf.keras.layers.MaxPooling2D(pool_size=(2, 2))) \n",
    "    model.add(tf.keras.layers.Dropout(0.25))\n",
    "    model.add(tf.keras.layers.Conv2D(64, [3, 3], activation='relu', input_shape=(224, 224, 3)))\n",
    "    model.add(tf.keras.layers.BatchNormalization())\n",
    "    model.add(tf.keras.layers.MaxPooling2D(pool_size=(2, 2))) \n",
    "    model.add(tf.keras.layers.Dropout(0.25)) \n",
    "    model.add(tf.keras.layers.Flatten())  # FC\n",
    "    model.add(tf.keras.layers.Dense(16, activation='relu')) \n",
    "    model.add(tf.keras.layers.BatchNormalization())\n",
    "    model.add(tf.keras.layers.Dropout(0.5))  # Aumenta el número de filtros que apago y mejora.\n",
    "    model.add(tf.keras.layers.Dense(1, activation=\"linear\")) #Regresión  Linear\n",
    "    return model"
   ]
  },
  {
   "cell_type": "code",
   "execution_count": 161,
   "metadata": {},
   "outputs": [],
   "source": [
    "model_cnn = cnn()"
   ]
  },
  {
   "cell_type": "markdown",
   "metadata": {},
   "source": [
    "Repetimos la función de pérdida con MAE."
   ]
  },
  {
   "cell_type": "code",
   "execution_count": 163,
   "metadata": {},
   "outputs": [
    {
     "name": "stdout",
     "output_type": "stream",
     "text": [
      "Model: \"sequential_1\"\n",
      "_________________________________________________________________\n",
      "Layer (type)                 Output Shape              Param #   \n",
      "=================================================================\n",
      "conv2d (Conv2D)              (None, 222, 222, 16)      448       \n",
      "_________________________________________________________________\n",
      "batch_normalization (BatchNo (None, 222, 222, 16)      64        \n",
      "_________________________________________________________________\n",
      "max_pooling2d (MaxPooling2D) (None, 111, 111, 16)      0         \n",
      "_________________________________________________________________\n",
      "dropout (Dropout)            (None, 111, 111, 16)      0         \n",
      "_________________________________________________________________\n",
      "conv2d_1 (Conv2D)            (None, 109, 109, 32)      4640      \n",
      "_________________________________________________________________\n",
      "batch_normalization_1 (Batch (None, 109, 109, 32)      128       \n",
      "_________________________________________________________________\n",
      "max_pooling2d_1 (MaxPooling2 (None, 54, 54, 32)        0         \n",
      "_________________________________________________________________\n",
      "dropout_1 (Dropout)          (None, 54, 54, 32)        0         \n",
      "_________________________________________________________________\n",
      "conv2d_2 (Conv2D)            (None, 52, 52, 64)        18496     \n",
      "_________________________________________________________________\n",
      "batch_normalization_2 (Batch (None, 52, 52, 64)        256       \n",
      "_________________________________________________________________\n",
      "max_pooling2d_2 (MaxPooling2 (None, 26, 26, 64)        0         \n",
      "_________________________________________________________________\n",
      "dropout_2 (Dropout)          (None, 26, 26, 64)        0         \n",
      "_________________________________________________________________\n",
      "flatten (Flatten)            (None, 43264)             0         \n",
      "_________________________________________________________________\n",
      "dense_3 (Dense)              (None, 16)                692240    \n",
      "_________________________________________________________________\n",
      "batch_normalization_3 (Batch (None, 16)                64        \n",
      "_________________________________________________________________\n",
      "dropout_3 (Dropout)          (None, 16)                0         \n",
      "_________________________________________________________________\n",
      "dense_4 (Dense)              (None, 1)                 17        \n",
      "=================================================================\n",
      "Total params: 716,353\n",
      "Trainable params: 716,097\n",
      "Non-trainable params: 256\n",
      "_________________________________________________________________\n"
     ]
    }
   ],
   "source": [
    "model_cnn.compile(loss=\"mean_absolute_error\",\n",
    "              optimizer=tf.keras.optimizers.Adam(),\n",
    "                metrics=\"mean_squared_error\")\n",
    " \n",
    "model_cnn.summary()"
   ]
  },
  {
   "cell_type": "markdown",
   "metadata": {},
   "source": [
    "En este caso, probamos hasta 100 épocas en un _Batch Size_ de 10. Fuimos probando Batch menores (20, 30) y hasta el Batch completo para dos épocas. La mejor opción la encontramos en un _Batch Size_ de 10 para 5 épocas."
   ]
  },
  {
   "cell_type": "code",
   "execution_count": 164,
   "metadata": {},
   "outputs": [
    {
     "name": "stdout",
     "output_type": "stream",
     "text": [
      "Epoch 1/5\n",
      "387/387 [==============================] - 71s 183ms/step - loss: 0.8837 - mean_squared_error: 1.4345 - val_loss: 0.2274 - val_mean_squared_error: 0.0851\n",
      "Epoch 2/5\n",
      "387/387 [==============================] - 74s 192ms/step - loss: 0.3882 - mean_squared_error: 0.2834 - val_loss: 0.1245 - val_mean_squared_error: 0.0335\n",
      "Epoch 3/5\n",
      "387/387 [==============================] - 76s 196ms/step - loss: 0.1570 - mean_squared_error: 0.0487 - val_loss: 0.1136 - val_mean_squared_error: 0.0284\n",
      "Epoch 4/5\n",
      "387/387 [==============================] - 72s 187ms/step - loss: 0.1121 - mean_squared_error: 0.0260 - val_loss: 0.1120 - val_mean_squared_error: 0.0282\n",
      "Epoch 5/5\n",
      "387/387 [==============================] - 75s 194ms/step - loss: 0.1112 - mean_squared_error: 0.0255 - val_loss: 0.1108 - val_mean_squared_error: 0.0267\n"
     ]
    },
    {
     "data": {
      "text/plain": [
       "<tensorflow.python.keras.callbacks.History at 0x7ffb8154fed0>"
      ]
     },
     "execution_count": 164,
     "metadata": {},
     "output_type": "execute_result"
    }
   ],
   "source": [
    "model_cnn.fit(X_train_cnn,\n",
    "          Y_train,\n",
    "          batch_size=10,\n",
    "          epochs=5,\n",
    "          verbose=1,\n",
    "          validation_data=(X_test_cnn, Y_test))"
   ]
  },
  {
   "cell_type": "code",
   "execution_count": 166,
   "metadata": {},
   "outputs": [
    {
     "name": "stdout",
     "output_type": "stream",
     "text": [
      "31/31 [==============================] - 3s 102ms/step - loss: 0.1108 - mean_squared_error: 0.0267\n",
      "MSE =  0.02670441009104252\n"
     ]
    }
   ],
   "source": [
    "loss, mse = model_cnn.evaluate(X_test_cnn, Y_test)\n",
    "print(\"MSE = \", mse)"
   ]
  },
  {
   "cell_type": "markdown",
   "metadata": {},
   "source": [
    "# Concatenate"
   ]
  },
  {
   "cell_type": "code",
   "execution_count": 167,
   "metadata": {},
   "outputs": [],
   "source": [
    "from keras.layers import concatenate\n",
    "\n",
    "combined = concatenate([model_mlp.output, model_cnn.output])"
   ]
  },
  {
   "cell_type": "markdown",
   "metadata": {},
   "source": [
    "Aquí seguimos los pasos del blog de [**Adrian Rosebrock**](https://www.pyimagesearch.com/2019/02/04/keras-multiple-inputs-and-mixed-data/) para concatenar ambos resultados en una FC."
   ]
  },
  {
   "cell_type": "code",
   "execution_count": 168,
   "metadata": {},
   "outputs": [],
   "source": [
    "# our final FC layer head will have two dense layers, the final one\n",
    "# being our regression head\n",
    "x = Dense(4, activation=\"relu\")(combined)\n",
    "x = Dense(1, activation=\"linear\")(x)\n",
    "# our final model will accept categorical/numerical data on the MLP\n",
    "# input and images on the CNN input, outputting a single value (the\n",
    "# predicted price of the house)\n",
    "model = Model(inputs=[model_mlp.input, model_cnn.input], outputs=x)"
   ]
  },
  {
   "cell_type": "markdown",
   "metadata": {},
   "source": [
    "Repetimos parámetros e hiperparámetros de CNN. Sin embargo observamos que tras la segunda época el modelo no mejora. Así que optamos por dos épocas como configuración óptima."
   ]
  },
  {
   "cell_type": "code",
   "execution_count": 172,
   "metadata": {},
   "outputs": [
    {
     "name": "stdout",
     "output_type": "stream",
     "text": [
      "[INFO] entrenando...\n",
      "Epoch 1/2\n",
      "387/387 [==============================] - 77s 196ms/step - loss: 0.1143 - mean_squared_error: 0.0269 - val_loss: 0.1153 - val_mean_squared_error: 0.0280\n",
      "Epoch 2/2\n",
      "387/387 [==============================] - 75s 193ms/step - loss: 0.1143 - mean_squared_error: 0.0271 - val_loss: 0.1150 - val_mean_squared_error: 0.0274\n"
     ]
    },
    {
     "data": {
      "text/plain": [
       "<tensorflow.python.keras.callbacks.History at 0x7ffb5887a8d0>"
      ]
     },
     "execution_count": 172,
     "metadata": {},
     "output_type": "execute_result"
    }
   ],
   "source": [
    "model.compile(loss=\"mean_absolute_error\",\n",
    "              optimizer=tf.keras.optimizers.Adam(),\n",
    "                metrics=\"mean_squared_error\")\n",
    "\n",
    "print(\"[INFO] entrenando...\")\n",
    "model.fit(x=[X_train_mlp,X_train_cnn], \n",
    "          y=Y_train,\n",
    "          batch_size=10,\n",
    "          epochs=2,\n",
    "          verbose=1,\n",
    "          validation_data=([X_test_mlp,X_test_cnn], Y_test))"
   ]
  },
  {
   "cell_type": "code",
   "execution_count": 173,
   "metadata": {},
   "outputs": [
    {
     "name": "stdout",
     "output_type": "stream",
     "text": [
      "31/31 [==============================] - 3s 102ms/step - loss: 0.1150 - mean_squared_error: 0.0274\n",
      "MSE =  0.02741541713476181\n"
     ]
    }
   ],
   "source": [
    "loss, mse = model.evaluate([X_test_mlp,X_test_cnn], Y_test)\n",
    "print(\"MSE = \", mse)"
   ]
  },
  {
   "cell_type": "markdown",
   "metadata": {},
   "source": [
    "Usamos el código de [**Adrian Rosebrock**](https://www.pyimagesearch.com/2019/02/04/keras-multiple-inputs-and-mixed-data/) para presentar los resultados:"
   ]
  },
  {
   "cell_type": "code",
   "execution_count": 174,
   "metadata": {},
   "outputs": [
    {
     "name": "stdout",
     "output_type": "stream",
     "text": [
      "[INFO] avg. house price: 60.03, std house price: 39.91\n",
      "[INFO] mean: 59.65%, std: 60.17%\n"
     ]
    }
   ],
   "source": [
    "import locale\n",
    "# compute the difference between the *predicted* house prices and the\n",
    "# *actual* house prices, then compute the percentage difference and\n",
    "# the absolute percentage difference\n",
    "diff = preds.flatten() - Y_test\n",
    "percentDiff = (diff / Y_test) * 100\n",
    "absPercentDiff = np.abs(percentDiff)\n",
    "# compute the mean and standard deviation of the absolute percentage\n",
    "# difference\n",
    "mean = np.mean(absPercentDiff)\n",
    "std = np.std(absPercentDiff)\n",
    "# finally, show some statistics on our model\n",
    "locale.setlocale(locale.LC_ALL, \"en_US.UTF-8\")\n",
    "print(\"[INFO] avg. house price: {}, std house price: {}\".format(\n",
    "\tlocale.currency(data_with_imgs2['Price'].mean(), symbol=False, grouping=True, international=True),\n",
    "\tlocale.currency(data_with_imgs2['Price'].std(), symbol=False, grouping=True, international=True)))\n",
    "print(\"[INFO] mean: {:.2f}%, std: {:.2f}%\".format(mean, std))"
   ]
  },
  {
   "cell_type": "markdown",
   "metadata": {},
   "source": [
    "# Conclusión:"
   ]
  },
  {
   "cell_type": "markdown",
   "metadata": {},
   "source": [
    "Mi intención en la presente práctica, siguiendo la premisa de que no se sabe realmente aquello que no se puede explicar, ha sido la de priorizar la claridad a la hora de mostrar los pasos dados. En este sentido, tras días de fallos, pruebas y desechar parámetros e hiperparámetros, he optado por el equilibrio sencillez/ efectividad para un ejercicio (predicción de precios) que entiendo es en sí una operación de lo más sencilla dentro del mundo del Deep Learning. "
   ]
  },
  {
   "cell_type": "markdown",
   "metadata": {},
   "source": [
    "Esto me lleva a la principal concepto: *la complejidad del Deep Learning solo es abordable desde la práctica*, algo que irremiediablemente está asociado a los datos y a lo que se quiere obtener de ellos. "
   ]
  },
  {
   "cell_type": "markdown",
   "metadata": {},
   "source": [
    "Por eso, considero oportuno poner el acento en tres ideas que se han repetido durante las clases y que vuelven a surgir en el trabajo práctico autónomo:\n",
    "   "
   ]
  },
  {
   "cell_type": "markdown",
   "metadata": {},
   "source": [
    "- La compatibilidad entre las dimensiones de los datos y la arquitectura del modelo.\n",
    "- Los datos limpios y de calidad como garantes de un modelo óptimo, en muchos casos, independiente de la arquitectura.\n",
    "- La capacidad de computación (Más épocas, distintas configuraciones de Batch, etc.) no resultan tan determinantes como una definición y organización a priori de recursos y objetivos en el ejercicio."
   ]
  },
  {
   "cell_type": "code",
   "execution_count": null,
   "metadata": {},
   "outputs": [],
   "source": []
  }
 ],
 "metadata": {
  "kernelspec": {
   "display_name": "Python 3",
   "language": "python",
   "name": "python3"
  },
  "language_info": {
   "codemirror_mode": {
    "name": "ipython",
    "version": 3
   },
   "file_extension": ".py",
   "mimetype": "text/x-python",
   "name": "python",
   "nbconvert_exporter": "python",
   "pygments_lexer": "ipython3",
   "version": "3.7.10"
  }
 },
 "nbformat": 4,
 "nbformat_minor": 4
}
