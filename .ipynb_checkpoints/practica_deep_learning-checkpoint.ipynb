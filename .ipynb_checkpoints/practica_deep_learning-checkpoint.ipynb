{
 "cells": [
  {
   "cell_type": "markdown",
   "metadata": {},
   "source": [
    "# Práctica Final - José Manuel Guzmán Gutiérrez\n",
    "-----------------------------------------------------\n",
    "## Deep Learning\n",
    "--------------------------------------\n",
    "Importamos librerías iniciales y hacemos una observación inicial del dataset para comprobar que la carga ha sido óptima\n"
   ]
  },
  {
   "cell_type": "code",
   "execution_count": 5,
   "metadata": {},
   "outputs": [
    {
     "name": "stdout",
     "output_type": "stream",
     "text": [
      "Requirement already satisfied: tensorflow in /Users/jotaemeguzman/opt/anaconda3/lib/python3.7/site-packages (2.5.0)\n",
      "Requirement already satisfied: gast==0.4.0 in /Users/jotaemeguzman/opt/anaconda3/lib/python3.7/site-packages (from tensorflow) (0.4.0)\n",
      "Requirement already satisfied: absl-py~=0.10 in /Users/jotaemeguzman/opt/anaconda3/lib/python3.7/site-packages (from tensorflow) (0.12.0)\n",
      "Requirement already satisfied: tensorboard~=2.5 in /Users/jotaemeguzman/opt/anaconda3/lib/python3.7/site-packages (from tensorflow) (2.5.0)\n",
      "Requirement already satisfied: six~=1.15.0 in /Users/jotaemeguzman/opt/anaconda3/lib/python3.7/site-packages (from tensorflow) (1.15.0)\n",
      "Requirement already satisfied: grpcio~=1.34.0 in /Users/jotaemeguzman/opt/anaconda3/lib/python3.7/site-packages (from tensorflow) (1.34.1)\n",
      "Requirement already satisfied: google-pasta~=0.2 in /Users/jotaemeguzman/opt/anaconda3/lib/python3.7/site-packages (from tensorflow) (0.2.0)\n",
      "Requirement already satisfied: astunparse~=1.6.3 in /Users/jotaemeguzman/opt/anaconda3/lib/python3.7/site-packages (from tensorflow) (1.6.3)\n",
      "Requirement already satisfied: wrapt~=1.12.1 in /Users/jotaemeguzman/opt/anaconda3/lib/python3.7/site-packages (from tensorflow) (1.12.1)\n",
      "Requirement already satisfied: keras-nightly~=2.5.0.dev in /Users/jotaemeguzman/opt/anaconda3/lib/python3.7/site-packages (from tensorflow) (2.5.0.dev2021032900)\n",
      "Requirement already satisfied: opt-einsum~=3.3.0 in /Users/jotaemeguzman/opt/anaconda3/lib/python3.7/site-packages (from tensorflow) (3.3.0)\n",
      "Requirement already satisfied: typing-extensions~=3.7.4 in /Users/jotaemeguzman/opt/anaconda3/lib/python3.7/site-packages (from tensorflow) (3.7.4.3)\n",
      "Requirement already satisfied: protobuf>=3.9.2 in /Users/jotaemeguzman/opt/anaconda3/lib/python3.7/site-packages (from tensorflow) (3.17.2)\n",
      "Requirement already satisfied: numpy~=1.19.2 in /Users/jotaemeguzman/opt/anaconda3/lib/python3.7/site-packages (from tensorflow) (1.19.5)\n",
      "Requirement already satisfied: wheel~=0.35 in /Users/jotaemeguzman/opt/anaconda3/lib/python3.7/site-packages (from tensorflow) (0.36.2)\n",
      "Requirement already satisfied: keras-preprocessing~=1.1.2 in /Users/jotaemeguzman/opt/anaconda3/lib/python3.7/site-packages (from tensorflow) (1.1.2)\n",
      "Requirement already satisfied: flatbuffers~=1.12.0 in /Users/jotaemeguzman/opt/anaconda3/lib/python3.7/site-packages (from tensorflow) (1.12)\n",
      "Requirement already satisfied: tensorflow-estimator<2.6.0,>=2.5.0rc0 in /Users/jotaemeguzman/opt/anaconda3/lib/python3.7/site-packages (from tensorflow) (2.5.0)\n",
      "Requirement already satisfied: h5py~=3.1.0 in /Users/jotaemeguzman/opt/anaconda3/lib/python3.7/site-packages (from tensorflow) (3.1.0)\n",
      "Requirement already satisfied: termcolor~=1.1.0 in /Users/jotaemeguzman/opt/anaconda3/lib/python3.7/site-packages (from tensorflow) (1.1.0)\n",
      "Requirement already satisfied: cached-property in /Users/jotaemeguzman/opt/anaconda3/lib/python3.7/site-packages (from h5py~=3.1.0->tensorflow) (1.5.2)\n",
      "Requirement already satisfied: google-auth-oauthlib<0.5,>=0.4.1 in /Users/jotaemeguzman/opt/anaconda3/lib/python3.7/site-packages (from tensorboard~=2.5->tensorflow) (0.4.4)\n",
      "Requirement already satisfied: werkzeug>=0.11.15 in /Users/jotaemeguzman/opt/anaconda3/lib/python3.7/site-packages (from tensorboard~=2.5->tensorflow) (1.0.0)\n",
      "Requirement already satisfied: tensorboard-data-server<0.7.0,>=0.6.0 in /Users/jotaemeguzman/opt/anaconda3/lib/python3.7/site-packages (from tensorboard~=2.5->tensorflow) (0.6.1)\n",
      "Requirement already satisfied: requests<3,>=2.21.0 in /Users/jotaemeguzman/opt/anaconda3/lib/python3.7/site-packages (from tensorboard~=2.5->tensorflow) (2.22.0)\n",
      "Requirement already satisfied: tensorboard-plugin-wit>=1.6.0 in /Users/jotaemeguzman/opt/anaconda3/lib/python3.7/site-packages (from tensorboard~=2.5->tensorflow) (1.8.0)\n",
      "Requirement already satisfied: setuptools>=41.0.0 in /Users/jotaemeguzman/opt/anaconda3/lib/python3.7/site-packages (from tensorboard~=2.5->tensorflow) (46.0.0.post20200309)\n",
      "Requirement already satisfied: google-auth<2,>=1.6.3 in /Users/jotaemeguzman/opt/anaconda3/lib/python3.7/site-packages (from tensorboard~=2.5->tensorflow) (1.30.1)\n",
      "Requirement already satisfied: markdown>=2.6.8 in /Users/jotaemeguzman/opt/anaconda3/lib/python3.7/site-packages (from tensorboard~=2.5->tensorflow) (3.3.4)\n",
      "Requirement already satisfied: rsa<5,>=3.1.4 in /Users/jotaemeguzman/opt/anaconda3/lib/python3.7/site-packages (from google-auth<2,>=1.6.3->tensorboard~=2.5->tensorflow) (4.7.2)\n",
      "Requirement already satisfied: pyasn1-modules>=0.2.1 in /Users/jotaemeguzman/opt/anaconda3/lib/python3.7/site-packages (from google-auth<2,>=1.6.3->tensorboard~=2.5->tensorflow) (0.2.8)\n",
      "Requirement already satisfied: cachetools<5.0,>=2.0.0 in /Users/jotaemeguzman/opt/anaconda3/lib/python3.7/site-packages (from google-auth<2,>=1.6.3->tensorboard~=2.5->tensorflow) (4.2.2)\n",
      "Requirement already satisfied: requests-oauthlib>=0.7.0 in /Users/jotaemeguzman/opt/anaconda3/lib/python3.7/site-packages (from google-auth-oauthlib<0.5,>=0.4.1->tensorboard~=2.5->tensorflow) (1.3.0)\n",
      "Requirement already satisfied: importlib-metadata in /Users/jotaemeguzman/opt/anaconda3/lib/python3.7/site-packages (from markdown>=2.6.8->tensorboard~=2.5->tensorflow) (1.5.0)\n",
      "Requirement already satisfied: pyasn1<0.5.0,>=0.4.6 in /Users/jotaemeguzman/opt/anaconda3/lib/python3.7/site-packages (from pyasn1-modules>=0.2.1->google-auth<2,>=1.6.3->tensorboard~=2.5->tensorflow) (0.4.8)\n",
      "Requirement already satisfied: chardet<3.1.0,>=3.0.2 in /Users/jotaemeguzman/opt/anaconda3/lib/python3.7/site-packages (from requests<3,>=2.21.0->tensorboard~=2.5->tensorflow) (3.0.4)\n",
      "Requirement already satisfied: urllib3!=1.25.0,!=1.25.1,<1.26,>=1.21.1 in /Users/jotaemeguzman/opt/anaconda3/lib/python3.7/site-packages (from requests<3,>=2.21.0->tensorboard~=2.5->tensorflow) (1.25.8)\n",
      "Requirement already satisfied: idna<2.9,>=2.5 in /Users/jotaemeguzman/opt/anaconda3/lib/python3.7/site-packages (from requests<3,>=2.21.0->tensorboard~=2.5->tensorflow) (2.8)\n",
      "Requirement already satisfied: certifi>=2017.4.17 in /Users/jotaemeguzman/opt/anaconda3/lib/python3.7/site-packages (from requests<3,>=2.21.0->tensorboard~=2.5->tensorflow) (2019.11.28)\n",
      "Requirement already satisfied: oauthlib>=3.0.0 in /Users/jotaemeguzman/opt/anaconda3/lib/python3.7/site-packages (from requests-oauthlib>=0.7.0->google-auth-oauthlib<0.5,>=0.4.1->tensorboard~=2.5->tensorflow) (3.1.1)\n",
      "Requirement already satisfied: zipp>=0.5 in /Users/jotaemeguzman/opt/anaconda3/lib/python3.7/site-packages (from importlib-metadata->markdown>=2.6.8->tensorboard~=2.5->tensorflow) (2.2.0)\n",
      "\u001b[33mWARNING: You are using pip version 21.0.1; however, version 21.1.2 is available.\n",
      "You should consider upgrading via the '/Users/jotaemeguzman/opt/anaconda3/bin/python3 -m pip install --upgrade pip' command.\u001b[0m\n"
     ]
    }
   ],
   "source": [
    "!pip install tensorflow"
   ]
  },
  {
   "cell_type": "code",
   "execution_count": 6,
   "metadata": {},
   "outputs": [
    {
     "name": "stdout",
     "output_type": "stream",
     "text": [
      "Requirement already satisfied: keras in /Users/jotaemeguzman/opt/anaconda3/lib/python3.7/site-packages (2.4.3)\n",
      "Requirement already satisfied: scipy>=0.14 in /Users/jotaemeguzman/opt/anaconda3/lib/python3.7/site-packages (from keras) (1.4.1)\n",
      "Requirement already satisfied: h5py in /Users/jotaemeguzman/opt/anaconda3/lib/python3.7/site-packages (from keras) (3.1.0)\n",
      "Requirement already satisfied: numpy>=1.9.1 in /Users/jotaemeguzman/opt/anaconda3/lib/python3.7/site-packages (from keras) (1.19.5)\n",
      "Requirement already satisfied: pyyaml in /Users/jotaemeguzman/opt/anaconda3/lib/python3.7/site-packages (from keras) (5.3)\n",
      "Requirement already satisfied: cached-property in /Users/jotaemeguzman/opt/anaconda3/lib/python3.7/site-packages (from h5py->keras) (1.5.2)\n",
      "\u001b[33mWARNING: You are using pip version 21.0.1; however, version 21.1.2 is available.\n",
      "You should consider upgrading via the '/Users/jotaemeguzman/opt/anaconda3/bin/python3 -m pip install --upgrade pip' command.\u001b[0m\n"
     ]
    }
   ],
   "source": [
    "!pip install keras"
   ]
  },
  {
   "cell_type": "code",
   "execution_count": 7,
   "metadata": {},
   "outputs": [
    {
     "name": "stdout",
     "output_type": "stream",
     "text": [
      "Requirement already satisfied: cnnutils in /Users/jotaemeguzman/opt/anaconda3/lib/python3.7/site-packages (0.0.57)\n",
      "\u001b[33mWARNING: You are using pip version 21.0.1; however, version 21.1.2 is available.\n",
      "You should consider upgrading via the '/Users/jotaemeguzman/opt/anaconda3/bin/python3 -m pip install --upgrade pip' command.\u001b[0m\n"
     ]
    }
   ],
   "source": [
    "!pip install cnnutils"
   ]
  },
  {
   "cell_type": "code",
   "execution_count": 8,
   "metadata": {},
   "outputs": [],
   "source": [
    "import pandas as pd\n",
    "import math\n",
    "import numpy as np\n",
    "import h5py\n",
    "import tensorflow as tf\n",
    "#from keras import *\n",
    "from keras.utils import to_categorical\n",
    "from keras.preprocessing import image\n",
    "from keras.applications.imagenet_utils import preprocess_input\n",
    "import matplotlib.pyplot as plt\n",
    "from matplotlib.pyplot import imshow\n",
    "import scipy\n",
    "from PIL import Image\n",
    "from scipy import ndimage\n",
    "from cnnutils import *\n",
    "from sklearn.model_selection import train_test_split"
   ]
  },
  {
   "cell_type": "markdown",
   "metadata": {},
   "source": [
    "## Preparamos los datos"
   ]
  },
  {
   "cell_type": "code",
   "execution_count": 9,
   "metadata": {},
   "outputs": [
    {
     "data": {
      "text/plain": [
       "(14780, 89)"
      ]
     },
     "execution_count": 9,
     "metadata": {},
     "output_type": "execute_result"
    }
   ],
   "source": [
    "data = pd.read_csv(\"airbnb-listings.csv\", sep=';', decimal='.')\n",
    "data.shape"
   ]
  },
  {
   "cell_type": "code",
   "execution_count": 10,
   "metadata": {},
   "outputs": [
    {
     "data": {
      "text/html": [
       "<div>\n",
       "<style scoped>\n",
       "    .dataframe tbody tr th:only-of-type {\n",
       "        vertical-align: middle;\n",
       "    }\n",
       "\n",
       "    .dataframe tbody tr th {\n",
       "        vertical-align: top;\n",
       "    }\n",
       "\n",
       "    .dataframe thead th {\n",
       "        text-align: right;\n",
       "    }\n",
       "</style>\n",
       "<table border=\"1\" class=\"dataframe\">\n",
       "  <thead>\n",
       "    <tr style=\"text-align: right;\">\n",
       "      <th></th>\n",
       "      <th>ID</th>\n",
       "      <th>Listing Url</th>\n",
       "      <th>Scrape ID</th>\n",
       "      <th>Last Scraped</th>\n",
       "      <th>Name</th>\n",
       "      <th>Summary</th>\n",
       "      <th>Space</th>\n",
       "      <th>Description</th>\n",
       "      <th>Experiences Offered</th>\n",
       "      <th>Neighborhood Overview</th>\n",
       "      <th>Notes</th>\n",
       "      <th>Transit</th>\n",
       "      <th>Access</th>\n",
       "      <th>Interaction</th>\n",
       "      <th>House Rules</th>\n",
       "      <th>Thumbnail Url</th>\n",
       "      <th>Medium Url</th>\n",
       "      <th>Picture Url</th>\n",
       "      <th>XL Picture Url</th>\n",
       "      <th>Host ID</th>\n",
       "      <th>Host URL</th>\n",
       "      <th>Host Name</th>\n",
       "      <th>Host Since</th>\n",
       "      <th>Host Location</th>\n",
       "      <th>Host About</th>\n",
       "      <th>Host Response Time</th>\n",
       "      <th>Host Response Rate</th>\n",
       "      <th>Host Acceptance Rate</th>\n",
       "      <th>Host Thumbnail Url</th>\n",
       "      <th>Host Picture Url</th>\n",
       "      <th>Host Neighbourhood</th>\n",
       "      <th>Host Listings Count</th>\n",
       "      <th>Host Total Listings Count</th>\n",
       "      <th>Host Verifications</th>\n",
       "      <th>Street</th>\n",
       "      <th>Neighbourhood</th>\n",
       "      <th>Neighbourhood Cleansed</th>\n",
       "      <th>Neighbourhood Group Cleansed</th>\n",
       "      <th>City</th>\n",
       "      <th>State</th>\n",
       "      <th>Zipcode</th>\n",
       "      <th>Market</th>\n",
       "      <th>Smart Location</th>\n",
       "      <th>Country Code</th>\n",
       "      <th>Country</th>\n",
       "      <th>Latitude</th>\n",
       "      <th>Longitude</th>\n",
       "      <th>Property Type</th>\n",
       "      <th>Room Type</th>\n",
       "      <th>Accommodates</th>\n",
       "      <th>Bathrooms</th>\n",
       "      <th>Bedrooms</th>\n",
       "      <th>Beds</th>\n",
       "      <th>Bed Type</th>\n",
       "      <th>Amenities</th>\n",
       "      <th>Square Feet</th>\n",
       "      <th>Price</th>\n",
       "      <th>Weekly Price</th>\n",
       "      <th>Monthly Price</th>\n",
       "      <th>Security Deposit</th>\n",
       "      <th>Cleaning Fee</th>\n",
       "      <th>Guests Included</th>\n",
       "      <th>Extra People</th>\n",
       "      <th>Minimum Nights</th>\n",
       "      <th>Maximum Nights</th>\n",
       "      <th>Calendar Updated</th>\n",
       "      <th>Has Availability</th>\n",
       "      <th>Availability 30</th>\n",
       "      <th>Availability 60</th>\n",
       "      <th>Availability 90</th>\n",
       "      <th>Availability 365</th>\n",
       "      <th>Calendar last Scraped</th>\n",
       "      <th>Number of Reviews</th>\n",
       "      <th>First Review</th>\n",
       "      <th>Last Review</th>\n",
       "      <th>Review Scores Rating</th>\n",
       "      <th>Review Scores Accuracy</th>\n",
       "      <th>Review Scores Cleanliness</th>\n",
       "      <th>Review Scores Checkin</th>\n",
       "      <th>Review Scores Communication</th>\n",
       "      <th>Review Scores Location</th>\n",
       "      <th>Review Scores Value</th>\n",
       "      <th>License</th>\n",
       "      <th>Jurisdiction Names</th>\n",
       "      <th>Cancellation Policy</th>\n",
       "      <th>Calculated host listings count</th>\n",
       "      <th>Reviews per Month</th>\n",
       "      <th>Geolocation</th>\n",
       "      <th>Features</th>\n",
       "    </tr>\n",
       "  </thead>\n",
       "  <tbody>\n",
       "    <tr>\n",
       "      <th>0</th>\n",
       "      <td>14712301</td>\n",
       "      <td>https://www.airbnb.com/rooms/14712301</td>\n",
       "      <td>20170304065726</td>\n",
       "      <td>2017-03-04</td>\n",
       "      <td>Cozy Studio between Earls Court and Gloucester Rd</td>\n",
       "      <td>Located 1 minute away from Earls Court. It is ...</td>\n",
       "      <td>NaN</td>\n",
       "      <td>Located 1 minute away from Earls Court. It is ...</td>\n",
       "      <td>none</td>\n",
       "      <td>NaN</td>\n",
       "      <td>NaN</td>\n",
       "      <td>NaN</td>\n",
       "      <td>NaN</td>\n",
       "      <td>NaN</td>\n",
       "      <td>NaN</td>\n",
       "      <td>NaN</td>\n",
       "      <td>NaN</td>\n",
       "      <td>https://public.opendatasoft.com/api/v2/catalog...</td>\n",
       "      <td>NaN</td>\n",
       "      <td>7232618</td>\n",
       "      <td>https://www.airbnb.com/users/show/7232618</td>\n",
       "      <td>Iñigo</td>\n",
       "      <td>2013-07-02</td>\n",
       "      <td>Madrid, Community of Madrid, Spain</td>\n",
       "      <td>Spanish, I love sports.</td>\n",
       "      <td>within a few hours</td>\n",
       "      <td>100.0</td>\n",
       "      <td>NaN</td>\n",
       "      <td>https://a0.muscache.com/im/users/7232618/profi...</td>\n",
       "      <td>https://a0.muscache.com/im/users/7232618/profi...</td>\n",
       "      <td>NaN</td>\n",
       "      <td>1.0</td>\n",
       "      <td>1.0</td>\n",
       "      <td>email,phone,reviews,jumio,government_id</td>\n",
       "      <td>Bramham Gardens, London, England SW5 0HG, Unit...</td>\n",
       "      <td>NaN</td>\n",
       "      <td>Kensington and Chelsea</td>\n",
       "      <td>NaN</td>\n",
       "      <td>London</td>\n",
       "      <td>England</td>\n",
       "      <td>SW5 0HG</td>\n",
       "      <td>London</td>\n",
       "      <td>London, United Kingdom</td>\n",
       "      <td>GB</td>\n",
       "      <td>United Kingdom</td>\n",
       "      <td>51.492474</td>\n",
       "      <td>-0.188628</td>\n",
       "      <td>Apartment</td>\n",
       "      <td>Entire home/apt</td>\n",
       "      <td>1</td>\n",
       "      <td>1.0</td>\n",
       "      <td>1.0</td>\n",
       "      <td>1.0</td>\n",
       "      <td>Real Bed</td>\n",
       "      <td>Wireless Internet,Kitchen,Smoking allowed,Heat...</td>\n",
       "      <td>NaN</td>\n",
       "      <td>50.0</td>\n",
       "      <td>NaN</td>\n",
       "      <td>NaN</td>\n",
       "      <td>100.0</td>\n",
       "      <td>30.0</td>\n",
       "      <td>1</td>\n",
       "      <td>20</td>\n",
       "      <td>5</td>\n",
       "      <td>49</td>\n",
       "      <td>3 months ago</td>\n",
       "      <td>NaN</td>\n",
       "      <td>3</td>\n",
       "      <td>16</td>\n",
       "      <td>16</td>\n",
       "      <td>169</td>\n",
       "      <td>2017-03-04</td>\n",
       "      <td>2</td>\n",
       "      <td>2016-09-09</td>\n",
       "      <td>2016-09-29</td>\n",
       "      <td>90.0</td>\n",
       "      <td>10.0</td>\n",
       "      <td>10.0</td>\n",
       "      <td>9.0</td>\n",
       "      <td>9.0</td>\n",
       "      <td>9.0</td>\n",
       "      <td>10.0</td>\n",
       "      <td>NaN</td>\n",
       "      <td>NaN</td>\n",
       "      <td>strict</td>\n",
       "      <td>1.0</td>\n",
       "      <td>0.34</td>\n",
       "      <td>51.4924740202,-0.188628400994</td>\n",
       "      <td>Host Has Profile Pic,Host Identity Verified</td>\n",
       "    </tr>\n",
       "    <tr>\n",
       "      <th>1</th>\n",
       "      <td>12884849</td>\n",
       "      <td>https://www.airbnb.com/rooms/12884849</td>\n",
       "      <td>20170304065726</td>\n",
       "      <td>2017-03-05</td>\n",
       "      <td>Five bedroom house in Barnes</td>\n",
       "      <td>Lovely and spacious Edwardian house located on...</td>\n",
       "      <td>The house is spacious with approx 225 sq. of l...</td>\n",
       "      <td>Lovely and spacious Edwardian house located on...</td>\n",
       "      <td>none</td>\n",
       "      <td>Quiet residential street</td>\n",
       "      <td>NaN</td>\n",
       "      <td>The house is located three minutes walk from t...</td>\n",
       "      <td>Guests will have access to all rooms, as desir...</td>\n",
       "      <td>We will be away but will make ourselves availa...</td>\n",
       "      <td>NaN</td>\n",
       "      <td>https://a0.muscache.com/im/pictures/9b3adacb-1...</td>\n",
       "      <td>https://a0.muscache.com/im/pictures/9b3adacb-1...</td>\n",
       "      <td>https://public.opendatasoft.com/api/v2/catalog...</td>\n",
       "      <td>https://a0.muscache.com/im/pictures/9b3adacb-1...</td>\n",
       "      <td>19959228</td>\n",
       "      <td>https://www.airbnb.com/users/show/19959228</td>\n",
       "      <td>Susanna</td>\n",
       "      <td>2014-08-13</td>\n",
       "      <td>GB</td>\n",
       "      <td>NaN</td>\n",
       "      <td>NaN</td>\n",
       "      <td>NaN</td>\n",
       "      <td>NaN</td>\n",
       "      <td>https://a0.muscache.com/im/pictures/76a0b9a0-9...</td>\n",
       "      <td>https://a0.muscache.com/im/pictures/76a0b9a0-9...</td>\n",
       "      <td>Westbourne Green</td>\n",
       "      <td>2.0</td>\n",
       "      <td>2.0</td>\n",
       "      <td>email,phone,reviews</td>\n",
       "      <td>Madrid Road, London, SW13 9PG, United Kingdom</td>\n",
       "      <td>LB of Richmond upon Thames</td>\n",
       "      <td>Richmond upon Thames</td>\n",
       "      <td>NaN</td>\n",
       "      <td>London</td>\n",
       "      <td>NaN</td>\n",
       "      <td>SW13 9PG</td>\n",
       "      <td>London</td>\n",
       "      <td>London, United Kingdom</td>\n",
       "      <td>GB</td>\n",
       "      <td>United Kingdom</td>\n",
       "      <td>51.482005</td>\n",
       "      <td>-0.239277</td>\n",
       "      <td>House</td>\n",
       "      <td>Entire home/apt</td>\n",
       "      <td>8</td>\n",
       "      <td>2.5</td>\n",
       "      <td>5.0</td>\n",
       "      <td>5.0</td>\n",
       "      <td>Real Bed</td>\n",
       "      <td>TV,Wireless Internet,Kitchen,Heating,Family/ki...</td>\n",
       "      <td>NaN</td>\n",
       "      <td>175.0</td>\n",
       "      <td>NaN</td>\n",
       "      <td>NaN</td>\n",
       "      <td>750.0</td>\n",
       "      <td>100.0</td>\n",
       "      <td>6</td>\n",
       "      <td>25</td>\n",
       "      <td>1</td>\n",
       "      <td>1125</td>\n",
       "      <td>8 months ago</td>\n",
       "      <td>NaN</td>\n",
       "      <td>0</td>\n",
       "      <td>0</td>\n",
       "      <td>0</td>\n",
       "      <td>0</td>\n",
       "      <td>2017-03-05</td>\n",
       "      <td>6</td>\n",
       "      <td>2016-07-11</td>\n",
       "      <td>2016-08-07</td>\n",
       "      <td>87.0</td>\n",
       "      <td>10.0</td>\n",
       "      <td>9.0</td>\n",
       "      <td>10.0</td>\n",
       "      <td>10.0</td>\n",
       "      <td>10.0</td>\n",
       "      <td>9.0</td>\n",
       "      <td>NaN</td>\n",
       "      <td>NaN</td>\n",
       "      <td>moderate</td>\n",
       "      <td>2.0</td>\n",
       "      <td>0.76</td>\n",
       "      <td>51.4820046166,-0.23927746504</td>\n",
       "      <td>Host Has Profile Pic,Is Location Exact</td>\n",
       "    </tr>\n",
       "    <tr>\n",
       "      <th>2</th>\n",
       "      <td>17524980</td>\n",
       "      <td>https://www.airbnb.com/rooms/17524980</td>\n",
       "      <td>20170304065726</td>\n",
       "      <td>2017-03-05</td>\n",
       "      <td>Modern &amp; Bright, Central Soho, 1 Bedroom Apart...</td>\n",
       "      <td>A nice compact one bedroom apartment that has ...</td>\n",
       "      <td>One Bedroom Apartment - Bedroom (Double Bed 14...</td>\n",
       "      <td>A nice compact one bedroom apartment that has ...</td>\n",
       "      <td>none</td>\n",
       "      <td>Central Soho. Oxford Street, Berwick Street, C...</td>\n",
       "      <td>- Central Location - Some Street Noise To Be e...</td>\n",
       "      <td>NaN</td>\n",
       "      <td>Whole Apartment Private Space</td>\n",
       "      <td>NaN</td>\n",
       "      <td>- Only 2 People Aloud Inside</td>\n",
       "      <td>https://a0.muscache.com/im/pictures/4d249664-8...</td>\n",
       "      <td>https://a0.muscache.com/im/pictures/4d249664-8...</td>\n",
       "      <td>https://public.opendatasoft.com/api/v2/catalog...</td>\n",
       "      <td>https://a0.muscache.com/im/pictures/4d249664-8...</td>\n",
       "      <td>51343611</td>\n",
       "      <td>https://www.airbnb.com/users/show/51343611</td>\n",
       "      <td>Bianca</td>\n",
       "      <td>2015-12-14</td>\n",
       "      <td>London, England, United Kingdom</td>\n",
       "      <td>Hello, very pleased to make your Airbnb acquai...</td>\n",
       "      <td>within an hour</td>\n",
       "      <td>90.0</td>\n",
       "      <td>NaN</td>\n",
       "      <td>https://a0.muscache.com/im/pictures/83c324c0-1...</td>\n",
       "      <td>https://a0.muscache.com/im/pictures/83c324c0-1...</td>\n",
       "      <td>Soho</td>\n",
       "      <td>10.0</td>\n",
       "      <td>10.0</td>\n",
       "      <td>email,phone,reviews,jumio</td>\n",
       "      <td>D'Arblay Street, London, England W1F, United K...</td>\n",
       "      <td>NaN</td>\n",
       "      <td>Westminster</td>\n",
       "      <td>NaN</td>\n",
       "      <td>London</td>\n",
       "      <td>England</td>\n",
       "      <td>W1F</td>\n",
       "      <td>London</td>\n",
       "      <td>London, United Kingdom</td>\n",
       "      <td>GB</td>\n",
       "      <td>United Kingdom</td>\n",
       "      <td>51.515792</td>\n",
       "      <td>-0.136332</td>\n",
       "      <td>Apartment</td>\n",
       "      <td>Entire home/apt</td>\n",
       "      <td>2</td>\n",
       "      <td>1.0</td>\n",
       "      <td>1.0</td>\n",
       "      <td>1.0</td>\n",
       "      <td>Real Bed</td>\n",
       "      <td>TV,Wireless Internet,Kitchen,Heating,Family/ki...</td>\n",
       "      <td>NaN</td>\n",
       "      <td>155.0</td>\n",
       "      <td>NaN</td>\n",
       "      <td>NaN</td>\n",
       "      <td>NaN</td>\n",
       "      <td>NaN</td>\n",
       "      <td>1</td>\n",
       "      <td>0</td>\n",
       "      <td>1</td>\n",
       "      <td>188</td>\n",
       "      <td>today</td>\n",
       "      <td>NaN</td>\n",
       "      <td>17</td>\n",
       "      <td>47</td>\n",
       "      <td>75</td>\n",
       "      <td>75</td>\n",
       "      <td>2017-03-05</td>\n",
       "      <td>0</td>\n",
       "      <td>NaN</td>\n",
       "      <td>NaN</td>\n",
       "      <td>NaN</td>\n",
       "      <td>NaN</td>\n",
       "      <td>NaN</td>\n",
       "      <td>NaN</td>\n",
       "      <td>NaN</td>\n",
       "      <td>NaN</td>\n",
       "      <td>NaN</td>\n",
       "      <td>NaN</td>\n",
       "      <td>NaN</td>\n",
       "      <td>strict</td>\n",
       "      <td>10.0</td>\n",
       "      <td>NaN</td>\n",
       "      <td>51.5157923128,-0.136332115026</td>\n",
       "      <td>Host Has Profile Pic,Host Identity Verified,In...</td>\n",
       "    </tr>\n",
       "    <tr>\n",
       "      <th>3</th>\n",
       "      <td>3150371</td>\n",
       "      <td>https://www.airbnb.com/rooms/3150371</td>\n",
       "      <td>20170407214119</td>\n",
       "      <td>2017-04-08</td>\n",
       "      <td>Double room + bathroom - La Latina</td>\n",
       "      <td>Double room with own bathroom in La Latina, in...</td>\n",
       "      <td>The apartment is spacious and cozy. It is 90 m...</td>\n",
       "      <td>Double room with own bathroom in La Latina, in...</td>\n",
       "      <td>none</td>\n",
       "      <td>La Latina is one of the most famous neighbourh...</td>\n",
       "      <td>NaN</td>\n",
       "      <td>The closest tube station is La Latina (line 5 ...</td>\n",
       "      <td>You can use the kitchen, the lounge, the terra...</td>\n",
       "      <td>The bedrooms are totally separated: one at one...</td>\n",
       "      <td>Care and respect are both required in the comm...</td>\n",
       "      <td>https://a0.muscache.com/im/pictures/40713802/3...</td>\n",
       "      <td>https://a0.muscache.com/im/pictures/40713802/3...</td>\n",
       "      <td>https://public.opendatasoft.com/api/v2/catalog...</td>\n",
       "      <td>https://a0.muscache.com/im/pictures/40713802/3...</td>\n",
       "      <td>11902716</td>\n",
       "      <td>https://www.airbnb.com/users/show/11902716</td>\n",
       "      <td>Daniel Y Ximena</td>\n",
       "      <td>2014-02-03</td>\n",
       "      <td>Madrid, Community of Madrid, Spain</td>\n",
       "      <td>Aficionados al cine, la música, los amigos, el...</td>\n",
       "      <td>within a day</td>\n",
       "      <td>100.0</td>\n",
       "      <td>NaN</td>\n",
       "      <td>https://a0.muscache.com/im/users/11902716/prof...</td>\n",
       "      <td>https://a0.muscache.com/im/users/11902716/prof...</td>\n",
       "      <td>Palacio</td>\n",
       "      <td>1.0</td>\n",
       "      <td>1.0</td>\n",
       "      <td>email,phone,reviews,jumio</td>\n",
       "      <td>Palacio, Madrid, Community of Madrid 28005, Spain</td>\n",
       "      <td>Palacio</td>\n",
       "      <td>Palacio</td>\n",
       "      <td>Centro</td>\n",
       "      <td>Madrid</td>\n",
       "      <td>Community of Madrid</td>\n",
       "      <td>28005</td>\n",
       "      <td>Madrid</td>\n",
       "      <td>Madrid, Spain</td>\n",
       "      <td>ES</td>\n",
       "      <td>Spain</td>\n",
       "      <td>40.410106</td>\n",
       "      <td>-3.714754</td>\n",
       "      <td>Apartment</td>\n",
       "      <td>Private room</td>\n",
       "      <td>2</td>\n",
       "      <td>1.0</td>\n",
       "      <td>1.0</td>\n",
       "      <td>1.0</td>\n",
       "      <td>Real Bed</td>\n",
       "      <td>TV,Internet,Wireless Internet,Kitchen,Doorman,...</td>\n",
       "      <td>NaN</td>\n",
       "      <td>36.0</td>\n",
       "      <td>NaN</td>\n",
       "      <td>NaN</td>\n",
       "      <td>NaN</td>\n",
       "      <td>NaN</td>\n",
       "      <td>1</td>\n",
       "      <td>0</td>\n",
       "      <td>2</td>\n",
       "      <td>1125</td>\n",
       "      <td>4 days ago</td>\n",
       "      <td>NaN</td>\n",
       "      <td>1</td>\n",
       "      <td>1</td>\n",
       "      <td>1</td>\n",
       "      <td>1</td>\n",
       "      <td>2017-04-07</td>\n",
       "      <td>80</td>\n",
       "      <td>2014-06-15</td>\n",
       "      <td>2017-04-01</td>\n",
       "      <td>98.0</td>\n",
       "      <td>10.0</td>\n",
       "      <td>10.0</td>\n",
       "      <td>10.0</td>\n",
       "      <td>10.0</td>\n",
       "      <td>10.0</td>\n",
       "      <td>10.0</td>\n",
       "      <td>NaN</td>\n",
       "      <td>NaN</td>\n",
       "      <td>flexible</td>\n",
       "      <td>1.0</td>\n",
       "      <td>2.33</td>\n",
       "      <td>40.4101060805,-3.71475403418</td>\n",
       "      <td>Host Has Profile Pic,Host Identity Verified,Is...</td>\n",
       "    </tr>\n",
       "    <tr>\n",
       "      <th>4</th>\n",
       "      <td>3378181</td>\n",
       "      <td>https://www.airbnb.com/rooms/3378181</td>\n",
       "      <td>20170407214119</td>\n",
       "      <td>2017-04-08</td>\n",
       "      <td>Ópera/Plz Mayor -- A/C, elevator</td>\n",
       "      <td>Old world charm meets modern comfort in our ne...</td>\n",
       "      <td>Designed with the traveler in mind, our one-be...</td>\n",
       "      <td>Old world charm meets modern comfort in our ne...</td>\n",
       "      <td>none</td>\n",
       "      <td>The neighborhood is steeped in history and clo...</td>\n",
       "      <td>NaN</td>\n",
       "      <td>The apartment is close to the Ópera metro stat...</td>\n",
       "      <td>The entire apartment is yours.</td>\n",
       "      <td>We are always available to answer questions an...</td>\n",
       "      <td>The Golden Rule shall apply always :) The apar...</td>\n",
       "      <td>https://a0.muscache.com/im/pictures/44239584/c...</td>\n",
       "      <td>https://a0.muscache.com/im/pictures/44239584/c...</td>\n",
       "      <td>https://public.opendatasoft.com/api/v2/catalog...</td>\n",
       "      <td>https://a0.muscache.com/im/pictures/44239584/c...</td>\n",
       "      <td>809083</td>\n",
       "      <td>https://www.airbnb.com/users/show/809083</td>\n",
       "      <td>Michael</td>\n",
       "      <td>2011-07-12</td>\n",
       "      <td>Madrid, Madrid, Spain</td>\n",
       "      <td>I'm a US expat who enjoys welcoming people fro...</td>\n",
       "      <td>within a day</td>\n",
       "      <td>94.0</td>\n",
       "      <td>NaN</td>\n",
       "      <td>https://a0.muscache.com/im/users/809083/profil...</td>\n",
       "      <td>https://a0.muscache.com/im/users/809083/profil...</td>\n",
       "      <td>Palacio</td>\n",
       "      <td>3.0</td>\n",
       "      <td>3.0</td>\n",
       "      <td>email,phone,facebook,reviews,jumio,work_email</td>\n",
       "      <td>Palacio, Madrid, Community of Madrid 28013, Spain</td>\n",
       "      <td>Palacio</td>\n",
       "      <td>Palacio</td>\n",
       "      <td>Centro</td>\n",
       "      <td>Madrid</td>\n",
       "      <td>Community of Madrid</td>\n",
       "      <td>28013</td>\n",
       "      <td>Madrid</td>\n",
       "      <td>Madrid, Spain</td>\n",
       "      <td>ES</td>\n",
       "      <td>Spain</td>\n",
       "      <td>40.416969</td>\n",
       "      <td>-3.709439</td>\n",
       "      <td>Apartment</td>\n",
       "      <td>Entire home/apt</td>\n",
       "      <td>2</td>\n",
       "      <td>1.0</td>\n",
       "      <td>1.0</td>\n",
       "      <td>1.0</td>\n",
       "      <td>Real Bed</td>\n",
       "      <td>TV,Wireless Internet,Air conditioning,Kitchen,...</td>\n",
       "      <td>NaN</td>\n",
       "      <td>85.0</td>\n",
       "      <td>600.0</td>\n",
       "      <td>1800.0</td>\n",
       "      <td>100.0</td>\n",
       "      <td>30.0</td>\n",
       "      <td>1</td>\n",
       "      <td>0</td>\n",
       "      <td>3</td>\n",
       "      <td>1125</td>\n",
       "      <td>5 days ago</td>\n",
       "      <td>NaN</td>\n",
       "      <td>12</td>\n",
       "      <td>32</td>\n",
       "      <td>45</td>\n",
       "      <td>320</td>\n",
       "      <td>2017-04-07</td>\n",
       "      <td>90</td>\n",
       "      <td>2014-07-09</td>\n",
       "      <td>2017-02-28</td>\n",
       "      <td>95.0</td>\n",
       "      <td>10.0</td>\n",
       "      <td>9.0</td>\n",
       "      <td>10.0</td>\n",
       "      <td>10.0</td>\n",
       "      <td>10.0</td>\n",
       "      <td>10.0</td>\n",
       "      <td>NaN</td>\n",
       "      <td>NaN</td>\n",
       "      <td>strict</td>\n",
       "      <td>2.0</td>\n",
       "      <td>2.69</td>\n",
       "      <td>40.4169688226,-3.70943892111</td>\n",
       "      <td>Host Has Profile Pic,Host Identity Verified,Is...</td>\n",
       "    </tr>\n",
       "  </tbody>\n",
       "</table>\n",
       "</div>"
      ],
      "text/plain": [
       "         ID                            Listing Url       Scrape ID  \\\n",
       "0  14712301  https://www.airbnb.com/rooms/14712301  20170304065726   \n",
       "1  12884849  https://www.airbnb.com/rooms/12884849  20170304065726   \n",
       "2  17524980  https://www.airbnb.com/rooms/17524980  20170304065726   \n",
       "3   3150371   https://www.airbnb.com/rooms/3150371  20170407214119   \n",
       "4   3378181   https://www.airbnb.com/rooms/3378181  20170407214119   \n",
       "\n",
       "  Last Scraped                                               Name  \\\n",
       "0   2017-03-04  Cozy Studio between Earls Court and Gloucester Rd   \n",
       "1   2017-03-05                       Five bedroom house in Barnes   \n",
       "2   2017-03-05  Modern & Bright, Central Soho, 1 Bedroom Apart...   \n",
       "3   2017-04-08                 Double room + bathroom - La Latina   \n",
       "4   2017-04-08                   Ópera/Plz Mayor -- A/C, elevator   \n",
       "\n",
       "                                             Summary  \\\n",
       "0  Located 1 minute away from Earls Court. It is ...   \n",
       "1  Lovely and spacious Edwardian house located on...   \n",
       "2  A nice compact one bedroom apartment that has ...   \n",
       "3  Double room with own bathroom in La Latina, in...   \n",
       "4  Old world charm meets modern comfort in our ne...   \n",
       "\n",
       "                                               Space  \\\n",
       "0                                                NaN   \n",
       "1  The house is spacious with approx 225 sq. of l...   \n",
       "2  One Bedroom Apartment - Bedroom (Double Bed 14...   \n",
       "3  The apartment is spacious and cozy. It is 90 m...   \n",
       "4  Designed with the traveler in mind, our one-be...   \n",
       "\n",
       "                                         Description Experiences Offered  \\\n",
       "0  Located 1 minute away from Earls Court. It is ...                none   \n",
       "1  Lovely and spacious Edwardian house located on...                none   \n",
       "2  A nice compact one bedroom apartment that has ...                none   \n",
       "3  Double room with own bathroom in La Latina, in...                none   \n",
       "4  Old world charm meets modern comfort in our ne...                none   \n",
       "\n",
       "                               Neighborhood Overview  \\\n",
       "0                                                NaN   \n",
       "1                           Quiet residential street   \n",
       "2  Central Soho. Oxford Street, Berwick Street, C...   \n",
       "3  La Latina is one of the most famous neighbourh...   \n",
       "4  The neighborhood is steeped in history and clo...   \n",
       "\n",
       "                                               Notes  \\\n",
       "0                                                NaN   \n",
       "1                                                NaN   \n",
       "2  - Central Location - Some Street Noise To Be e...   \n",
       "3                                                NaN   \n",
       "4                                                NaN   \n",
       "\n",
       "                                             Transit  \\\n",
       "0                                                NaN   \n",
       "1  The house is located three minutes walk from t...   \n",
       "2                                                NaN   \n",
       "3  The closest tube station is La Latina (line 5 ...   \n",
       "4  The apartment is close to the Ópera metro stat...   \n",
       "\n",
       "                                              Access  \\\n",
       "0                                                NaN   \n",
       "1  Guests will have access to all rooms, as desir...   \n",
       "2                      Whole Apartment Private Space   \n",
       "3  You can use the kitchen, the lounge, the terra...   \n",
       "4                     The entire apartment is yours.   \n",
       "\n",
       "                                         Interaction  \\\n",
       "0                                                NaN   \n",
       "1  We will be away but will make ourselves availa...   \n",
       "2                                                NaN   \n",
       "3  The bedrooms are totally separated: one at one...   \n",
       "4  We are always available to answer questions an...   \n",
       "\n",
       "                                         House Rules  \\\n",
       "0                                                NaN   \n",
       "1                                                NaN   \n",
       "2                       - Only 2 People Aloud Inside   \n",
       "3  Care and respect are both required in the comm...   \n",
       "4  The Golden Rule shall apply always :) The apar...   \n",
       "\n",
       "                                       Thumbnail Url  \\\n",
       "0                                                NaN   \n",
       "1  https://a0.muscache.com/im/pictures/9b3adacb-1...   \n",
       "2  https://a0.muscache.com/im/pictures/4d249664-8...   \n",
       "3  https://a0.muscache.com/im/pictures/40713802/3...   \n",
       "4  https://a0.muscache.com/im/pictures/44239584/c...   \n",
       "\n",
       "                                          Medium Url  \\\n",
       "0                                                NaN   \n",
       "1  https://a0.muscache.com/im/pictures/9b3adacb-1...   \n",
       "2  https://a0.muscache.com/im/pictures/4d249664-8...   \n",
       "3  https://a0.muscache.com/im/pictures/40713802/3...   \n",
       "4  https://a0.muscache.com/im/pictures/44239584/c...   \n",
       "\n",
       "                                         Picture Url  \\\n",
       "0  https://public.opendatasoft.com/api/v2/catalog...   \n",
       "1  https://public.opendatasoft.com/api/v2/catalog...   \n",
       "2  https://public.opendatasoft.com/api/v2/catalog...   \n",
       "3  https://public.opendatasoft.com/api/v2/catalog...   \n",
       "4  https://public.opendatasoft.com/api/v2/catalog...   \n",
       "\n",
       "                                      XL Picture Url   Host ID  \\\n",
       "0                                                NaN   7232618   \n",
       "1  https://a0.muscache.com/im/pictures/9b3adacb-1...  19959228   \n",
       "2  https://a0.muscache.com/im/pictures/4d249664-8...  51343611   \n",
       "3  https://a0.muscache.com/im/pictures/40713802/3...  11902716   \n",
       "4  https://a0.muscache.com/im/pictures/44239584/c...    809083   \n",
       "\n",
       "                                     Host URL        Host Name  Host Since  \\\n",
       "0   https://www.airbnb.com/users/show/7232618            Iñigo  2013-07-02   \n",
       "1  https://www.airbnb.com/users/show/19959228          Susanna  2014-08-13   \n",
       "2  https://www.airbnb.com/users/show/51343611           Bianca  2015-12-14   \n",
       "3  https://www.airbnb.com/users/show/11902716  Daniel Y Ximena  2014-02-03   \n",
       "4    https://www.airbnb.com/users/show/809083          Michael  2011-07-12   \n",
       "\n",
       "                        Host Location  \\\n",
       "0  Madrid, Community of Madrid, Spain   \n",
       "1                                  GB   \n",
       "2     London, England, United Kingdom   \n",
       "3  Madrid, Community of Madrid, Spain   \n",
       "4               Madrid, Madrid, Spain   \n",
       "\n",
       "                                          Host About  Host Response Time  \\\n",
       "0                            Spanish, I love sports.  within a few hours   \n",
       "1                                                NaN                 NaN   \n",
       "2  Hello, very pleased to make your Airbnb acquai...      within an hour   \n",
       "3  Aficionados al cine, la música, los amigos, el...        within a day   \n",
       "4  I'm a US expat who enjoys welcoming people fro...        within a day   \n",
       "\n",
       "   Host Response Rate Host Acceptance Rate  \\\n",
       "0               100.0                  NaN   \n",
       "1                 NaN                  NaN   \n",
       "2                90.0                  NaN   \n",
       "3               100.0                  NaN   \n",
       "4                94.0                  NaN   \n",
       "\n",
       "                                  Host Thumbnail Url  \\\n",
       "0  https://a0.muscache.com/im/users/7232618/profi...   \n",
       "1  https://a0.muscache.com/im/pictures/76a0b9a0-9...   \n",
       "2  https://a0.muscache.com/im/pictures/83c324c0-1...   \n",
       "3  https://a0.muscache.com/im/users/11902716/prof...   \n",
       "4  https://a0.muscache.com/im/users/809083/profil...   \n",
       "\n",
       "                                    Host Picture Url Host Neighbourhood  \\\n",
       "0  https://a0.muscache.com/im/users/7232618/profi...                NaN   \n",
       "1  https://a0.muscache.com/im/pictures/76a0b9a0-9...   Westbourne Green   \n",
       "2  https://a0.muscache.com/im/pictures/83c324c0-1...               Soho   \n",
       "3  https://a0.muscache.com/im/users/11902716/prof...            Palacio   \n",
       "4  https://a0.muscache.com/im/users/809083/profil...            Palacio   \n",
       "\n",
       "   Host Listings Count  Host Total Listings Count  \\\n",
       "0                  1.0                        1.0   \n",
       "1                  2.0                        2.0   \n",
       "2                 10.0                       10.0   \n",
       "3                  1.0                        1.0   \n",
       "4                  3.0                        3.0   \n",
       "\n",
       "                              Host Verifications  \\\n",
       "0        email,phone,reviews,jumio,government_id   \n",
       "1                            email,phone,reviews   \n",
       "2                      email,phone,reviews,jumio   \n",
       "3                      email,phone,reviews,jumio   \n",
       "4  email,phone,facebook,reviews,jumio,work_email   \n",
       "\n",
       "                                              Street  \\\n",
       "0  Bramham Gardens, London, England SW5 0HG, Unit...   \n",
       "1      Madrid Road, London, SW13 9PG, United Kingdom   \n",
       "2  D'Arblay Street, London, England W1F, United K...   \n",
       "3  Palacio, Madrid, Community of Madrid 28005, Spain   \n",
       "4  Palacio, Madrid, Community of Madrid 28013, Spain   \n",
       "\n",
       "                Neighbourhood  Neighbourhood Cleansed  \\\n",
       "0                         NaN  Kensington and Chelsea   \n",
       "1  LB of Richmond upon Thames    Richmond upon Thames   \n",
       "2                         NaN             Westminster   \n",
       "3                     Palacio                 Palacio   \n",
       "4                     Palacio                 Palacio   \n",
       "\n",
       "  Neighbourhood Group Cleansed    City                State   Zipcode  Market  \\\n",
       "0                          NaN  London              England   SW5 0HG  London   \n",
       "1                          NaN  London                  NaN  SW13 9PG  London   \n",
       "2                          NaN  London              England       W1F  London   \n",
       "3                       Centro  Madrid  Community of Madrid     28005  Madrid   \n",
       "4                       Centro  Madrid  Community of Madrid     28013  Madrid   \n",
       "\n",
       "           Smart Location Country Code         Country   Latitude  Longitude  \\\n",
       "0  London, United Kingdom           GB  United Kingdom  51.492474  -0.188628   \n",
       "1  London, United Kingdom           GB  United Kingdom  51.482005  -0.239277   \n",
       "2  London, United Kingdom           GB  United Kingdom  51.515792  -0.136332   \n",
       "3           Madrid, Spain           ES           Spain  40.410106  -3.714754   \n",
       "4           Madrid, Spain           ES           Spain  40.416969  -3.709439   \n",
       "\n",
       "  Property Type        Room Type  Accommodates  Bathrooms  Bedrooms  Beds  \\\n",
       "0     Apartment  Entire home/apt             1        1.0       1.0   1.0   \n",
       "1         House  Entire home/apt             8        2.5       5.0   5.0   \n",
       "2     Apartment  Entire home/apt             2        1.0       1.0   1.0   \n",
       "3     Apartment     Private room             2        1.0       1.0   1.0   \n",
       "4     Apartment  Entire home/apt             2        1.0       1.0   1.0   \n",
       "\n",
       "   Bed Type                                          Amenities  Square Feet  \\\n",
       "0  Real Bed  Wireless Internet,Kitchen,Smoking allowed,Heat...          NaN   \n",
       "1  Real Bed  TV,Wireless Internet,Kitchen,Heating,Family/ki...          NaN   \n",
       "2  Real Bed  TV,Wireless Internet,Kitchen,Heating,Family/ki...          NaN   \n",
       "3  Real Bed  TV,Internet,Wireless Internet,Kitchen,Doorman,...          NaN   \n",
       "4  Real Bed  TV,Wireless Internet,Air conditioning,Kitchen,...          NaN   \n",
       "\n",
       "   Price  Weekly Price  Monthly Price  Security Deposit  Cleaning Fee  \\\n",
       "0   50.0           NaN            NaN             100.0          30.0   \n",
       "1  175.0           NaN            NaN             750.0         100.0   \n",
       "2  155.0           NaN            NaN               NaN           NaN   \n",
       "3   36.0           NaN            NaN               NaN           NaN   \n",
       "4   85.0         600.0         1800.0             100.0          30.0   \n",
       "\n",
       "   Guests Included  Extra People  Minimum Nights  Maximum Nights  \\\n",
       "0                1            20               5              49   \n",
       "1                6            25               1            1125   \n",
       "2                1             0               1             188   \n",
       "3                1             0               2            1125   \n",
       "4                1             0               3            1125   \n",
       "\n",
       "  Calendar Updated Has Availability  Availability 30  Availability 60  \\\n",
       "0     3 months ago              NaN                3               16   \n",
       "1     8 months ago              NaN                0                0   \n",
       "2            today              NaN               17               47   \n",
       "3       4 days ago              NaN                1                1   \n",
       "4       5 days ago              NaN               12               32   \n",
       "\n",
       "   Availability 90  Availability 365 Calendar last Scraped  Number of Reviews  \\\n",
       "0               16               169            2017-03-04                  2   \n",
       "1                0                 0            2017-03-05                  6   \n",
       "2               75                75            2017-03-05                  0   \n",
       "3                1                 1            2017-04-07                 80   \n",
       "4               45               320            2017-04-07                 90   \n",
       "\n",
       "  First Review Last Review  Review Scores Rating  Review Scores Accuracy  \\\n",
       "0   2016-09-09  2016-09-29                  90.0                    10.0   \n",
       "1   2016-07-11  2016-08-07                  87.0                    10.0   \n",
       "2          NaN         NaN                   NaN                     NaN   \n",
       "3   2014-06-15  2017-04-01                  98.0                    10.0   \n",
       "4   2014-07-09  2017-02-28                  95.0                    10.0   \n",
       "\n",
       "   Review Scores Cleanliness  Review Scores Checkin  \\\n",
       "0                       10.0                    9.0   \n",
       "1                        9.0                   10.0   \n",
       "2                        NaN                    NaN   \n",
       "3                       10.0                   10.0   \n",
       "4                        9.0                   10.0   \n",
       "\n",
       "   Review Scores Communication  Review Scores Location  Review Scores Value  \\\n",
       "0                          9.0                     9.0                 10.0   \n",
       "1                         10.0                    10.0                  9.0   \n",
       "2                          NaN                     NaN                  NaN   \n",
       "3                         10.0                    10.0                 10.0   \n",
       "4                         10.0                    10.0                 10.0   \n",
       "\n",
       "  License Jurisdiction Names Cancellation Policy  \\\n",
       "0     NaN                NaN              strict   \n",
       "1     NaN                NaN            moderate   \n",
       "2     NaN                NaN              strict   \n",
       "3     NaN                NaN            flexible   \n",
       "4     NaN                NaN              strict   \n",
       "\n",
       "   Calculated host listings count  Reviews per Month  \\\n",
       "0                             1.0               0.34   \n",
       "1                             2.0               0.76   \n",
       "2                            10.0                NaN   \n",
       "3                             1.0               2.33   \n",
       "4                             2.0               2.69   \n",
       "\n",
       "                     Geolocation  \\\n",
       "0  51.4924740202,-0.188628400994   \n",
       "1   51.4820046166,-0.23927746504   \n",
       "2  51.5157923128,-0.136332115026   \n",
       "3   40.4101060805,-3.71475403418   \n",
       "4   40.4169688226,-3.70943892111   \n",
       "\n",
       "                                            Features  \n",
       "0        Host Has Profile Pic,Host Identity Verified  \n",
       "1             Host Has Profile Pic,Is Location Exact  \n",
       "2  Host Has Profile Pic,Host Identity Verified,In...  \n",
       "3  Host Has Profile Pic,Host Identity Verified,Is...  \n",
       "4  Host Has Profile Pic,Host Identity Verified,Is...  "
      ]
     },
     "execution_count": 10,
     "metadata": {},
     "output_type": "execute_result"
    }
   ],
   "source": [
    "pd.set_option('max_columns', None)\n",
    "data.head()"
   ]
  },
  {
   "cell_type": "markdown",
   "metadata": {},
   "source": [
    "Después de revisar la información por columnas, elimino las primeras variables consideradas irrelevantes para el modelo. Entiendo que no las últimas."
   ]
  },
  {
   "cell_type": "code",
   "execution_count": 11,
   "metadata": {},
   "outputs": [],
   "source": [
    "data = data.drop(['ID','Listing Url','Scrape ID','Last Scraped','Summary','Space','Description','Experiences Offered','Notes','Transit','Access','Medium Url','Picture Url','House Rules','XL Picture Url','Host ID','Host URL','Host Name','Host Since','Host Location','Host About','Host Response Time','Host Thumbnail Url','Host Picture Url','Host Verifications','Street','Neighbourhood','Neighbourhood Group Cleansed','State','Zipcode','Country Code','Country','Weekly Price','Monthly Price','Maximum Nights','Calendar Updated','Has Availability','Availability 30','Availability 60','Availability 90','Availability 365','First Review','Last Review','License','Jurisdiction Names'],axis=1)\n"
   ]
  },
  {
   "cell_type": "markdown",
   "metadata": {},
   "source": [
    "Por no repetir aquí las comprobaciones realizadas sobre este mismo dataset mediante correlaciones o conteo de valores, para determinar la irrelevancia de ciertas columnas, procedemos directamente a limpiar aquellas que a mi entender generan overfiting."
   ]
  },
  {
   "cell_type": "code",
   "execution_count": 12,
   "metadata": {},
   "outputs": [],
   "source": [
    "data = data.drop(['Calculated host listings count','Host Total Listings Count','Host Neighbourhood', 'Host Response Rate','Latitude','Longitude','Geolocation', 'Review Scores Accuracy','Review Scores Cleanliness','Review Scores Checkin','Review Scores Communication','Review Scores Location','Review Scores Value', 'Reviews per Month','Guests Included', 'Calendar last Scraped','Cancellation Policy','Features'],axis=1)"
   ]
  },
  {
   "cell_type": "code",
   "execution_count": 13,
   "metadata": {},
   "outputs": [],
   "source": [
    "data['Square Meters'] = data['Square Feet'].apply(lambda x: x * 0.3048 * 0.3048)"
   ]
  },
  {
   "cell_type": "code",
   "execution_count": 14,
   "metadata": {},
   "outputs": [],
   "source": [
    "data = data.drop(['Square Feet'],axis=1)"
   ]
  },
  {
   "cell_type": "code",
   "execution_count": 15,
   "metadata": {},
   "outputs": [],
   "source": [
    "data = data.drop(['Interaction','City','Smart Location'],axis=1)"
   ]
  },
  {
   "cell_type": "code",
   "execution_count": 16,
   "metadata": {},
   "outputs": [
    {
     "data": {
      "text/html": [
       "<div>\n",
       "<style scoped>\n",
       "    .dataframe tbody tr th:only-of-type {\n",
       "        vertical-align: middle;\n",
       "    }\n",
       "\n",
       "    .dataframe tbody tr th {\n",
       "        vertical-align: top;\n",
       "    }\n",
       "\n",
       "    .dataframe thead th {\n",
       "        text-align: right;\n",
       "    }\n",
       "</style>\n",
       "<table border=\"1\" class=\"dataframe\">\n",
       "  <thead>\n",
       "    <tr style=\"text-align: right;\">\n",
       "      <th></th>\n",
       "      <th>Name</th>\n",
       "      <th>Neighborhood Overview</th>\n",
       "      <th>Thumbnail Url</th>\n",
       "      <th>Host Acceptance Rate</th>\n",
       "      <th>Host Listings Count</th>\n",
       "      <th>Neighbourhood Cleansed</th>\n",
       "      <th>Market</th>\n",
       "      <th>Property Type</th>\n",
       "      <th>Room Type</th>\n",
       "      <th>Accommodates</th>\n",
       "      <th>Bathrooms</th>\n",
       "      <th>Bedrooms</th>\n",
       "      <th>Beds</th>\n",
       "      <th>Bed Type</th>\n",
       "      <th>Amenities</th>\n",
       "      <th>Price</th>\n",
       "      <th>Security Deposit</th>\n",
       "      <th>Cleaning Fee</th>\n",
       "      <th>Extra People</th>\n",
       "      <th>Minimum Nights</th>\n",
       "      <th>Number of Reviews</th>\n",
       "      <th>Review Scores Rating</th>\n",
       "      <th>Square Meters</th>\n",
       "    </tr>\n",
       "  </thead>\n",
       "  <tbody>\n",
       "    <tr>\n",
       "      <th>0</th>\n",
       "      <td>Cozy Studio between Earls Court and Gloucester Rd</td>\n",
       "      <td>NaN</td>\n",
       "      <td>NaN</td>\n",
       "      <td>NaN</td>\n",
       "      <td>1.0</td>\n",
       "      <td>Kensington and Chelsea</td>\n",
       "      <td>London</td>\n",
       "      <td>Apartment</td>\n",
       "      <td>Entire home/apt</td>\n",
       "      <td>1</td>\n",
       "      <td>1.0</td>\n",
       "      <td>1.0</td>\n",
       "      <td>1.0</td>\n",
       "      <td>Real Bed</td>\n",
       "      <td>Wireless Internet,Kitchen,Smoking allowed,Heat...</td>\n",
       "      <td>50.0</td>\n",
       "      <td>100.0</td>\n",
       "      <td>30.0</td>\n",
       "      <td>20</td>\n",
       "      <td>5</td>\n",
       "      <td>2</td>\n",
       "      <td>90.0</td>\n",
       "      <td>NaN</td>\n",
       "    </tr>\n",
       "    <tr>\n",
       "      <th>1</th>\n",
       "      <td>Five bedroom house in Barnes</td>\n",
       "      <td>Quiet residential street</td>\n",
       "      <td>https://a0.muscache.com/im/pictures/9b3adacb-1...</td>\n",
       "      <td>NaN</td>\n",
       "      <td>2.0</td>\n",
       "      <td>Richmond upon Thames</td>\n",
       "      <td>London</td>\n",
       "      <td>House</td>\n",
       "      <td>Entire home/apt</td>\n",
       "      <td>8</td>\n",
       "      <td>2.5</td>\n",
       "      <td>5.0</td>\n",
       "      <td>5.0</td>\n",
       "      <td>Real Bed</td>\n",
       "      <td>TV,Wireless Internet,Kitchen,Heating,Family/ki...</td>\n",
       "      <td>175.0</td>\n",
       "      <td>750.0</td>\n",
       "      <td>100.0</td>\n",
       "      <td>25</td>\n",
       "      <td>1</td>\n",
       "      <td>6</td>\n",
       "      <td>87.0</td>\n",
       "      <td>NaN</td>\n",
       "    </tr>\n",
       "    <tr>\n",
       "      <th>2</th>\n",
       "      <td>Modern &amp; Bright, Central Soho, 1 Bedroom Apart...</td>\n",
       "      <td>Central Soho. Oxford Street, Berwick Street, C...</td>\n",
       "      <td>https://a0.muscache.com/im/pictures/4d249664-8...</td>\n",
       "      <td>NaN</td>\n",
       "      <td>10.0</td>\n",
       "      <td>Westminster</td>\n",
       "      <td>London</td>\n",
       "      <td>Apartment</td>\n",
       "      <td>Entire home/apt</td>\n",
       "      <td>2</td>\n",
       "      <td>1.0</td>\n",
       "      <td>1.0</td>\n",
       "      <td>1.0</td>\n",
       "      <td>Real Bed</td>\n",
       "      <td>TV,Wireless Internet,Kitchen,Heating,Family/ki...</td>\n",
       "      <td>155.0</td>\n",
       "      <td>NaN</td>\n",
       "      <td>NaN</td>\n",
       "      <td>0</td>\n",
       "      <td>1</td>\n",
       "      <td>0</td>\n",
       "      <td>NaN</td>\n",
       "      <td>NaN</td>\n",
       "    </tr>\n",
       "    <tr>\n",
       "      <th>3</th>\n",
       "      <td>Double room + bathroom - La Latina</td>\n",
       "      <td>La Latina is one of the most famous neighbourh...</td>\n",
       "      <td>https://a0.muscache.com/im/pictures/40713802/3...</td>\n",
       "      <td>NaN</td>\n",
       "      <td>1.0</td>\n",
       "      <td>Palacio</td>\n",
       "      <td>Madrid</td>\n",
       "      <td>Apartment</td>\n",
       "      <td>Private room</td>\n",
       "      <td>2</td>\n",
       "      <td>1.0</td>\n",
       "      <td>1.0</td>\n",
       "      <td>1.0</td>\n",
       "      <td>Real Bed</td>\n",
       "      <td>TV,Internet,Wireless Internet,Kitchen,Doorman,...</td>\n",
       "      <td>36.0</td>\n",
       "      <td>NaN</td>\n",
       "      <td>NaN</td>\n",
       "      <td>0</td>\n",
       "      <td>2</td>\n",
       "      <td>80</td>\n",
       "      <td>98.0</td>\n",
       "      <td>NaN</td>\n",
       "    </tr>\n",
       "    <tr>\n",
       "      <th>4</th>\n",
       "      <td>Ópera/Plz Mayor -- A/C, elevator</td>\n",
       "      <td>The neighborhood is steeped in history and clo...</td>\n",
       "      <td>https://a0.muscache.com/im/pictures/44239584/c...</td>\n",
       "      <td>NaN</td>\n",
       "      <td>3.0</td>\n",
       "      <td>Palacio</td>\n",
       "      <td>Madrid</td>\n",
       "      <td>Apartment</td>\n",
       "      <td>Entire home/apt</td>\n",
       "      <td>2</td>\n",
       "      <td>1.0</td>\n",
       "      <td>1.0</td>\n",
       "      <td>1.0</td>\n",
       "      <td>Real Bed</td>\n",
       "      <td>TV,Wireless Internet,Air conditioning,Kitchen,...</td>\n",
       "      <td>85.0</td>\n",
       "      <td>100.0</td>\n",
       "      <td>30.0</td>\n",
       "      <td>0</td>\n",
       "      <td>3</td>\n",
       "      <td>90</td>\n",
       "      <td>95.0</td>\n",
       "      <td>NaN</td>\n",
       "    </tr>\n",
       "  </tbody>\n",
       "</table>\n",
       "</div>"
      ],
      "text/plain": [
       "                                                Name  \\\n",
       "0  Cozy Studio between Earls Court and Gloucester Rd   \n",
       "1                       Five bedroom house in Barnes   \n",
       "2  Modern & Bright, Central Soho, 1 Bedroom Apart...   \n",
       "3                 Double room + bathroom - La Latina   \n",
       "4                   Ópera/Plz Mayor -- A/C, elevator   \n",
       "\n",
       "                               Neighborhood Overview  \\\n",
       "0                                                NaN   \n",
       "1                           Quiet residential street   \n",
       "2  Central Soho. Oxford Street, Berwick Street, C...   \n",
       "3  La Latina is one of the most famous neighbourh...   \n",
       "4  The neighborhood is steeped in history and clo...   \n",
       "\n",
       "                                       Thumbnail Url Host Acceptance Rate  \\\n",
       "0                                                NaN                  NaN   \n",
       "1  https://a0.muscache.com/im/pictures/9b3adacb-1...                  NaN   \n",
       "2  https://a0.muscache.com/im/pictures/4d249664-8...                  NaN   \n",
       "3  https://a0.muscache.com/im/pictures/40713802/3...                  NaN   \n",
       "4  https://a0.muscache.com/im/pictures/44239584/c...                  NaN   \n",
       "\n",
       "   Host Listings Count  Neighbourhood Cleansed  Market Property Type  \\\n",
       "0                  1.0  Kensington and Chelsea  London     Apartment   \n",
       "1                  2.0    Richmond upon Thames  London         House   \n",
       "2                 10.0             Westminster  London     Apartment   \n",
       "3                  1.0                 Palacio  Madrid     Apartment   \n",
       "4                  3.0                 Palacio  Madrid     Apartment   \n",
       "\n",
       "         Room Type  Accommodates  Bathrooms  Bedrooms  Beds  Bed Type  \\\n",
       "0  Entire home/apt             1        1.0       1.0   1.0  Real Bed   \n",
       "1  Entire home/apt             8        2.5       5.0   5.0  Real Bed   \n",
       "2  Entire home/apt             2        1.0       1.0   1.0  Real Bed   \n",
       "3     Private room             2        1.0       1.0   1.0  Real Bed   \n",
       "4  Entire home/apt             2        1.0       1.0   1.0  Real Bed   \n",
       "\n",
       "                                           Amenities  Price  Security Deposit  \\\n",
       "0  Wireless Internet,Kitchen,Smoking allowed,Heat...   50.0             100.0   \n",
       "1  TV,Wireless Internet,Kitchen,Heating,Family/ki...  175.0             750.0   \n",
       "2  TV,Wireless Internet,Kitchen,Heating,Family/ki...  155.0               NaN   \n",
       "3  TV,Internet,Wireless Internet,Kitchen,Doorman,...   36.0               NaN   \n",
       "4  TV,Wireless Internet,Air conditioning,Kitchen,...   85.0             100.0   \n",
       "\n",
       "   Cleaning Fee  Extra People  Minimum Nights  Number of Reviews  \\\n",
       "0          30.0            20               5                  2   \n",
       "1         100.0            25               1                  6   \n",
       "2           NaN             0               1                  0   \n",
       "3           NaN             0               2                 80   \n",
       "4          30.0             0               3                 90   \n",
       "\n",
       "   Review Scores Rating  Square Meters  \n",
       "0                  90.0            NaN  \n",
       "1                  87.0            NaN  \n",
       "2                   NaN            NaN  \n",
       "3                  98.0            NaN  \n",
       "4                  95.0            NaN  "
      ]
     },
     "execution_count": 16,
     "metadata": {},
     "output_type": "execute_result"
    }
   ],
   "source": [
    "data.head()"
   ]
  },
  {
   "cell_type": "markdown",
   "metadata": {},
   "source": [
    "Nos quedamos con la variable _Market_ al ser la que más registros de Madrid tenía (Más que _City_ o _Smart Location_). En _Market_ observamos que hay registros que no pertenecen a Madrid, son mínimos, pero perjudicarían nuestro modelo."
   ]
  },
  {
   "cell_type": "code",
   "execution_count": 17,
   "metadata": {},
   "outputs": [
    {
     "name": "stdout",
     "output_type": "stream",
     "text": [
      "57\n",
      "13274\n"
     ]
    }
   ],
   "source": [
    "print(data.Market.isna().sum())\n",
    "print((data['Market'] == 'Madrid').sum())"
   ]
  },
  {
   "cell_type": "markdown",
   "metadata": {},
   "source": [
    "Hay *57* NA, que probablemente podamos identificar como registros de _Madrid_ a través de la columna _Barrio_ , así que no los descartamos."
   ]
  },
  {
   "cell_type": "markdown",
   "metadata": {},
   "source": [
    "Actualizamos el dataset a estos valores y comprobamos que los registros *Madrid* y *NA* de _Market_ coinciden con la longitud del dataset."
   ]
  },
  {
   "cell_type": "code",
   "execution_count": 18,
   "metadata": {},
   "outputs": [
    {
     "data": {
      "text/plain": [
       "True"
      ]
     },
     "execution_count": 18,
     "metadata": {},
     "output_type": "execute_result"
    }
   ],
   "source": [
    "data = data[(data['Market'] == 'Madrid') | (data['Market'].isna())]\n",
    "data['Market'].value_counts().sum() + data['Market'].isna().sum() == data.shape[0]"
   ]
  },
  {
   "cell_type": "markdown",
   "metadata": {},
   "source": [
    "Hemos decidido que _Neighbourhood Cleansed_ sea la variable más óptima para conocer el barrio. Identificamos a qué barrios se refieren los _NA_ de _Market_ ."
   ]
  },
  {
   "cell_type": "code",
   "execution_count": 19,
   "metadata": {},
   "outputs": [
    {
     "data": {
      "text/plain": [
       "Cortes                  30\n",
       "Universidad              3\n",
       "Hispanoamérica           2\n",
       "San Diego                2\n",
       "Guindalera               2\n",
       "Palacio                  1\n",
       "Argüelles                1\n",
       "Gaztambide               1\n",
       "Commune de Genève        1\n",
       "Bellas Vistas            1\n",
       "Little Italy             1\n",
       "Justicia                 1\n",
       "Arapiles                 1\n",
       "Frederiksberg            1\n",
       "Palos de Moguer          1\n",
       "Ealing                   1\n",
       "Delicias                 1\n",
       "Castillejos              1\n",
       "Ibiza                    1\n",
       "Haringey                 1\n",
       "ΝΕΟΣ ΚΟΣΜΟΣ              1\n",
       "Ciudad Universitaria     1\n",
       "Popincourt               1\n",
       "Name: Neighbourhood Cleansed, dtype: int64"
      ]
     },
     "execution_count": 19,
     "metadata": {},
     "output_type": "execute_result"
    }
   ],
   "source": [
    "data[(data['Market'].isna())]['Neighbourhood Cleansed'].value_counts()"
   ]
  },
  {
   "cell_type": "code",
   "execution_count": 20,
   "metadata": {},
   "outputs": [],
   "source": [
    "data[data['Neighbourhood Cleansed'].str.contains('Cortes')] = data[data['Neighbourhood Cleansed'].str.contains('Cortes')].fillna('Madrid')"
   ]
  },
  {
   "cell_type": "code",
   "execution_count": 21,
   "metadata": {},
   "outputs": [],
   "source": [
    "data[data['Neighbourhood Cleansed'].str.contains('Universidad')] = data[data['Neighbourhood Cleansed'].str.contains('Universidad')].fillna('Madrid')"
   ]
  },
  {
   "cell_type": "code",
   "execution_count": 22,
   "metadata": {},
   "outputs": [],
   "source": [
    "data[data['Neighbourhood Cleansed'].str.contains('Hispanoamérica')] = data[data['Neighbourhood Cleansed'].str.contains('Hispanoamérica')].fillna('Madrid')"
   ]
  },
  {
   "cell_type": "code",
   "execution_count": 23,
   "metadata": {},
   "outputs": [],
   "source": [
    "data[data['Neighbourhood Cleansed'].str.contains('San Diego')] = data[data['Neighbourhood Cleansed'].str.contains('San Diego')].fillna('Madrid')"
   ]
  },
  {
   "cell_type": "code",
   "execution_count": 24,
   "metadata": {},
   "outputs": [
    {
     "data": {
      "text/plain": [
       "Guindalera              2\n",
       "Delicias                1\n",
       "Commune de Genève       1\n",
       "Argüelles               1\n",
       "Gaztambide              1\n",
       "Bellas Vistas           1\n",
       "Palacio                 1\n",
       "Frederiksberg           1\n",
       "Justicia                1\n",
       "Palos de Moguer         1\n",
       "Little Italy            1\n",
       "Ealing                  1\n",
       "Popincourt              1\n",
       "Castillejos             1\n",
       "Haringey                1\n",
       "ΝΕΟΣ ΚΟΣΜΟΣ             1\n",
       "Ciudad Universitaria    1\n",
       "Arapiles                1\n",
       "Ibiza                   1\n",
       "Name: Neighbourhood Cleansed, dtype: int64"
      ]
     },
     "execution_count": 24,
     "metadata": {},
     "output_type": "execute_result"
    }
   ],
   "source": [
    "data[(data['Market'].isna())]['Neighbourhood Cleansed'].value_counts()"
   ]
  },
  {
   "cell_type": "markdown",
   "metadata": {},
   "source": [
    "Eliminamos los registros que no corresponden a barrios madrileños."
   ]
  },
  {
   "cell_type": "code",
   "execution_count": 25,
   "metadata": {},
   "outputs": [
    {
     "data": {
      "text/html": [
       "<div>\n",
       "<style scoped>\n",
       "    .dataframe tbody tr th:only-of-type {\n",
       "        vertical-align: middle;\n",
       "    }\n",
       "\n",
       "    .dataframe tbody tr th {\n",
       "        vertical-align: top;\n",
       "    }\n",
       "\n",
       "    .dataframe thead th {\n",
       "        text-align: right;\n",
       "    }\n",
       "</style>\n",
       "<table border=\"1\" class=\"dataframe\">\n",
       "  <thead>\n",
       "    <tr style=\"text-align: right;\">\n",
       "      <th></th>\n",
       "      <th>Name</th>\n",
       "      <th>Neighborhood Overview</th>\n",
       "      <th>Thumbnail Url</th>\n",
       "      <th>Host Acceptance Rate</th>\n",
       "      <th>Host Listings Count</th>\n",
       "      <th>Neighbourhood Cleansed</th>\n",
       "      <th>Market</th>\n",
       "      <th>Property Type</th>\n",
       "      <th>Room Type</th>\n",
       "      <th>Accommodates</th>\n",
       "      <th>Bathrooms</th>\n",
       "      <th>Bedrooms</th>\n",
       "      <th>Beds</th>\n",
       "      <th>Bed Type</th>\n",
       "      <th>Amenities</th>\n",
       "      <th>Price</th>\n",
       "      <th>Security Deposit</th>\n",
       "      <th>Cleaning Fee</th>\n",
       "      <th>Extra People</th>\n",
       "      <th>Minimum Nights</th>\n",
       "      <th>Number of Reviews</th>\n",
       "      <th>Review Scores Rating</th>\n",
       "      <th>Square Meters</th>\n",
       "    </tr>\n",
       "  </thead>\n",
       "  <tbody>\n",
       "    <tr>\n",
       "      <th>3214</th>\n",
       "      <td>Acropolis Modern Design Studio</td>\n",
       "      <td>Nearby attractions are: - Acropolis Museum (15...</td>\n",
       "      <td>https://a0.muscache.com/im/pictures/691b5606-d...</td>\n",
       "      <td>NaN</td>\n",
       "      <td>3</td>\n",
       "      <td>ΝΕΟΣ ΚΟΣΜΟΣ</td>\n",
       "      <td>NaN</td>\n",
       "      <td>Apartment</td>\n",
       "      <td>Entire home/apt</td>\n",
       "      <td>3</td>\n",
       "      <td>1</td>\n",
       "      <td>0</td>\n",
       "      <td>1</td>\n",
       "      <td>Real Bed</td>\n",
       "      <td>TV,Wireless Internet,Air conditioning,Kitchen,...</td>\n",
       "      <td>32</td>\n",
       "      <td>NaN</td>\n",
       "      <td>15</td>\n",
       "      <td>8</td>\n",
       "      <td>2</td>\n",
       "      <td>36</td>\n",
       "      <td>99</td>\n",
       "      <td>NaN</td>\n",
       "    </tr>\n",
       "  </tbody>\n",
       "</table>\n",
       "</div>"
      ],
      "text/plain": [
       "                                Name  \\\n",
       "3214  Acropolis Modern Design Studio   \n",
       "\n",
       "                                  Neighborhood Overview  \\\n",
       "3214  Nearby attractions are: - Acropolis Museum (15...   \n",
       "\n",
       "                                          Thumbnail Url Host Acceptance Rate  \\\n",
       "3214  https://a0.muscache.com/im/pictures/691b5606-d...                  NaN   \n",
       "\n",
       "     Host Listings Count Neighbourhood Cleansed Market Property Type  \\\n",
       "3214                   3            ΝΕΟΣ ΚΟΣΜΟΣ    NaN     Apartment   \n",
       "\n",
       "            Room Type  Accommodates Bathrooms Bedrooms Beds  Bed Type  \\\n",
       "3214  Entire home/apt             3         1        0    1  Real Bed   \n",
       "\n",
       "                                              Amenities Price  \\\n",
       "3214  TV,Wireless Internet,Air conditioning,Kitchen,...    32   \n",
       "\n",
       "     Security Deposit Cleaning Fee  Extra People  Minimum Nights  \\\n",
       "3214              NaN           15             8               2   \n",
       "\n",
       "      Number of Reviews Review Scores Rating Square Meters  \n",
       "3214                 36                   99           NaN  "
      ]
     },
     "execution_count": 25,
     "metadata": {},
     "output_type": "execute_result"
    }
   ],
   "source": [
    "data[data['Neighbourhood Cleansed'].str.contains('ΝΕΟΣ ΚΟΣΜΟΣ')]"
   ]
  },
  {
   "cell_type": "code",
   "execution_count": 26,
   "metadata": {},
   "outputs": [],
   "source": [
    "data = data.drop(3214, axis=0)"
   ]
  },
  {
   "cell_type": "code",
   "execution_count": 27,
   "metadata": {},
   "outputs": [
    {
     "data": {
      "text/html": [
       "<div>\n",
       "<style scoped>\n",
       "    .dataframe tbody tr th:only-of-type {\n",
       "        vertical-align: middle;\n",
       "    }\n",
       "\n",
       "    .dataframe tbody tr th {\n",
       "        vertical-align: top;\n",
       "    }\n",
       "\n",
       "    .dataframe thead th {\n",
       "        text-align: right;\n",
       "    }\n",
       "</style>\n",
       "<table border=\"1\" class=\"dataframe\">\n",
       "  <thead>\n",
       "    <tr style=\"text-align: right;\">\n",
       "      <th></th>\n",
       "      <th>Name</th>\n",
       "      <th>Neighborhood Overview</th>\n",
       "      <th>Thumbnail Url</th>\n",
       "      <th>Host Acceptance Rate</th>\n",
       "      <th>Host Listings Count</th>\n",
       "      <th>Neighbourhood Cleansed</th>\n",
       "      <th>Market</th>\n",
       "      <th>Property Type</th>\n",
       "      <th>Room Type</th>\n",
       "      <th>Accommodates</th>\n",
       "      <th>Bathrooms</th>\n",
       "      <th>Bedrooms</th>\n",
       "      <th>Beds</th>\n",
       "      <th>Bed Type</th>\n",
       "      <th>Amenities</th>\n",
       "      <th>Price</th>\n",
       "      <th>Security Deposit</th>\n",
       "      <th>Cleaning Fee</th>\n",
       "      <th>Extra People</th>\n",
       "      <th>Minimum Nights</th>\n",
       "      <th>Number of Reviews</th>\n",
       "      <th>Review Scores Rating</th>\n",
       "      <th>Square Meters</th>\n",
       "    </tr>\n",
       "  </thead>\n",
       "  <tbody>\n",
       "    <tr>\n",
       "      <th>3190</th>\n",
       "      <td>Beautiful modern loft in Little Italy!</td>\n",
       "      <td>NaN</td>\n",
       "      <td>https://a2.muscache.com/im/pictures/2a9f71aa-4...</td>\n",
       "      <td>NaN</td>\n",
       "      <td>1</td>\n",
       "      <td>Little Italy</td>\n",
       "      <td>NaN</td>\n",
       "      <td>Loft</td>\n",
       "      <td>Entire home/apt</td>\n",
       "      <td>2</td>\n",
       "      <td>1</td>\n",
       "      <td>1</td>\n",
       "      <td>1</td>\n",
       "      <td>Real Bed</td>\n",
       "      <td>TV,Wireless Internet,Air Conditioning,Kitchen,...</td>\n",
       "      <td>180</td>\n",
       "      <td>NaN</td>\n",
       "      <td>25</td>\n",
       "      <td>0</td>\n",
       "      <td>3</td>\n",
       "      <td>0</td>\n",
       "      <td>NaN</td>\n",
       "      <td>NaN</td>\n",
       "    </tr>\n",
       "  </tbody>\n",
       "</table>\n",
       "</div>"
      ],
      "text/plain": [
       "                                        Name Neighborhood Overview  \\\n",
       "3190  Beautiful modern loft in Little Italy!                   NaN   \n",
       "\n",
       "                                          Thumbnail Url Host Acceptance Rate  \\\n",
       "3190  https://a2.muscache.com/im/pictures/2a9f71aa-4...                  NaN   \n",
       "\n",
       "     Host Listings Count Neighbourhood Cleansed Market Property Type  \\\n",
       "3190                   1           Little Italy    NaN          Loft   \n",
       "\n",
       "            Room Type  Accommodates Bathrooms Bedrooms Beds  Bed Type  \\\n",
       "3190  Entire home/apt             2         1        1    1  Real Bed   \n",
       "\n",
       "                                              Amenities Price  \\\n",
       "3190  TV,Wireless Internet,Air Conditioning,Kitchen,...   180   \n",
       "\n",
       "     Security Deposit Cleaning Fee  Extra People  Minimum Nights  \\\n",
       "3190              NaN           25             0               3   \n",
       "\n",
       "      Number of Reviews Review Scores Rating Square Meters  \n",
       "3190                  0                  NaN           NaN  "
      ]
     },
     "execution_count": 27,
     "metadata": {},
     "output_type": "execute_result"
    }
   ],
   "source": [
    "data[data['Neighbourhood Cleansed'].str.contains('Little Italy')]"
   ]
  },
  {
   "cell_type": "code",
   "execution_count": 28,
   "metadata": {},
   "outputs": [],
   "source": [
    "data = data.drop(3190, axis=0)"
   ]
  },
  {
   "cell_type": "code",
   "execution_count": 29,
   "metadata": {},
   "outputs": [
    {
     "data": {
      "text/html": [
       "<div>\n",
       "<style scoped>\n",
       "    .dataframe tbody tr th:only-of-type {\n",
       "        vertical-align: middle;\n",
       "    }\n",
       "\n",
       "    .dataframe tbody tr th {\n",
       "        vertical-align: top;\n",
       "    }\n",
       "\n",
       "    .dataframe thead th {\n",
       "        text-align: right;\n",
       "    }\n",
       "</style>\n",
       "<table border=\"1\" class=\"dataframe\">\n",
       "  <thead>\n",
       "    <tr style=\"text-align: right;\">\n",
       "      <th></th>\n",
       "      <th>Name</th>\n",
       "      <th>Neighborhood Overview</th>\n",
       "      <th>Thumbnail Url</th>\n",
       "      <th>Host Acceptance Rate</th>\n",
       "      <th>Host Listings Count</th>\n",
       "      <th>Neighbourhood Cleansed</th>\n",
       "      <th>Market</th>\n",
       "      <th>Property Type</th>\n",
       "      <th>Room Type</th>\n",
       "      <th>Accommodates</th>\n",
       "      <th>Bathrooms</th>\n",
       "      <th>Bedrooms</th>\n",
       "      <th>Beds</th>\n",
       "      <th>Bed Type</th>\n",
       "      <th>Amenities</th>\n",
       "      <th>Price</th>\n",
       "      <th>Security Deposit</th>\n",
       "      <th>Cleaning Fee</th>\n",
       "      <th>Extra People</th>\n",
       "      <th>Minimum Nights</th>\n",
       "      <th>Number of Reviews</th>\n",
       "      <th>Review Scores Rating</th>\n",
       "      <th>Square Meters</th>\n",
       "    </tr>\n",
       "  </thead>\n",
       "  <tbody>\n",
       "    <tr>\n",
       "      <th>9407</th>\n",
       "      <td>Apartment close to Lake Geneva and Jet d'eau</td>\n",
       "      <td>NaN</td>\n",
       "      <td>https://a2.muscache.com/im/pictures/40d78b94-e...</td>\n",
       "      <td>NaN</td>\n",
       "      <td>1</td>\n",
       "      <td>Commune de Genève</td>\n",
       "      <td>NaN</td>\n",
       "      <td>Apartment</td>\n",
       "      <td>Entire home/apt</td>\n",
       "      <td>2</td>\n",
       "      <td>1</td>\n",
       "      <td>1</td>\n",
       "      <td>1</td>\n",
       "      <td>Real Bed</td>\n",
       "      <td>Wireless Internet,Kitchen,Elevator in Building...</td>\n",
       "      <td>95</td>\n",
       "      <td>NaN</td>\n",
       "      <td>25</td>\n",
       "      <td>0</td>\n",
       "      <td>2</td>\n",
       "      <td>0</td>\n",
       "      <td>NaN</td>\n",
       "      <td>NaN</td>\n",
       "    </tr>\n",
       "  </tbody>\n",
       "</table>\n",
       "</div>"
      ],
      "text/plain": [
       "                                              Name Neighborhood Overview  \\\n",
       "9407  Apartment close to Lake Geneva and Jet d'eau                   NaN   \n",
       "\n",
       "                                          Thumbnail Url Host Acceptance Rate  \\\n",
       "9407  https://a2.muscache.com/im/pictures/40d78b94-e...                  NaN   \n",
       "\n",
       "     Host Listings Count Neighbourhood Cleansed Market Property Type  \\\n",
       "9407                   1      Commune de Genève    NaN     Apartment   \n",
       "\n",
       "            Room Type  Accommodates Bathrooms Bedrooms Beds  Bed Type  \\\n",
       "9407  Entire home/apt             2         1        1    1  Real Bed   \n",
       "\n",
       "                                              Amenities Price  \\\n",
       "9407  Wireless Internet,Kitchen,Elevator in Building...    95   \n",
       "\n",
       "     Security Deposit Cleaning Fee  Extra People  Minimum Nights  \\\n",
       "9407              NaN           25             0               2   \n",
       "\n",
       "      Number of Reviews Review Scores Rating Square Meters  \n",
       "9407                  0                  NaN           NaN  "
      ]
     },
     "execution_count": 29,
     "metadata": {},
     "output_type": "execute_result"
    }
   ],
   "source": [
    "data[data['Neighbourhood Cleansed'].str.contains('Commune de Genève')]"
   ]
  },
  {
   "cell_type": "code",
   "execution_count": 30,
   "metadata": {},
   "outputs": [],
   "source": [
    "data = data.drop(9407, axis=0)"
   ]
  },
  {
   "cell_type": "code",
   "execution_count": 31,
   "metadata": {},
   "outputs": [
    {
     "data": {
      "text/html": [
       "<div>\n",
       "<style scoped>\n",
       "    .dataframe tbody tr th:only-of-type {\n",
       "        vertical-align: middle;\n",
       "    }\n",
       "\n",
       "    .dataframe tbody tr th {\n",
       "        vertical-align: top;\n",
       "    }\n",
       "\n",
       "    .dataframe thead th {\n",
       "        text-align: right;\n",
       "    }\n",
       "</style>\n",
       "<table border=\"1\" class=\"dataframe\">\n",
       "  <thead>\n",
       "    <tr style=\"text-align: right;\">\n",
       "      <th></th>\n",
       "      <th>Name</th>\n",
       "      <th>Neighborhood Overview</th>\n",
       "      <th>Thumbnail Url</th>\n",
       "      <th>Host Acceptance Rate</th>\n",
       "      <th>Host Listings Count</th>\n",
       "      <th>Neighbourhood Cleansed</th>\n",
       "      <th>Market</th>\n",
       "      <th>Property Type</th>\n",
       "      <th>Room Type</th>\n",
       "      <th>Accommodates</th>\n",
       "      <th>Bathrooms</th>\n",
       "      <th>Bedrooms</th>\n",
       "      <th>Beds</th>\n",
       "      <th>Bed Type</th>\n",
       "      <th>Amenities</th>\n",
       "      <th>Price</th>\n",
       "      <th>Security Deposit</th>\n",
       "      <th>Cleaning Fee</th>\n",
       "      <th>Extra People</th>\n",
       "      <th>Minimum Nights</th>\n",
       "      <th>Number of Reviews</th>\n",
       "      <th>Review Scores Rating</th>\n",
       "      <th>Square Meters</th>\n",
       "    </tr>\n",
       "  </thead>\n",
       "  <tbody>\n",
       "    <tr>\n",
       "      <th>14729</th>\n",
       "      <td>Lovely and modern small flat in Paris 11th</td>\n",
       "      <td>The 11th is trendy and in some places hipster-...</td>\n",
       "      <td>NaN</td>\n",
       "      <td>NaN</td>\n",
       "      <td>1</td>\n",
       "      <td>Popincourt</td>\n",
       "      <td>NaN</td>\n",
       "      <td>Apartment</td>\n",
       "      <td>Entire home/apt</td>\n",
       "      <td>2</td>\n",
       "      <td>1</td>\n",
       "      <td>0</td>\n",
       "      <td>1</td>\n",
       "      <td>Real Bed</td>\n",
       "      <td>Wireless Internet,Kitchen,Heating,Family/kid f...</td>\n",
       "      <td>62</td>\n",
       "      <td>NaN</td>\n",
       "      <td>NaN</td>\n",
       "      <td>0</td>\n",
       "      <td>1</td>\n",
       "      <td>1</td>\n",
       "      <td>100</td>\n",
       "      <td>NaN</td>\n",
       "    </tr>\n",
       "  </tbody>\n",
       "</table>\n",
       "</div>"
      ],
      "text/plain": [
       "                                             Name  \\\n",
       "14729  Lovely and modern small flat in Paris 11th   \n",
       "\n",
       "                                   Neighborhood Overview Thumbnail Url  \\\n",
       "14729  The 11th is trendy and in some places hipster-...           NaN   \n",
       "\n",
       "      Host Acceptance Rate Host Listings Count Neighbourhood Cleansed Market  \\\n",
       "14729                  NaN                   1             Popincourt    NaN   \n",
       "\n",
       "      Property Type        Room Type  Accommodates Bathrooms Bedrooms Beds  \\\n",
       "14729     Apartment  Entire home/apt             2         1        0    1   \n",
       "\n",
       "       Bed Type                                          Amenities Price  \\\n",
       "14729  Real Bed  Wireless Internet,Kitchen,Heating,Family/kid f...    62   \n",
       "\n",
       "      Security Deposit Cleaning Fee  Extra People  Minimum Nights  \\\n",
       "14729              NaN          NaN             0               1   \n",
       "\n",
       "       Number of Reviews Review Scores Rating Square Meters  \n",
       "14729                  1                  100           NaN  "
      ]
     },
     "execution_count": 31,
     "metadata": {},
     "output_type": "execute_result"
    }
   ],
   "source": [
    "data[data['Neighbourhood Cleansed'].str.contains('Popincourt')]"
   ]
  },
  {
   "cell_type": "code",
   "execution_count": 32,
   "metadata": {},
   "outputs": [],
   "source": [
    "data = data.drop(14729, axis=0)"
   ]
  },
  {
   "cell_type": "code",
   "execution_count": 33,
   "metadata": {},
   "outputs": [
    {
     "data": {
      "text/html": [
       "<div>\n",
       "<style scoped>\n",
       "    .dataframe tbody tr th:only-of-type {\n",
       "        vertical-align: middle;\n",
       "    }\n",
       "\n",
       "    .dataframe tbody tr th {\n",
       "        vertical-align: top;\n",
       "    }\n",
       "\n",
       "    .dataframe thead th {\n",
       "        text-align: right;\n",
       "    }\n",
       "</style>\n",
       "<table border=\"1\" class=\"dataframe\">\n",
       "  <thead>\n",
       "    <tr style=\"text-align: right;\">\n",
       "      <th></th>\n",
       "      <th>Name</th>\n",
       "      <th>Neighborhood Overview</th>\n",
       "      <th>Thumbnail Url</th>\n",
       "      <th>Host Acceptance Rate</th>\n",
       "      <th>Host Listings Count</th>\n",
       "      <th>Neighbourhood Cleansed</th>\n",
       "      <th>Market</th>\n",
       "      <th>Property Type</th>\n",
       "      <th>Room Type</th>\n",
       "      <th>Accommodates</th>\n",
       "      <th>Bathrooms</th>\n",
       "      <th>Bedrooms</th>\n",
       "      <th>Beds</th>\n",
       "      <th>Bed Type</th>\n",
       "      <th>Amenities</th>\n",
       "      <th>Price</th>\n",
       "      <th>Security Deposit</th>\n",
       "      <th>Cleaning Fee</th>\n",
       "      <th>Extra People</th>\n",
       "      <th>Minimum Nights</th>\n",
       "      <th>Number of Reviews</th>\n",
       "      <th>Review Scores Rating</th>\n",
       "      <th>Square Meters</th>\n",
       "    </tr>\n",
       "  </thead>\n",
       "  <tbody>\n",
       "    <tr>\n",
       "      <th>10313</th>\n",
       "      <td>Beautiful room in period house near Finsbury Park</td>\n",
       "      <td>NaN</td>\n",
       "      <td>https://a0.muscache.com/im/pictures/763a5ccc-2...</td>\n",
       "      <td>NaN</td>\n",
       "      <td>1</td>\n",
       "      <td>Haringey</td>\n",
       "      <td>NaN</td>\n",
       "      <td>House</td>\n",
       "      <td>Private room</td>\n",
       "      <td>2</td>\n",
       "      <td>1</td>\n",
       "      <td>1</td>\n",
       "      <td>1</td>\n",
       "      <td>Real Bed</td>\n",
       "      <td>Wireless Internet,Kitchen,Breakfast,Heating,Es...</td>\n",
       "      <td>42</td>\n",
       "      <td>NaN</td>\n",
       "      <td>8</td>\n",
       "      <td>0</td>\n",
       "      <td>1</td>\n",
       "      <td>3</td>\n",
       "      <td>100</td>\n",
       "      <td>NaN</td>\n",
       "    </tr>\n",
       "  </tbody>\n",
       "</table>\n",
       "</div>"
      ],
      "text/plain": [
       "                                                    Name  \\\n",
       "10313  Beautiful room in period house near Finsbury Park   \n",
       "\n",
       "      Neighborhood Overview  \\\n",
       "10313                   NaN   \n",
       "\n",
       "                                           Thumbnail Url Host Acceptance Rate  \\\n",
       "10313  https://a0.muscache.com/im/pictures/763a5ccc-2...                  NaN   \n",
       "\n",
       "      Host Listings Count Neighbourhood Cleansed Market Property Type  \\\n",
       "10313                   1               Haringey    NaN         House   \n",
       "\n",
       "          Room Type  Accommodates Bathrooms Bedrooms Beds  Bed Type  \\\n",
       "10313  Private room             2         1        1    1  Real Bed   \n",
       "\n",
       "                                               Amenities Price  \\\n",
       "10313  Wireless Internet,Kitchen,Breakfast,Heating,Es...    42   \n",
       "\n",
       "      Security Deposit Cleaning Fee  Extra People  Minimum Nights  \\\n",
       "10313              NaN            8             0               1   \n",
       "\n",
       "       Number of Reviews Review Scores Rating Square Meters  \n",
       "10313                  3                  100           NaN  "
      ]
     },
     "execution_count": 33,
     "metadata": {},
     "output_type": "execute_result"
    }
   ],
   "source": [
    "data[data['Neighbourhood Cleansed'].str.contains('Haringey')]"
   ]
  },
  {
   "cell_type": "code",
   "execution_count": 34,
   "metadata": {},
   "outputs": [],
   "source": [
    "data = data.drop(10313, axis=0)"
   ]
  },
  {
   "cell_type": "code",
   "execution_count": 35,
   "metadata": {},
   "outputs": [
    {
     "data": {
      "text/html": [
       "<div>\n",
       "<style scoped>\n",
       "    .dataframe tbody tr th:only-of-type {\n",
       "        vertical-align: middle;\n",
       "    }\n",
       "\n",
       "    .dataframe tbody tr th {\n",
       "        vertical-align: top;\n",
       "    }\n",
       "\n",
       "    .dataframe thead th {\n",
       "        text-align: right;\n",
       "    }\n",
       "</style>\n",
       "<table border=\"1\" class=\"dataframe\">\n",
       "  <thead>\n",
       "    <tr style=\"text-align: right;\">\n",
       "      <th></th>\n",
       "      <th>Name</th>\n",
       "      <th>Neighborhood Overview</th>\n",
       "      <th>Thumbnail Url</th>\n",
       "      <th>Host Acceptance Rate</th>\n",
       "      <th>Host Listings Count</th>\n",
       "      <th>Neighbourhood Cleansed</th>\n",
       "      <th>Market</th>\n",
       "      <th>Property Type</th>\n",
       "      <th>Room Type</th>\n",
       "      <th>Accommodates</th>\n",
       "      <th>Bathrooms</th>\n",
       "      <th>Bedrooms</th>\n",
       "      <th>Beds</th>\n",
       "      <th>Bed Type</th>\n",
       "      <th>Amenities</th>\n",
       "      <th>Price</th>\n",
       "      <th>Security Deposit</th>\n",
       "      <th>Cleaning Fee</th>\n",
       "      <th>Extra People</th>\n",
       "      <th>Minimum Nights</th>\n",
       "      <th>Number of Reviews</th>\n",
       "      <th>Review Scores Rating</th>\n",
       "      <th>Square Meters</th>\n",
       "    </tr>\n",
       "  </thead>\n",
       "  <tbody>\n",
       "    <tr>\n",
       "      <th>534</th>\n",
       "      <td>Big room in 110sqm apartment near inner city</td>\n",
       "      <td>NaN</td>\n",
       "      <td>https://a0.muscache.com/im/pictures/a9c0ad73-2...</td>\n",
       "      <td>NaN</td>\n",
       "      <td>2</td>\n",
       "      <td>Frederiksberg</td>\n",
       "      <td>NaN</td>\n",
       "      <td>Apartment</td>\n",
       "      <td>Private room</td>\n",
       "      <td>3</td>\n",
       "      <td>1</td>\n",
       "      <td>1</td>\n",
       "      <td>2</td>\n",
       "      <td>Real Bed</td>\n",
       "      <td>TV,Wireless Internet,Kitchen,Free parking on p...</td>\n",
       "      <td>397</td>\n",
       "      <td>NaN</td>\n",
       "      <td>100</td>\n",
       "      <td>100</td>\n",
       "      <td>4</td>\n",
       "      <td>4</td>\n",
       "      <td>100</td>\n",
       "      <td>NaN</td>\n",
       "    </tr>\n",
       "  </tbody>\n",
       "</table>\n",
       "</div>"
      ],
      "text/plain": [
       "                                             Name Neighborhood Overview  \\\n",
       "534  Big room in 110sqm apartment near inner city                   NaN   \n",
       "\n",
       "                                         Thumbnail Url Host Acceptance Rate  \\\n",
       "534  https://a0.muscache.com/im/pictures/a9c0ad73-2...                  NaN   \n",
       "\n",
       "    Host Listings Count Neighbourhood Cleansed Market Property Type  \\\n",
       "534                   2          Frederiksberg    NaN     Apartment   \n",
       "\n",
       "        Room Type  Accommodates Bathrooms Bedrooms Beds  Bed Type  \\\n",
       "534  Private room             3         1        1    2  Real Bed   \n",
       "\n",
       "                                             Amenities Price Security Deposit  \\\n",
       "534  TV,Wireless Internet,Kitchen,Free parking on p...   397              NaN   \n",
       "\n",
       "    Cleaning Fee  Extra People  Minimum Nights  Number of Reviews  \\\n",
       "534          100           100               4                  4   \n",
       "\n",
       "    Review Scores Rating Square Meters  \n",
       "534                  100           NaN  "
      ]
     },
     "execution_count": 35,
     "metadata": {},
     "output_type": "execute_result"
    }
   ],
   "source": [
    "data[data['Neighbourhood Cleansed'].str.contains('Frederiksberg')]"
   ]
  },
  {
   "cell_type": "code",
   "execution_count": 36,
   "metadata": {},
   "outputs": [],
   "source": [
    "data = data.drop(534, axis=0)"
   ]
  },
  {
   "cell_type": "code",
   "execution_count": 37,
   "metadata": {},
   "outputs": [
    {
     "data": {
      "text/html": [
       "<div>\n",
       "<style scoped>\n",
       "    .dataframe tbody tr th:only-of-type {\n",
       "        vertical-align: middle;\n",
       "    }\n",
       "\n",
       "    .dataframe tbody tr th {\n",
       "        vertical-align: top;\n",
       "    }\n",
       "\n",
       "    .dataframe thead th {\n",
       "        text-align: right;\n",
       "    }\n",
       "</style>\n",
       "<table border=\"1\" class=\"dataframe\">\n",
       "  <thead>\n",
       "    <tr style=\"text-align: right;\">\n",
       "      <th></th>\n",
       "      <th>Name</th>\n",
       "      <th>Neighborhood Overview</th>\n",
       "      <th>Thumbnail Url</th>\n",
       "      <th>Host Acceptance Rate</th>\n",
       "      <th>Host Listings Count</th>\n",
       "      <th>Neighbourhood Cleansed</th>\n",
       "      <th>Market</th>\n",
       "      <th>Property Type</th>\n",
       "      <th>Room Type</th>\n",
       "      <th>Accommodates</th>\n",
       "      <th>Bathrooms</th>\n",
       "      <th>Bedrooms</th>\n",
       "      <th>Beds</th>\n",
       "      <th>Bed Type</th>\n",
       "      <th>Amenities</th>\n",
       "      <th>Price</th>\n",
       "      <th>Security Deposit</th>\n",
       "      <th>Cleaning Fee</th>\n",
       "      <th>Extra People</th>\n",
       "      <th>Minimum Nights</th>\n",
       "      <th>Number of Reviews</th>\n",
       "      <th>Review Scores Rating</th>\n",
       "      <th>Square Meters</th>\n",
       "    </tr>\n",
       "  </thead>\n",
       "  <tbody>\n",
       "    <tr>\n",
       "      <th>14678</th>\n",
       "      <td>GARDEN EN SUITE PRIVATE ENTRANCE WI FI</td>\n",
       "      <td>NaN</td>\n",
       "      <td>https://a0.muscache.com/im/pictures/a8d53aa9-b...</td>\n",
       "      <td>NaN</td>\n",
       "      <td>16</td>\n",
       "      <td>Ealing</td>\n",
       "      <td>NaN</td>\n",
       "      <td>Apartment</td>\n",
       "      <td>Private room</td>\n",
       "      <td>2</td>\n",
       "      <td>1</td>\n",
       "      <td>1</td>\n",
       "      <td>1</td>\n",
       "      <td>Real Bed</td>\n",
       "      <td>Wireless Internet,Heating,Family/kid friendly,...</td>\n",
       "      <td>45</td>\n",
       "      <td>NaN</td>\n",
       "      <td>NaN</td>\n",
       "      <td>0</td>\n",
       "      <td>1</td>\n",
       "      <td>0</td>\n",
       "      <td>NaN</td>\n",
       "      <td>NaN</td>\n",
       "    </tr>\n",
       "  </tbody>\n",
       "</table>\n",
       "</div>"
      ],
      "text/plain": [
       "                                         Name Neighborhood Overview  \\\n",
       "14678  GARDEN EN SUITE PRIVATE ENTRANCE WI FI                   NaN   \n",
       "\n",
       "                                           Thumbnail Url Host Acceptance Rate  \\\n",
       "14678  https://a0.muscache.com/im/pictures/a8d53aa9-b...                  NaN   \n",
       "\n",
       "      Host Listings Count Neighbourhood Cleansed Market Property Type  \\\n",
       "14678                  16                 Ealing    NaN     Apartment   \n",
       "\n",
       "          Room Type  Accommodates Bathrooms Bedrooms Beds  Bed Type  \\\n",
       "14678  Private room             2         1        1    1  Real Bed   \n",
       "\n",
       "                                               Amenities Price  \\\n",
       "14678  Wireless Internet,Heating,Family/kid friendly,...    45   \n",
       "\n",
       "      Security Deposit Cleaning Fee  Extra People  Minimum Nights  \\\n",
       "14678              NaN          NaN             0               1   \n",
       "\n",
       "       Number of Reviews Review Scores Rating Square Meters  \n",
       "14678                  0                  NaN           NaN  "
      ]
     },
     "execution_count": 37,
     "metadata": {},
     "output_type": "execute_result"
    }
   ],
   "source": [
    "data[data['Neighbourhood Cleansed'].str.contains('Ealing')]"
   ]
  },
  {
   "cell_type": "code",
   "execution_count": 38,
   "metadata": {},
   "outputs": [],
   "source": [
    "data = data.drop(14678, axis=0)"
   ]
  },
  {
   "cell_type": "code",
   "execution_count": 39,
   "metadata": {},
   "outputs": [
    {
     "data": {
      "text/plain": [
       "Guindalera              2\n",
       "Delicias                1\n",
       "Palos de Moguer         1\n",
       "Gaztambide              1\n",
       "Justicia                1\n",
       "Ciudad Universitaria    1\n",
       "Palacio                 1\n",
       "Bellas Vistas           1\n",
       "Castillejos             1\n",
       "Argüelles               1\n",
       "Arapiles                1\n",
       "Ibiza                   1\n",
       "Name: Neighbourhood Cleansed, dtype: int64"
      ]
     },
     "execution_count": 39,
     "metadata": {},
     "output_type": "execute_result"
    }
   ],
   "source": [
    "data[(data['Market'].isna())]['Neighbourhood Cleansed'].value_counts()"
   ]
  },
  {
   "cell_type": "markdown",
   "metadata": {},
   "source": [
    "Para los restantes, rellenamos sus NA en la variable _Market_ como **Madrid** ."
   ]
  },
  {
   "cell_type": "code",
   "execution_count": 40,
   "metadata": {},
   "outputs": [
    {
     "data": {
      "text/plain": [
       "Series([], Name: Neighbourhood Cleansed, dtype: int64)"
      ]
     },
     "execution_count": 40,
     "metadata": {},
     "output_type": "execute_result"
    }
   ],
   "source": [
    "data['Market'] = data['Market'].fillna('Madrid')\n",
    "data[(data['Market'].isna())]['Neighbourhood Cleansed'].value_counts()"
   ]
  },
  {
   "cell_type": "code",
   "execution_count": 41,
   "metadata": {},
   "outputs": [
    {
     "data": {
      "text/plain": [
       "Madrid    13324\n",
       "Name: Market, dtype: int64"
      ]
     },
     "execution_count": 41,
     "metadata": {},
     "output_type": "execute_result"
    }
   ],
   "source": [
    "data['Market'].value_counts()"
   ]
  },
  {
   "cell_type": "code",
   "execution_count": 42,
   "metadata": {},
   "outputs": [
    {
     "data": {
      "text/plain": [
       "(13324, 23)"
      ]
     },
     "execution_count": 42,
     "metadata": {},
     "output_type": "execute_result"
    }
   ],
   "source": [
    "data.shape"
   ]
  },
  {
   "cell_type": "code",
   "execution_count": 43,
   "metadata": {},
   "outputs": [
    {
     "data": {
      "text/plain": [
       "Index(['Name', 'Neighborhood Overview', 'Thumbnail Url',\n",
       "       'Host Acceptance Rate', 'Host Listings Count', 'Neighbourhood Cleansed',\n",
       "       'Market', 'Property Type', 'Room Type', 'Accommodates', 'Bathrooms',\n",
       "       'Bedrooms', 'Beds', 'Bed Type', 'Amenities', 'Price',\n",
       "       'Security Deposit', 'Cleaning Fee', 'Extra People', 'Minimum Nights',\n",
       "       'Number of Reviews', 'Review Scores Rating', 'Square Meters'],\n",
       "      dtype='object')"
      ]
     },
     "execution_count": 43,
     "metadata": {},
     "output_type": "execute_result"
    }
   ],
   "source": [
    "data.columns"
   ]
  },
  {
   "cell_type": "markdown",
   "metadata": {},
   "source": [
    "Eliminamos algunas columnas más irrelevantes, entre ellas _Market_ puesto que ya sabemos que todos los registros pertenecen a **Madrid** ."
   ]
  },
  {
   "cell_type": "code",
   "execution_count": 44,
   "metadata": {},
   "outputs": [],
   "source": [
    "data = data.drop(['Market','Bed Type','Host Acceptance Rate','Host Listings Count'],axis=1)"
   ]
  },
  {
   "cell_type": "markdown",
   "metadata": {},
   "source": [
    "Limpiamos algunas variables que consideramos interesantes y cuyos valores residuales nos pueden perjudicar."
   ]
  },
  {
   "cell_type": "code",
   "execution_count": 45,
   "metadata": {},
   "outputs": [
    {
     "data": {
      "text/plain": [
       "Apartment             10962\n",
       "House                  1001\n",
       "Condominium             346\n",
       "Bed & Breakfast         340\n",
       "Loft                    285\n",
       "Other                   220\n",
       "Dorm                     44\n",
       "Guesthouse               39\n",
       "Chalet                   24\n",
       "Hostel                   16\n",
       "Serviced apartment       13\n",
       "Townhouse                 9\n",
       "Boutique hotel            6\n",
       "Villa                     4\n",
       "Earth House               3\n",
       "Guest suite               3\n",
       "Casa particular           3\n",
       "Camper/RV                 2\n",
       "Bungalow                  1\n",
       "Timeshare                 1\n",
       "Boat                      1\n",
       "Tent                      1\n",
       "Name: Property Type, dtype: int64"
      ]
     },
     "execution_count": 45,
     "metadata": {},
     "output_type": "execute_result"
    }
   ],
   "source": [
    "data['Property Type'].value_counts()"
   ]
  },
  {
   "cell_type": "code",
   "execution_count": 46,
   "metadata": {},
   "outputs": [],
   "source": [
    "s = data['Property Type'].value_counts().gt(50)\n",
    "data = data.loc[data['Property Type'].isin(s[s].index)]"
   ]
  },
  {
   "cell_type": "code",
   "execution_count": 47,
   "metadata": {},
   "outputs": [
    {
     "data": {
      "text/plain": [
       "Apartment          10962\n",
       "House               1001\n",
       "Condominium          346\n",
       "Bed & Breakfast      340\n",
       "Loft                 285\n",
       "Other                220\n",
       "Name: Property Type, dtype: int64"
      ]
     },
     "execution_count": 47,
     "metadata": {},
     "output_type": "execute_result"
    }
   ],
   "source": [
    "data['Property Type'].value_counts()"
   ]
  },
  {
   "cell_type": "code",
   "execution_count": 48,
   "metadata": {},
   "outputs": [
    {
     "data": {
      "text/plain": [
       "1.0       10052\n",
       "2.0        2020\n",
       "1.5         455\n",
       "3.0         230\n",
       "2.5          93\n",
       "0.5          61\n",
       "0.0          59\n",
       "5.0          41\n",
       "4.0          34\n",
       "4.5          23\n",
       "6.0          19\n",
       "3.5          15\n",
       "Madrid        6\n",
       "5.5           3\n",
       "6.5           1\n",
       "8.0           1\n",
       "Name: Bathrooms, dtype: int64"
      ]
     },
     "execution_count": 48,
     "metadata": {},
     "output_type": "execute_result"
    }
   ],
   "source": [
    "data['Bathrooms'].value_counts()"
   ]
  },
  {
   "cell_type": "code",
   "execution_count": 49,
   "metadata": {},
   "outputs": [],
   "source": [
    "t = data['Bathrooms'].value_counts().eq(6)\n",
    "data = data.loc[~data['Bathrooms'].isin(t[t].index)]"
   ]
  },
  {
   "cell_type": "code",
   "execution_count": 50,
   "metadata": {},
   "outputs": [
    {
     "data": {
      "text/plain": [
       "1.0       8865\n",
       "2.0       2334\n",
       "0.0        916\n",
       "3.0        735\n",
       "4.0        194\n",
       "5.0         52\n",
       "6.0         15\n",
       "10.0         6\n",
       "7.0          5\n",
       "Madrid       4\n",
       "8.0          4\n",
       "Name: Bedrooms, dtype: int64"
      ]
     },
     "execution_count": 50,
     "metadata": {},
     "output_type": "execute_result"
    }
   ],
   "source": [
    "data['Bedrooms'].value_counts()"
   ]
  },
  {
   "cell_type": "markdown",
   "metadata": {},
   "source": [
    "Vemos que **_Bedrooms_** y otras columnas también tiene un _outlier_ raro con 'Madrid' . Los transformamos en NA para posteriormente darles tratamiento."
   ]
  },
  {
   "cell_type": "code",
   "execution_count": 51,
   "metadata": {},
   "outputs": [
    {
     "data": {
      "text/plain": [
       "4"
      ]
     },
     "execution_count": 51,
     "metadata": {},
     "output_type": "execute_result"
    }
   ],
   "source": [
    "len(data[data['Bedrooms'] == 'Madrid'])"
   ]
  },
  {
   "cell_type": "code",
   "execution_count": 52,
   "metadata": {},
   "outputs": [
    {
     "name": "stderr",
     "output_type": "stream",
     "text": [
      "/Users/jotaemeguzman/opt/anaconda3/lib/python3.7/site-packages/pandas/core/ops/array_ops.py:253: FutureWarning: elementwise comparison failed; returning scalar instead, but in the future will perform elementwise comparison\n",
      "  res_values = method(rvalues)\n"
     ]
    },
    {
     "data": {
      "text/plain": [
       "0"
      ]
     },
     "execution_count": 52,
     "metadata": {},
     "output_type": "execute_result"
    }
   ],
   "source": [
    "data['Bedrooms'] = data['Bedrooms'].replace('Madrid', np.nan)\n",
    "len(data[data['Bedrooms'] == 'Madrid'])"
   ]
  },
  {
   "cell_type": "code",
   "execution_count": 53,
   "metadata": {},
   "outputs": [
    {
     "data": {
      "text/plain": [
       "1"
      ]
     },
     "execution_count": 53,
     "metadata": {},
     "output_type": "execute_result"
    }
   ],
   "source": [
    "len(data.loc[data['Price'] == 'Madrid'])"
   ]
  },
  {
   "cell_type": "code",
   "execution_count": 54,
   "metadata": {},
   "outputs": [
    {
     "data": {
      "text/plain": [
       "0"
      ]
     },
     "execution_count": 54,
     "metadata": {},
     "output_type": "execute_result"
    }
   ],
   "source": [
    "data['Price'] = data['Price'].replace('Madrid', np.nan)\n",
    "len(data.loc[data['Price'] == 'Madrid'])"
   ]
  },
  {
   "cell_type": "code",
   "execution_count": 55,
   "metadata": {},
   "outputs": [
    {
     "data": {
      "text/plain": [
       "1183"
      ]
     },
     "execution_count": 55,
     "metadata": {},
     "output_type": "execute_result"
    }
   ],
   "source": [
    "len(data.loc[data['Security Deposit'] == 'Madrid'])"
   ]
  },
  {
   "cell_type": "code",
   "execution_count": 56,
   "metadata": {},
   "outputs": [
    {
     "data": {
      "text/plain": [
       "0"
      ]
     },
     "execution_count": 56,
     "metadata": {},
     "output_type": "execute_result"
    }
   ],
   "source": [
    "data['Security Deposit'] = data['Security Deposit'].replace('Madrid', np.nan)\n",
    "len(data.loc[data['Security Deposit'] == 'Madrid'])"
   ]
  },
  {
   "cell_type": "code",
   "execution_count": 57,
   "metadata": {},
   "outputs": [
    {
     "data": {
      "text/plain": [
       "716"
      ]
     },
     "execution_count": 57,
     "metadata": {},
     "output_type": "execute_result"
    }
   ],
   "source": [
    "len(data.loc[data['Cleaning Fee'] == 'Madrid'])"
   ]
  },
  {
   "cell_type": "code",
   "execution_count": 58,
   "metadata": {},
   "outputs": [
    {
     "data": {
      "text/plain": [
       "0"
      ]
     },
     "execution_count": 58,
     "metadata": {},
     "output_type": "execute_result"
    }
   ],
   "source": [
    "data['Cleaning Fee'] = data['Cleaning Fee'].replace('Madrid', np.nan)\n",
    "len(data.loc[data['Cleaning Fee'] == 'Madrid'])"
   ]
  },
  {
   "cell_type": "code",
   "execution_count": 59,
   "metadata": {},
   "outputs": [
    {
     "data": {
      "text/plain": [
       "402"
      ]
     },
     "execution_count": 59,
     "metadata": {},
     "output_type": "execute_result"
    }
   ],
   "source": [
    "len(data.loc[data['Review Scores Rating'] == 'Madrid'])"
   ]
  },
  {
   "cell_type": "code",
   "execution_count": 60,
   "metadata": {},
   "outputs": [
    {
     "data": {
      "text/plain": [
       "0"
      ]
     },
     "execution_count": 60,
     "metadata": {},
     "output_type": "execute_result"
    }
   ],
   "source": [
    "data['Review Scores Rating'] = data['Review Scores Rating'].replace('Madrid', np.nan)\n",
    "len(data.loc[data['Review Scores Rating'] == 'Madrid'])"
   ]
  },
  {
   "cell_type": "code",
   "execution_count": 61,
   "metadata": {},
   "outputs": [
    {
     "data": {
      "text/plain": [
       "2140"
      ]
     },
     "execution_count": 61,
     "metadata": {},
     "output_type": "execute_result"
    }
   ],
   "source": [
    "len(data.loc[data['Square Meters'] == 'Madrid'])"
   ]
  },
  {
   "cell_type": "code",
   "execution_count": 62,
   "metadata": {},
   "outputs": [
    {
     "data": {
      "text/plain": [
       "0"
      ]
     },
     "execution_count": 62,
     "metadata": {},
     "output_type": "execute_result"
    }
   ],
   "source": [
    "data['Square Meters'] = data['Square Meters'].replace('Madrid', np.nan)\n",
    "len(data.loc[data['Square Meters'] == 'Madrid'])"
   ]
  },
  {
   "cell_type": "markdown",
   "metadata": {},
   "source": [
    "..a numéricos..."
   ]
  },
  {
   "cell_type": "code",
   "execution_count": 63,
   "metadata": {},
   "outputs": [],
   "source": [
    "data['Bathrooms'] = pd.to_numeric(data['Bathrooms'])\n",
    "data['Bedrooms'] = pd.to_numeric(data['Bedrooms'])\n",
    "data['Price'] = pd.to_numeric(data['Price'])\n",
    "data['Security Deposit'] = pd.to_numeric(data['Security Deposit'])\n",
    "data['Cleaning Fee'] = pd.to_numeric(data['Cleaning Fee'])\n",
    "data['Review Scores Rating'] = pd.to_numeric(data['Review Scores Rating'])\n",
    "data['Square Meters'] = pd.to_numeric(data['Square Meters'])"
   ]
  },
  {
   "cell_type": "markdown",
   "metadata": {},
   "source": [
    "Rellenamos NA's sobre variables en las que entendemos que la ausencia de valores es = 0:"
   ]
  },
  {
   "cell_type": "code",
   "execution_count": 64,
   "metadata": {},
   "outputs": [],
   "source": [
    "data['Review Scores Rating'] = data['Review Scores Rating'].fillna(0)\n",
    "data['Cleaning Fee'] = data['Cleaning Fee'].fillna(0)\n",
    "data['Security Deposit'] = data['Security Deposit'].fillna(0)"
   ]
  },
  {
   "cell_type": "markdown",
   "metadata": {},
   "source": [
    "Y sobre los que entendemos que 0 no es el valor más idóneo para calcular el modelo:"
   ]
  },
  {
   "cell_type": "code",
   "execution_count": 65,
   "metadata": {},
   "outputs": [],
   "source": [
    "data['Square Meters'] = data['Square Meters'].interpolate()\n",
    "data['Bedrooms'] = data['Bedrooms'].interpolate()\n",
    "data['Bathrooms'] = data['Bathrooms'].interpolate()"
   ]
  },
  {
   "cell_type": "code",
   "execution_count": 66,
   "metadata": {},
   "outputs": [
    {
     "data": {
      "text/plain": [
       "True     13146\n",
       "False        2\n",
       "Name: Square Meters, dtype: int64"
      ]
     },
     "execution_count": 66,
     "metadata": {},
     "output_type": "execute_result"
    }
   ],
   "source": [
    "data['Square Meters'].notna().value_counts()"
   ]
  },
  {
   "cell_type": "code",
   "execution_count": 67,
   "metadata": {},
   "outputs": [
    {
     "data": {
      "text/html": [
       "<div>\n",
       "<style scoped>\n",
       "    .dataframe tbody tr th:only-of-type {\n",
       "        vertical-align: middle;\n",
       "    }\n",
       "\n",
       "    .dataframe tbody tr th {\n",
       "        vertical-align: top;\n",
       "    }\n",
       "\n",
       "    .dataframe thead th {\n",
       "        text-align: right;\n",
       "    }\n",
       "</style>\n",
       "<table border=\"1\" class=\"dataframe\">\n",
       "  <thead>\n",
       "    <tr style=\"text-align: right;\">\n",
       "      <th></th>\n",
       "      <th>Name</th>\n",
       "      <th>Neighborhood Overview</th>\n",
       "      <th>Thumbnail Url</th>\n",
       "      <th>Neighbourhood Cleansed</th>\n",
       "      <th>Property Type</th>\n",
       "      <th>Room Type</th>\n",
       "      <th>Accommodates</th>\n",
       "      <th>Bathrooms</th>\n",
       "      <th>Bedrooms</th>\n",
       "      <th>Beds</th>\n",
       "      <th>Amenities</th>\n",
       "      <th>Price</th>\n",
       "      <th>Security Deposit</th>\n",
       "      <th>Cleaning Fee</th>\n",
       "      <th>Extra People</th>\n",
       "      <th>Minimum Nights</th>\n",
       "      <th>Number of Reviews</th>\n",
       "      <th>Review Scores Rating</th>\n",
       "      <th>Square Meters</th>\n",
       "    </tr>\n",
       "  </thead>\n",
       "  <tbody>\n",
       "    <tr>\n",
       "      <th>3</th>\n",
       "      <td>Double room + bathroom - La Latina</td>\n",
       "      <td>La Latina is one of the most famous neighbourh...</td>\n",
       "      <td>https://a0.muscache.com/im/pictures/40713802/3...</td>\n",
       "      <td>Palacio</td>\n",
       "      <td>Apartment</td>\n",
       "      <td>Private room</td>\n",
       "      <td>2</td>\n",
       "      <td>1.0</td>\n",
       "      <td>1.0</td>\n",
       "      <td>1</td>\n",
       "      <td>TV,Internet,Wireless Internet,Kitchen,Doorman,...</td>\n",
       "      <td>36.0</td>\n",
       "      <td>0.0</td>\n",
       "      <td>0.0</td>\n",
       "      <td>0</td>\n",
       "      <td>2</td>\n",
       "      <td>80</td>\n",
       "      <td>98.0</td>\n",
       "      <td>NaN</td>\n",
       "    </tr>\n",
       "    <tr>\n",
       "      <th>4</th>\n",
       "      <td>Ópera/Plz Mayor -- A/C, elevator</td>\n",
       "      <td>The neighborhood is steeped in history and clo...</td>\n",
       "      <td>https://a0.muscache.com/im/pictures/44239584/c...</td>\n",
       "      <td>Palacio</td>\n",
       "      <td>Apartment</td>\n",
       "      <td>Entire home/apt</td>\n",
       "      <td>2</td>\n",
       "      <td>1.0</td>\n",
       "      <td>1.0</td>\n",
       "      <td>1</td>\n",
       "      <td>TV,Wireless Internet,Air conditioning,Kitchen,...</td>\n",
       "      <td>85.0</td>\n",
       "      <td>100.0</td>\n",
       "      <td>30.0</td>\n",
       "      <td>0</td>\n",
       "      <td>3</td>\n",
       "      <td>90</td>\n",
       "      <td>95.0</td>\n",
       "      <td>NaN</td>\n",
       "    </tr>\n",
       "  </tbody>\n",
       "</table>\n",
       "</div>"
      ],
      "text/plain": [
       "                                 Name  \\\n",
       "3  Double room + bathroom - La Latina   \n",
       "4    Ópera/Plz Mayor -- A/C, elevator   \n",
       "\n",
       "                               Neighborhood Overview  \\\n",
       "3  La Latina is one of the most famous neighbourh...   \n",
       "4  The neighborhood is steeped in history and clo...   \n",
       "\n",
       "                                       Thumbnail Url Neighbourhood Cleansed  \\\n",
       "3  https://a0.muscache.com/im/pictures/40713802/3...                Palacio   \n",
       "4  https://a0.muscache.com/im/pictures/44239584/c...                Palacio   \n",
       "\n",
       "  Property Type        Room Type  Accommodates  Bathrooms  Bedrooms Beds  \\\n",
       "3     Apartment     Private room             2        1.0       1.0    1   \n",
       "4     Apartment  Entire home/apt             2        1.0       1.0    1   \n",
       "\n",
       "                                           Amenities  Price  Security Deposit  \\\n",
       "3  TV,Internet,Wireless Internet,Kitchen,Doorman,...   36.0               0.0   \n",
       "4  TV,Wireless Internet,Air conditioning,Kitchen,...   85.0             100.0   \n",
       "\n",
       "   Cleaning Fee  Extra People  Minimum Nights  Number of Reviews  \\\n",
       "3           0.0             0               2                 80   \n",
       "4          30.0             0               3                 90   \n",
       "\n",
       "   Review Scores Rating  Square Meters  \n",
       "3                  98.0            NaN  \n",
       "4                  95.0            NaN  "
      ]
     },
     "execution_count": 67,
     "metadata": {},
     "output_type": "execute_result"
    }
   ],
   "source": [
    "data[data['Square Meters'].isna()]"
   ]
  },
  {
   "cell_type": "markdown",
   "metadata": {},
   "source": [
    "Hay dos NaN en _Square Meters_ , opto por transformarlos a 0, un valor que representa un Outlier y que podré eliminar después."
   ]
  },
  {
   "cell_type": "code",
   "execution_count": 68,
   "metadata": {},
   "outputs": [],
   "source": [
    "data['Square Meters'] = data['Square Meters'].fillna(0)"
   ]
  },
  {
   "cell_type": "code",
   "execution_count": 69,
   "metadata": {},
   "outputs": [
    {
     "data": {
      "text/plain": [
       "True     13140\n",
       "False        8\n",
       "Name: Price, dtype: int64"
      ]
     },
     "execution_count": 69,
     "metadata": {},
     "output_type": "execute_result"
    }
   ],
   "source": [
    "data['Price'].notna().value_counts()"
   ]
  },
  {
   "cell_type": "code",
   "execution_count": 70,
   "metadata": {},
   "outputs": [],
   "source": [
    "data['Price'] = data['Price'].interpolate()"
   ]
  },
  {
   "cell_type": "code",
   "execution_count": 71,
   "metadata": {},
   "outputs": [
    {
     "data": {
      "text/plain": [
       "True    13148\n",
       "Name: Price, dtype: int64"
      ]
     },
     "execution_count": 71,
     "metadata": {},
     "output_type": "execute_result"
    }
   ],
   "source": [
    "data['Price'].notna().value_counts()"
   ]
  },
  {
   "cell_type": "code",
   "execution_count": 72,
   "metadata": {},
   "outputs": [
    {
     "data": {
      "image/png": "[encoded data removed]",
      "text/plain": [
       "<Figure size 432x288 with 1 Axes>"
      ]
     },
     "metadata": {
      "needs_background": "light"
     },
     "output_type": "display_data"
    }
   ],
   "source": [
    "import matplotlib.pyplot as plt\n",
    "data.plot(kind='scatter', x='Accommodates', y='Bedrooms')\n",
    "plt.show()"
   ]
  },
  {
   "cell_type": "markdown",
   "metadata": {},
   "source": [
    "En cierta medida correlacionados, podemos gestionar los outliers de Bedrooms."
   ]
  },
  {
   "cell_type": "code",
   "execution_count": 73,
   "metadata": {},
   "outputs": [],
   "source": [
    "data = data.drop(['Accommodates'],axis=1)"
   ]
  },
  {
   "cell_type": "code",
   "execution_count": 74,
   "metadata": {},
   "outputs": [
    {
     "data": {
      "image/png": "[encoded data removed]",
      "text/plain": [
       "<Figure size 432x288 with 1 Axes>"
      ]
     },
     "metadata": {
      "needs_background": "light"
     },
     "output_type": "display_data"
    }
   ],
   "source": [
    "data.plot(kind='scatter', x='Bedrooms', y='Price')\n",
    "plt.show()"
   ]
  },
  {
   "cell_type": "code",
   "execution_count": 75,
   "metadata": {},
   "outputs": [
    {
     "data": {
      "text/plain": [
       "15"
      ]
     },
     "execution_count": 75,
     "metadata": {},
     "output_type": "execute_result"
    }
   ],
   "source": [
    "data[data['Bedrooms'] >= 7].shape[0]"
   ]
  },
  {
   "cell_type": "code",
   "execution_count": 76,
   "metadata": {},
   "outputs": [],
   "source": [
    "import pandas as pd\n",
    "e = data['Bedrooms'].value_counts().ge(6)\n",
    "data = data.loc[data['Bedrooms'].isin(e[e].index)]"
   ]
  },
  {
   "cell_type": "code",
   "execution_count": 77,
   "metadata": {},
   "outputs": [
    {
     "data": {
      "text/plain": [
       "6"
      ]
     },
     "execution_count": 77,
     "metadata": {},
     "output_type": "execute_result"
    }
   ],
   "source": [
    "data[data['Bedrooms'] >= 7].shape[0]"
   ]
  },
  {
   "cell_type": "code",
   "execution_count": 78,
   "metadata": {},
   "outputs": [],
   "source": [
    "e = data['Bedrooms'].value_counts().ge(10)\n",
    "data = data.loc[data['Bedrooms'].isin(e[e].index)]"
   ]
  },
  {
   "cell_type": "code",
   "execution_count": 79,
   "metadata": {},
   "outputs": [
    {
     "data": {
      "text/plain": [
       "0"
      ]
     },
     "execution_count": 79,
     "metadata": {},
     "output_type": "execute_result"
    }
   ],
   "source": [
    "data[data['Bedrooms'] >= 7].shape[0]"
   ]
  },
  {
   "cell_type": "code",
   "execution_count": 80,
   "metadata": {},
   "outputs": [
    {
     "data": {
      "image/png": "[encoded data removed]",
      "text/plain": [
       "<Figure size 432x288 with 1 Axes>"
      ]
     },
     "metadata": {
      "needs_background": "light"
     },
     "output_type": "display_data"
    }
   ],
   "source": [
    "data.plot(kind='scatter', x='Bedrooms', y='Price')\n",
    "plt.show()"
   ]
  },
  {
   "cell_type": "code",
   "execution_count": 81,
   "metadata": {},
   "outputs": [
    {
     "data": {
      "image/png": "[encoded data removed]",
      "text/plain": [
       "<Figure size 432x288 with 1 Axes>"
      ]
     },
     "metadata": {
      "needs_background": "light"
     },
     "output_type": "display_data"
    }
   ],
   "source": [
    "data.plot(kind='scatter', x='Cleaning Fee', y='Price')\n",
    "plt.show()"
   ]
  },
  {
   "cell_type": "code",
   "execution_count": 82,
   "metadata": {},
   "outputs": [
    {
     "data": {
      "image/png": "[encoded data removed]",
      "text/plain": [
       "<Figure size 432x288 with 1 Axes>"
      ]
     },
     "metadata": {
      "needs_background": "light"
     },
     "output_type": "display_data"
    }
   ],
   "source": [
    "data = data[data['Cleaning Fee'].le(175)]\n",
    "data.plot(kind='scatter', x='Cleaning Fee', y='Price')\n",
    "plt.show()"
   ]
  },
  {
   "cell_type": "code",
   "execution_count": 83,
   "metadata": {},
   "outputs": [
    {
     "data": {
      "image/png": "[encoded data removed]",
      "text/plain": [
       "<Figure size 432x288 with 1 Axes>"
      ]
     },
     "metadata": {
      "needs_background": "light"
     },
     "output_type": "display_data"
    }
   ],
   "source": [
    "data.plot(kind='scatter', x='Neighbourhood Cleansed', y='Price')\n",
    "plt.show()"
   ]
  },
  {
   "cell_type": "code",
   "execution_count": 84,
   "metadata": {},
   "outputs": [
    {
     "data": {
      "image/png": "[encoded data removed]",
      "text/plain": [
       "<Figure size 432x288 with 1 Axes>"
      ]
     },
     "metadata": {
      "needs_background": "light"
     },
     "output_type": "display_data"
    }
   ],
   "source": [
    "data.plot(kind='scatter', x='Bathrooms', y='Price')\n",
    "plt.show()"
   ]
  },
  {
   "cell_type": "code",
   "execution_count": 85,
   "metadata": {},
   "outputs": [
    {
     "data": {
      "image/png": "[encoded data removed]",
      "text/plain": [
       "<Figure size 432x288 with 1 Axes>"
      ]
     },
     "metadata": {
      "needs_background": "light"
     },
     "output_type": "display_data"
    }
   ],
   "source": [
    "data = data[data['Bathrooms'].le(6)]\n",
    "data.plot(kind='scatter', x='Bathrooms', y='Price')\n",
    "plt.show()"
   ]
  },
  {
   "cell_type": "code",
   "execution_count": 86,
   "metadata": {},
   "outputs": [],
   "source": [
    "data = data[data['Security Deposit'].le(600)]"
   ]
  },
  {
   "cell_type": "code",
   "execution_count": 87,
   "metadata": {},
   "outputs": [
    {
     "data": {
      "image/png": "[encoded data removed]",
      "text/plain": [
       "<Figure size 432x288 with 1 Axes>"
      ]
     },
     "metadata": {
      "needs_background": "light"
     },
     "output_type": "display_data"
    }
   ],
   "source": [
    "data.plot(kind='scatter', x='Minimum Nights', y='Price')\n",
    "plt.show()"
   ]
  },
  {
   "cell_type": "code",
   "execution_count": 88,
   "metadata": {},
   "outputs": [],
   "source": [
    "data = data.drop(['Minimum Nights'],axis=1)"
   ]
  },
  {
   "cell_type": "code",
   "execution_count": 89,
   "metadata": {},
   "outputs": [
    {
     "data": {
      "image/png": "[encoded data removed]",
      "text/plain": [
       "<Figure size 432x288 with 1 Axes>"
      ]
     },
     "metadata": {
      "needs_background": "light"
     },
     "output_type": "display_data"
    }
   ],
   "source": [
    "data.plot(kind='scatter', x='Number of Reviews', y='Price')\n",
    "plt.show()"
   ]
  },
  {
   "cell_type": "markdown",
   "metadata": {},
   "source": [
    "Que los precios altos coincidan con 0 o pocas Reviews no es muy coherente."
   ]
  },
  {
   "cell_type": "code",
   "execution_count": 90,
   "metadata": {},
   "outputs": [],
   "source": [
    "data = data.drop(['Number of Reviews'],axis=1)"
   ]
  },
  {
   "cell_type": "code",
   "execution_count": 91,
   "metadata": {},
   "outputs": [
    {
     "data": {
      "image/png": "[encoded data removed]",
      "text/plain": [
       "<Figure size 432x288 with 1 Axes>"
      ]
     },
     "metadata": {
      "needs_background": "light"
     },
     "output_type": "display_data"
    }
   ],
   "source": [
    "data.plot(kind='scatter', x='Review Scores Rating', y='Price')\n",
    "plt.show()"
   ]
  },
  {
   "cell_type": "code",
   "execution_count": 92,
   "metadata": {},
   "outputs": [],
   "source": [
    "data = data.drop(['Review Scores Rating'],axis=1)"
   ]
  },
  {
   "cell_type": "code",
   "execution_count": 93,
   "metadata": {},
   "outputs": [
    {
     "data": {
      "image/png": "[encoded data removed]",
      "text/plain": [
       "<Figure size 432x288 with 1 Axes>"
      ]
     },
     "metadata": {
      "needs_background": "light"
     },
     "output_type": "display_data"
    }
   ],
   "source": [
    "data.plot(kind='scatter', x='Square Meters', y='Price')\n",
    "plt.show()"
   ]
  },
  {
   "cell_type": "markdown",
   "metadata": {},
   "source": [
    "Alojamientos de más de 250 entendemos que son Outliers. Si Ikea decora pisos de hasta 30 metros, entendemos que lo que esté por debajo de eso también es outlier."
   ]
  },
  {
   "cell_type": "code",
   "execution_count": 94,
   "metadata": {},
   "outputs": [
    {
     "data": {
      "image/png": "[encoded data removed]",
      "text/plain": [
       "<Figure size 432x288 with 1 Axes>"
      ]
     },
     "metadata": {
      "needs_background": "light"
     },
     "output_type": "display_data"
    }
   ],
   "source": [
    "data = data[data['Square Meters'].le(250)]\n",
    "data = data[data['Square Meters'].ge(25)]\n",
    "data.plot(kind='scatter', x='Square Meters', y='Price')\n",
    "plt.show()"
   ]
  },
  {
   "cell_type": "code",
   "execution_count": 95,
   "metadata": {},
   "outputs": [
    {
     "data": {
      "text/plain": [
       "(6079, 15)"
      ]
     },
     "execution_count": 95,
     "metadata": {},
     "output_type": "execute_result"
    }
   ],
   "source": [
    "data.shape"
   ]
  },
  {
   "cell_type": "markdown",
   "metadata": {},
   "source": [
    "Con el modelo limpio, es ahora cuando extraemos las url de dos variables, *Thumbnail Url* y *Picture Url*, de manera que podamos decidir posteriormente cuál de ellas es una fuente más óptima para entrenar nuestro modelo."
   ]
  },
  {
   "cell_type": "markdown",
   "metadata": {},
   "source": [
    "**Nota:** En un primer modelo, tomamos las imágenes del dataset antes de tratarlo, pero al limpiar el modelo dejando menos de la mitad de los datos, la lógica nos dice que son las imágenes correspondientes a estos datos ya tratados las que nos aportarían mejores resultados."
   ]
  },
  {
   "cell_type": "markdown",
   "metadata": {},
   "source": [
    "## Preparamos modelo para CNN"
   ]
  },
  {
   "cell_type": "code",
   "execution_count": 96,
   "metadata": {},
   "outputs": [],
   "source": [
    "images_paths = []\n",
    "for i, img_url in enumerate(data['Thumbnail Url']):\n",
    "    images_paths.append([i, img_url])"
   ]
  },
  {
   "cell_type": "code",
   "execution_count": 97,
   "metadata": {},
   "outputs": [
    {
     "data": {
      "text/plain": [
       "6079"
      ]
     },
     "execution_count": 97,
     "metadata": {},
     "output_type": "execute_result"
    }
   ],
   "source": [
    "len(images_paths)"
   ]
  },
  {
   "cell_type": "code",
   "execution_count": 98,
   "metadata": {},
   "outputs": [
    {
     "data": {
      "text/plain": [
       "[[0,\n",
       "  'https://a0.muscache.com/im/pictures/84378550/fa2dbe0d_original.jpg?aki_policy=small'],\n",
       " [1,\n",
       "  'https://a0.muscache.com/im/pictures/be441d1f-4d11-4fbf-86a4-d62c78356d32.jpg?aki_policy=small'],\n",
       " [2,\n",
       "  'https://a0.muscache.com/im/pictures/c232f016-f2cf-45e4-8a1c-2aadaaa44a73.jpg?aki_policy=small'],\n",
       " [3,\n",
       "  'https://a0.muscache.com/im/pictures/90548067/4746f77f_original.jpg?aki_policy=small'],\n",
       " [4,\n",
       "  'https://a0.muscache.com/im/pictures/48573525/acb63e6a_original.jpg?aki_policy=small'],\n",
       " [5,\n",
       "  'https://a0.muscache.com/im/pictures/37148597/483c364b_original.jpg?aki_policy=small'],\n",
       " [6,\n",
       "  'https://a0.muscache.com/im/pictures/5ecdbcc7-9a02-40e2-9801-54c2fbf5dbf4.jpg?aki_policy=small'],\n",
       " [7,\n",
       "  'https://a0.muscache.com/im/pictures/106816640/965e2d19_original.jpg?aki_policy=small'],\n",
       " [8,\n",
       "  'https://a0.muscache.com/im/pictures/15115319/63c16404_original.jpg?aki_policy=small'],\n",
       " [9,\n",
       "  'https://a0.muscache.com/im/pictures/eaf4a298-29a9-4062-9841-8fbe5b1fe162.jpg?aki_policy=small'],\n",
       " [10,\n",
       "  'https://a0.muscache.com/im/pictures/5c5dfe8d-2e8c-4ef2-8c3c-8708d4a69b83.jpg?aki_policy=small'],\n",
       " [11,\n",
       "  'https://a0.muscache.com/im/pictures/420c7033-b107-47b3-990a-e9f48848a8b3.jpg?aki_policy=small'],\n",
       " [12,\n",
       "  'https://a0.muscache.com/im/pictures/c4463299-47aa-42f5-85a6-d9dd691da702.jpg?aki_policy=small'],\n",
       " [13,\n",
       "  'https://a0.muscache.com/im/pictures/ee3b7904-4c80-4b6c-a2b2-3526e7f192ec.jpg?aki_policy=small'],\n",
       " [14,\n",
       "  'https://a0.muscache.com/im/pictures/20cd55c6-49d1-40ae-81b9-f552ef055f28.jpg?aki_policy=small'],\n",
       " [15, nan]]"
      ]
     },
     "execution_count": 98,
     "metadata": {},
     "output_type": "execute_result"
    }
   ],
   "source": [
    "images_paths[:16]"
   ]
  },
  {
   "cell_type": "code",
   "execution_count": 99,
   "metadata": {},
   "outputs": [],
   "source": [
    "import imageio as io\n",
    "import cv2\n",
    "from numpy import moveaxis\n",
    "import PIL.Image\n",
    "\n",
    "# This function downloads the images and returns them with the index where to save them\n",
    "\n",
    "def get_image(data_url, target_size=(224, 224)):\n",
    "    idx, url = data_url\n",
    "    try:\n",
    "        img = io.imread(url)\n",
    "        \n",
    "        # If channles info is in first place, move to last position\n",
    "        if(img.shape[0] < img.shape[1]) and (img.shape[0] < img.shape[2]):\n",
    "            img = moveaxis(img, 0, 2)\n",
    "            \n",
    "        # In case any image is RGBA, take only RGB channels\n",
    "        img = img[:,:,:3]\n",
    "              \n",
    "        # Some images may be in black & white. I convert to to RGB as otherwise it generates error\n",
    "        if img.ndim < 3:\n",
    "            img = cv2.cvtColor(img, cv2.COLOR_GRAY2RGB)\n",
    "        img = cv2.resize(img, dsize=target_size)\n",
    "        return img, idx\n",
    "    except IOError as err:\n",
    "        return (None, idx)"
   ]
  },
  {
   "cell_type": "code",
   "execution_count": 100,
   "metadata": {},
   "outputs": [],
   "source": [
    "import numpy as np\n",
    "\n",
    "# Let's only work with the first 100 samples\n",
    "images_paths = images_paths[:100]\n",
    "\n",
    "\n",
    "# Tensor to save the images\n",
    "loaded_images = np.zeros((len(images_paths), 224, 224, 3), dtype=np.uint8)\n",
    "\n",
    "# Tensor to check whihc images were not saved\n",
    "was_loaded = np.zeros(len(images_paths))"
   ]
  },
  {
   "cell_type": "code",
   "execution_count": 101,
   "metadata": {},
   "outputs": [
    {
     "name": "stdout",
     "output_type": "stream",
     "text": [
      "(100, 224, 224, 3)\n",
      "(100,)\n"
     ]
    }
   ],
   "source": [
    "print(loaded_images.shape)\n",
    "print(was_loaded.shape)"
   ]
  },
  {
   "cell_type": "code",
   "execution_count": 102,
   "metadata": {},
   "outputs": [
    {
     "name": "stderr",
     "output_type": "stream",
     "text": [
      "100%|██████████| 100/100 [00:12<00:00,  7.77it/s]"
     ]
    },
    {
     "name": "stdout",
     "output_type": "stream",
     "text": [
      "Finished!\n",
      "Number of images loaded: 77.0/100\n"
     ]
    },
    {
     "name": "stderr",
     "output_type": "stream",
     "text": [
      "\n"
     ]
    }
   ],
   "source": [
    "import concurrent\n",
    "from tqdm import tqdm\n",
    "\n",
    "# Creating pool to load images. By default, it uses as much cores as your machine has\n",
    "\n",
    "#ProcessPoolExecutor no funcionaba\n",
    "with concurrent.futures.ThreadPoolExecutor(max_workers=1) as executor:\n",
    "    \n",
    "    for (img, idx) in tqdm(executor.map(get_image, images_paths), total=len(images_paths)):\n",
    "\n",
    "        # Loading the images\n",
    "\n",
    "        if img is not None:\n",
    "            loaded_images[idx] = img\n",
    "            was_loaded[idx] = 1\n",
    "        else:\n",
    "            was_loaded[idx] = 0\n",
    "            \n",
    "            \n",
    "print('Finished!')\n",
    "print(f'Number of images loaded: {sum(was_loaded)}/{len(images_paths)}')\n",
    "\n",
    "\n",
    "\n",
    "#def parallel_trees(m, fn, n_jobs=8):\n",
    "#return list(ThreadPoolExecutor(n_jobs).map(fn, m.estimators_))"
   ]
  },
  {
   "cell_type": "code",
   "execution_count": 757,
   "metadata": {},
   "outputs": [
    {
     "data": {
      "text/plain": [
       "array([[[195, 150, 129],\n",
       "        [196, 151, 130],\n",
       "        [197, 152, 131],\n",
       "        ...,\n",
       "        [104,  70,  58],\n",
       "        [103,  69,  57],\n",
       "        [102,  68,  56]],\n",
       "\n",
       "       [[195, 150, 129],\n",
       "        [196, 151, 130],\n",
       "        [197, 152, 131],\n",
       "        ...,\n",
       "        [104,  70,  57],\n",
       "        [103,  69,  57],\n",
       "        [102,  68,  56]],\n",
       "\n",
       "       [[196, 151, 130],\n",
       "        [196, 151, 130],\n",
       "        [197, 152, 131],\n",
       "        ...,\n",
       "        [104,  71,  56],\n",
       "        [103,  69,  57],\n",
       "        [102,  68,  56]],\n",
       "\n",
       "       ...,\n",
       "\n",
       "       [[ 64,  10,  10],\n",
       "        [ 64,  10,  10],\n",
       "        [ 65,  11,  11],\n",
       "        ...,\n",
       "        [ 53,  26,  15],\n",
       "        [ 54,  27,  16],\n",
       "        [ 54,  27,  16]],\n",
       "\n",
       "       [[ 62,  10,   9],\n",
       "        [ 62,  10,   9],\n",
       "        [ 64,  10,  10],\n",
       "        ...,\n",
       "        [ 54,  26,  15],\n",
       "        [ 54,  26,  15],\n",
       "        [ 53,  26,  15]],\n",
       "\n",
       "       [[ 61,  10,   9],\n",
       "        [ 61,  10,   9],\n",
       "        [ 64,  10,  10],\n",
       "        ...,\n",
       "        [ 55,  27,  15],\n",
       "        [ 54,  26,  15],\n",
       "        [ 53,  25,  14]]], dtype=uint8)"
      ]
     },
     "execution_count": 757,
     "metadata": {},
     "output_type": "execute_result"
    }
   ],
   "source": [
    "loaded_images[13]"
   ]
  },
  {
   "cell_type": "code",
   "execution_count": 464,
   "metadata": {},
   "outputs": [],
   "source": [
    "# Saving images. I'd recommend to save this to not repeat this process\n",
    "np.save('images.npy', loaded_images)\n",
    "np.save('was_loaded.npy', was_loaded)"
   ]
  },
  {
   "cell_type": "code",
   "execution_count": 758,
   "metadata": {},
   "outputs": [
    {
     "data": {
      "text/plain": [
       "(77, 224, 224, 3)"
      ]
     },
     "execution_count": 758,
     "metadata": {},
     "output_type": "execute_result"
    }
   ],
   "source": [
    "image_clean = loaded_images[was_loaded == 1]\n",
    "image_clean.shape"
   ]
  },
  {
   "cell_type": "code",
   "execution_count": 759,
   "metadata": {},
   "outputs": [],
   "source": [
    "# Filter rows. Using only the ones with images\n",
    "data_with_imgs = data[:100][was_loaded == 1]"
   ]
  },
  {
   "cell_type": "code",
   "execution_count": 466,
   "metadata": {},
   "outputs": [],
   "source": [
    "data_with_imgs2 = data[:100]#[was_loaded == 1]"
   ]
  },
  {
   "cell_type": "markdown",
   "metadata": {},
   "source": [
    "Desactivo el precio de las imágenes no descargadas."
   ]
  },
  {
   "cell_type": "code",
   "execution_count": 691,
   "metadata": {},
   "outputs": [
    {
     "name": "stderr",
     "output_type": "stream",
     "text": [
      "/Users/jotaemeguzman/opt/anaconda3/lib/python3.7/site-packages/ipykernel_launcher.py:1: SettingWithCopyWarning: \n",
      "A value is trying to be set on a copy of a slice from a DataFrame\n",
      "\n",
      "See the caveats in the documentation: https://pandas.pydata.org/pandas-docs/stable/user_guide/indexing.html#returning-a-view-versus-a-copy\n",
      "  \"\"\"Entry point for launching an IPython kernel.\n",
      "/Users/jotaemeguzman/opt/anaconda3/lib/python3.7/site-packages/pandas/core/generic.py:8767: SettingWithCopyWarning: \n",
      "A value is trying to be set on a copy of a slice from a DataFrame\n",
      "\n",
      "See the caveats in the documentation: https://pandas.pydata.org/pandas-docs/stable/user_guide/indexing.html#returning-a-view-versus-a-copy\n",
      "  self._update_inplace(new_data)\n"
     ]
    }
   ],
   "source": [
    "data_with_imgs2['Price'][was_loaded == 0] = 0 #np.nan\n"
   ]
  },
  {
   "cell_type": "code",
   "execution_count": 760,
   "metadata": {},
   "outputs": [
    {
     "data": {
      "text/plain": [
       "False    77\n",
       "Name: Price, dtype: int64"
      ]
     },
     "execution_count": 760,
     "metadata": {},
     "output_type": "execute_result"
    }
   ],
   "source": [
    "data_with_imgs['Price'].isna().value_counts()"
   ]
  },
  {
   "cell_type": "code",
   "execution_count": 762,
   "metadata": {},
   "outputs": [
    {
     "data": {
      "text/plain": [
       "77"
      ]
     },
     "execution_count": 762,
     "metadata": {},
     "output_type": "execute_result"
    }
   ],
   "source": [
    "len(data_with_imgs)"
   ]
  },
  {
   "cell_type": "code",
   "execution_count": 763,
   "metadata": {},
   "outputs": [
    {
     "data": {
      "text/plain": [
       "77"
      ]
     },
     "execution_count": 763,
     "metadata": {},
     "output_type": "execute_result"
    }
   ],
   "source": [
    "len(image_clean)"
   ]
  },
  {
   "cell_type": "code",
   "execution_count": 764,
   "metadata": {},
   "outputs": [],
   "source": [
    "# Select what will be our label\n",
    "y_reg = np.array(data_with_imgs['Price'])#.astype(int)"
   ]
  },
  {
   "cell_type": "code",
   "execution_count": 765,
   "metadata": {},
   "outputs": [
    {
     "data": {
      "image/png": "[encoded data removed]",
      "text/plain": [
       "<Figure size 432x288 with 1 Axes>"
      ]
     },
     "metadata": {
      "needs_background": "light"
     },
     "output_type": "display_data"
    }
   ],
   "source": [
    "# Plotting the labels\n",
    "import matplotlib.pyplot as plt\n",
    "plt.hist(y_reg, bins=10)\n",
    "plt.show()"
   ]
  },
  {
   "cell_type": "code",
   "execution_count": 766,
   "metadata": {},
   "outputs": [],
   "source": [
    "# Create a range to convert this to a classification task.\n",
    "# For instance, from 1 to 3: Cheap, affordable, Expensive\n",
    "\n",
    "y_class = []\n",
    "for x in y_reg:\n",
    "    # Cheap\n",
    "    if x <= 50:\n",
    "        y_class.append(0)\n",
    "    # affordable\n",
    "    elif x <=150:\n",
    "        y_class.append(1)\n",
    "    # Expensive\n",
    "    else:\n",
    "        y_class.append(2)"
   ]
  },
  {
   "cell_type": "code",
   "execution_count": 767,
   "metadata": {},
   "outputs": [
    {
     "data": {
      "image/png": "[encoded data removed]",
      "text/plain": [
       "<Figure size 432x288 with 1 Axes>"
      ]
     },
     "metadata": {
      "needs_background": "light"
     },
     "output_type": "display_data"
    }
   ],
   "source": [
    "# Let's plot the new labels\n",
    "plt.hist(y_class, bins=3)\n",
    "plt.show()"
   ]
  },
  {
   "cell_type": "code",
   "execution_count": 768,
   "metadata": {},
   "outputs": [],
   "source": [
    "#y_class"
   ]
  },
  {
   "cell_type": "code",
   "execution_count": 773,
   "metadata": {},
   "outputs": [
    {
     "data": {
      "text/plain": [
       "<matplotlib.image.AxesImage at 0x7fd4831c8d50>"
      ]
     },
     "execution_count": 773,
     "metadata": {},
     "output_type": "execute_result"
    },
    {
     "data": {
      "image/png": "[encoded data removed]",
      "text/plain": [
       "<Figure size 432x288 with 1 Axes>"
      ]
     },
     "metadata": {
      "needs_background": "light"
     },
     "output_type": "display_data"
    }
   ],
   "source": [
    "index = 0\n",
    "plt.imshow(image_clean[index])"
   ]
  },
  {
   "cell_type": "code",
   "execution_count": 774,
   "metadata": {},
   "outputs": [
    {
     "data": {
      "text/plain": [
       "(100,)"
      ]
     },
     "execution_count": 774,
     "metadata": {},
     "output_type": "execute_result"
    }
   ],
   "source": [
    "was_loaded.shape"
   ]
  },
  {
   "cell_type": "code",
   "execution_count": 775,
   "metadata": {},
   "outputs": [],
   "source": [
    "X_train_orig, X_test_orig = train_test_split(image_clean, test_size=0.2, shuffle=True, random_state=0)"
   ]
  },
  {
   "cell_type": "code",
   "execution_count": 776,
   "metadata": {},
   "outputs": [],
   "source": [
    "Y_train_orig, Y_test_orig = train_test_split(y_reg, test_size=0.2, shuffle=True, random_state=0)"
   ]
  },
  {
   "cell_type": "code",
   "execution_count": 777,
   "metadata": {},
   "outputs": [],
   "source": [
    "Y_train_orig = np.array(Y_train_orig)\n",
    "Y_test_orig = np.array(Y_test_orig)"
   ]
  },
  {
   "cell_type": "code",
   "execution_count": 778,
   "metadata": {},
   "outputs": [
    {
     "data": {
      "text/plain": [
       "61"
      ]
     },
     "execution_count": 778,
     "metadata": {},
     "output_type": "execute_result"
    }
   ],
   "source": [
    "len(Y_train_orig)"
   ]
  },
  {
   "cell_type": "code",
   "execution_count": 779,
   "metadata": {},
   "outputs": [],
   "source": [
    "Y_train_orig = np.expand_dims(Y_train_orig, axis=1)#.astype(int)\n",
    "Y_test_orig = np.expand_dims(Y_test_orig, axis=1)#.astype(int)\n",
    "\n",
    "#Y_train_orig.shape"
   ]
  },
  {
   "cell_type": "code",
   "execution_count": 780,
   "metadata": {},
   "outputs": [],
   "source": [
    "def convert_to_one_hot(Y, C):\n",
    "    Y = np.eye(C)[Y.reshape(-1)].T\n",
    "    return Y"
   ]
  },
  {
   "cell_type": "code",
   "execution_count": 846,
   "metadata": {},
   "outputs": [
    {
     "name": "stdout",
     "output_type": "stream",
     "text": [
      "number of training examples = 61\n",
      "number of test examples = 16\n",
      "X_train shape: (61, 224, 224, 3)\n",
      "Y_train shape: (61, 1)\n",
      "X_test shape: (16, 224, 224, 3)\n",
      "Y_test shape: (16, 1)\n"
     ]
    }
   ],
   "source": [
    "X_train = X_train_orig/255.\n",
    "X_test = X_test_orig/255.\n",
    "#Y_train_orig = np.array(Y_train_orig)\n",
    "#Y_test_orig = np.array(Y_test_orig)\n",
    "#Y_train = convert_to_one_hot(Y_train_orig, 0).T#.reshape(Y_train_orig[0],1).T\n",
    "#Y_test = convert_to_one_hot(Y_test_orig, 0).T#.reshape(Y_test_orig,1).T\n",
    "Y_train = tf.stack(Y_train_orig)\n",
    "Y_test = tf.stack(Y_test_orig)\n",
    "print (\"number of training examples = \" + str(X_train.shape[0]))\n",
    "print (\"number of test examples = \" + str(X_test.shape[0]))\n",
    "print (\"X_train shape: \" + str(X_train.shape))\n",
    "print (\"Y_train shape: \" + str(Y_train.shape))\n",
    "print (\"X_test shape: \" + str(X_test.shape))\n",
    "print (\"Y_test shape: \" + str(Y_test.shape))\n",
    "conv_layers = {}\n",
    "\n"
   ]
  },
  {
   "cell_type": "code",
   "execution_count": 847,
   "metadata": {},
   "outputs": [],
   "source": [
    "#X_train = X_train.reshape((X_train.shape[0],224, 224, 3))\n",
    "#X_test = X_test.reshape((X_test.shape[0],224, 224, 3))"
   ]
  },
  {
   "cell_type": "code",
   "execution_count": 848,
   "metadata": {},
   "outputs": [
    {
     "name": "stdout",
     "output_type": "stream",
     "text": [
      "(61, 224, 224, 3)\n",
      "(61, 1)\n"
     ]
    }
   ],
   "source": [
    "print(X_train.shape)\n",
    "print(Y_train.shape)\n"
   ]
  },
  {
   "cell_type": "code",
   "execution_count": 849,
   "metadata": {},
   "outputs": [],
   "source": [
    "#Y_train = np.array(Y_train)#.reshape(Y_train[0], 3)\n",
    "#Y_test = np.array(Y_test)#.reshape(Y_train[0], 3)\n",
    "#Y_train = to_categorical(Y_train)\n",
    "#Y_test = to_categorical(Y_test)"
   ]
  },
  {
   "cell_type": "code",
   "execution_count": 850,
   "metadata": {},
   "outputs": [],
   "source": [
    "#print(Y_train)"
   ]
  },
  {
   "cell_type": "markdown",
   "metadata": {},
   "source": [
    "- Capa de salida _1_ con activación _linear_"
   ]
  },
  {
   "cell_type": "code",
   "execution_count": 862,
   "metadata": {},
   "outputs": [],
   "source": [
    "def create_classical_model():\n",
    "    # A simple model based off LeNet from https://keras.io/examples/mnist_cnn/\n",
    "    model = tf.keras.Sequential()\n",
    "    model.add(tf.keras.layers.Conv2D(16, [3, 3], padding=\"same\", activation='relu', input_shape=(224, 224, 3)))\n",
    "    model.add(tf.keras.layers.BatchNormalization(axis=-1))\n",
    "    model.add(tf.keras.layers.MaxPooling2D(pool_size=(2, 2))) #No es necesario aplicar pool size\n",
    "    model.add(tf.keras.layers.Conv2D(32, [3, 3], padding=\"same\", activation='relu', input_shape=(224, 224, 3)))\n",
    "    model.add(tf.keras.layers.BatchNormalization(axis=-1))\n",
    "    model.add(tf.keras.layers.MaxPooling2D(pool_size=(2, 2))) #No es necesario aplicar pool size\n",
    "    model.add(tf.keras.layers.Conv2D(64, [3, 3], padding=\"same\", activation='relu', input_shape=(224, 224, 3)))\n",
    "    model.add(tf.keras.layers.BatchNormalization(axis=-1))\n",
    "    model.add(tf.keras.layers.MaxPooling2D(pool_size=(2, 2))) #No es necesario aplicar pool size\n",
    "    #model.add(tf.keras.layers.Dropout(0.25)) #Numero de filtros que quiero apagar\n",
    "    #model.add(tf.keras.layers.Conv2D(20, [3, 3], activation='relu', input_shape=(224, 224, 3)))\n",
    "    #model.add(tf.keras.layers.MaxPooling2D(pool_size=(2, 2)))    \n",
    "    model.add(tf.keras.layers.Flatten())  # Salida vector\n",
    "    model.add(tf.keras.layers.Dense(16, activation='relu')) # Después del flatten FC\n",
    "    model.add(tf.keras.layers.BatchNormalization(axis=-1))\n",
    "    model.add(tf.keras.layers.Dropout(0.5))  # Es la recomendación tras FC\n",
    "    model.add(tf.keras.layers.Dense(1, activation=\"linear\")) #Regresión\n",
    "    return model"
   ]
  },
  {
   "cell_type": "code",
   "execution_count": null,
   "metadata": {},
   "outputs": [],
   "source": []
  },
  {
   "cell_type": "code",
   "execution_count": 863,
   "metadata": {},
   "outputs": [],
   "source": [
    "model = create_classical_model()"
   ]
  },
  {
   "cell_type": "code",
   "execution_count": 864,
   "metadata": {},
   "outputs": [
    {
     "name": "stdout",
     "output_type": "stream",
     "text": [
      "Model: \"sequential_31\"\n",
      "_________________________________________________________________\n",
      "Layer (type)                 Output Shape              Param #   \n",
      "=================================================================\n",
      "conv2d_37 (Conv2D)           (None, 224, 224, 16)      448       \n",
      "_________________________________________________________________\n",
      "batch_normalization (BatchNo (None, 224, 224, 16)      64        \n",
      "_________________________________________________________________\n",
      "max_pooling2d_34 (MaxPooling (None, 112, 112, 16)      0         \n",
      "_________________________________________________________________\n",
      "conv2d_38 (Conv2D)           (None, 112, 112, 32)      4640      \n",
      "_________________________________________________________________\n",
      "batch_normalization_1 (Batch (None, 112, 112, 32)      128       \n",
      "_________________________________________________________________\n",
      "max_pooling2d_35 (MaxPooling (None, 56, 56, 32)        0         \n",
      "_________________________________________________________________\n",
      "conv2d_39 (Conv2D)           (None, 56, 56, 64)        18496     \n",
      "_________________________________________________________________\n",
      "batch_normalization_2 (Batch (None, 56, 56, 64)        256       \n",
      "_________________________________________________________________\n",
      "max_pooling2d_36 (MaxPooling (None, 28, 28, 64)        0         \n",
      "_________________________________________________________________\n",
      "flatten_30 (Flatten)         (None, 50176)             0         \n",
      "_________________________________________________________________\n",
      "dense_60 (Dense)             (None, 16)                802832    \n",
      "_________________________________________________________________\n",
      "batch_normalization_3 (Batch (None, 16)                64        \n",
      "_________________________________________________________________\n",
      "dropout_59 (Dropout)         (None, 16)                0         \n",
      "_________________________________________________________________\n",
      "dense_61 (Dense)             (None, 1)                 17        \n",
      "=================================================================\n",
      "Total params: 826,945\n",
      "Trainable params: 826,689\n",
      "Non-trainable params: 256\n",
      "_________________________________________________________________\n"
     ]
    }
   ],
   "source": [
    "model.compile(loss='mean_absolute_percentage_error',\n",
    "              optimizer=tf.keras.optimizers.Adam(),\n",
    "              metrics=['accuracy'])\n",
    " \n",
    "model.summary()"
   ]
  },
  {
   "cell_type": "markdown",
   "metadata": {},
   "source": [
    "- _batch_size_ en _1_ para coger todo el _batch_ al tratarse de un dataset limitado."
   ]
  },
  {
   "cell_type": "code",
   "execution_count": 867,
   "metadata": {},
   "outputs": [
    {
     "name": "stdout",
     "output_type": "stream",
     "text": [
      "Epoch 1/100\n",
      "7/7 [==============================] - 1s 183ms/step - loss: 80.8597 - accuracy: 0.0000e+00 - val_loss: 83.8522 - val_accuracy: 0.0000e+00\n",
      "Epoch 2/100\n",
      "7/7 [==============================] - 1s 167ms/step - loss: 80.9900 - accuracy: 0.0000e+00 - val_loss: 84.4974 - val_accuracy: 0.0000e+00\n",
      "Epoch 3/100\n",
      "7/7 [==============================] - 1s 169ms/step - loss: 80.1862 - accuracy: 0.0000e+00 - val_loss: 66.7154 - val_accuracy: 0.0000e+00\n",
      "Epoch 4/100\n",
      "7/7 [==============================] - 1s 166ms/step - loss: 79.7241 - accuracy: 0.0000e+00 - val_loss: 62.3070 - val_accuracy: 0.0000e+00\n",
      "Epoch 5/100\n",
      "7/7 [==============================] - 1s 164ms/step - loss: 82.8880 - accuracy: 0.0000e+00 - val_loss: 69.1089 - val_accuracy: 0.0000e+00\n",
      "Epoch 6/100\n",
      "7/7 [==============================] - 1s 168ms/step - loss: 78.5396 - accuracy: 0.0000e+00 - val_loss: 91.1185 - val_accuracy: 0.0000e+00\n",
      "Epoch 7/100\n",
      "7/7 [==============================] - 1s 164ms/step - loss: 76.6008 - accuracy: 0.0000e+00 - val_loss: 91.9056 - val_accuracy: 0.0000e+00\n",
      "Epoch 8/100\n",
      "7/7 [==============================] - 1s 165ms/step - loss: 78.0206 - accuracy: 0.0000e+00 - val_loss: 108.8184 - val_accuracy: 0.0000e+00\n",
      "Epoch 9/100\n",
      "7/7 [==============================] - 1s 167ms/step - loss: 77.2182 - accuracy: 0.0000e+00 - val_loss: 121.4549 - val_accuracy: 0.0000e+00\n",
      "Epoch 10/100\n",
      "7/7 [==============================] - 1s 169ms/step - loss: 78.8647 - accuracy: 0.0000e+00 - val_loss: 140.9251 - val_accuracy: 0.0000e+00\n",
      "Epoch 11/100\n",
      "7/7 [==============================] - 1s 167ms/step - loss: 79.8590 - accuracy: 0.0000e+00 - val_loss: 116.2543 - val_accuracy: 0.0000e+00\n",
      "Epoch 12/100\n",
      "7/7 [==============================] - 1s 165ms/step - loss: 76.5168 - accuracy: 0.0000e+00 - val_loss: 98.5993 - val_accuracy: 0.0000e+00\n",
      "Epoch 13/100\n",
      "7/7 [==============================] - 1s 168ms/step - loss: 77.1306 - accuracy: 0.0000e+00 - val_loss: 98.2541 - val_accuracy: 0.0000e+00\n",
      "Epoch 14/100\n",
      "7/7 [==============================] - 1s 183ms/step - loss: 75.8843 - accuracy: 0.0000e+00 - val_loss: 87.9040 - val_accuracy: 0.0000e+00\n",
      "Epoch 15/100\n",
      "7/7 [==============================] - 1s 170ms/step - loss: 75.4020 - accuracy: 0.0000e+00 - val_loss: 74.4854 - val_accuracy: 0.0000e+00\n",
      "Epoch 16/100\n",
      "7/7 [==============================] - 1s 188ms/step - loss: 75.2570 - accuracy: 0.0000e+00 - val_loss: 76.2282 - val_accuracy: 0.0000e+00\n",
      "Epoch 17/100\n",
      "7/7 [==============================] - 1s 185ms/step - loss: 74.7951 - accuracy: 0.0000e+00 - val_loss: 76.1377 - val_accuracy: 0.0000e+00\n",
      "Epoch 18/100\n",
      "7/7 [==============================] - 1s 171ms/step - loss: 75.4777 - accuracy: 0.0000e+00 - val_loss: 77.2921 - val_accuracy: 0.0000e+00\n",
      "Epoch 19/100\n",
      "7/7 [==============================] - 1s 183ms/step - loss: 75.5037 - accuracy: 0.0000e+00 - val_loss: 70.5416 - val_accuracy: 0.0000e+00\n",
      "Epoch 20/100\n",
      "7/7 [==============================] - 1s 170ms/step - loss: 71.1682 - accuracy: 0.0000e+00 - val_loss: 69.9843 - val_accuracy: 0.0000e+00\n",
      "Epoch 21/100\n",
      "7/7 [==============================] - 1s 168ms/step - loss: 72.5831 - accuracy: 0.0000e+00 - val_loss: 69.4202 - val_accuracy: 0.0000e+00\n",
      "Epoch 22/100\n",
      "7/7 [==============================] - 1s 168ms/step - loss: 73.6638 - accuracy: 0.0000e+00 - val_loss: 68.7705 - val_accuracy: 0.0000e+00\n",
      "Epoch 23/100\n",
      "7/7 [==============================] - 1s 166ms/step - loss: 70.8417 - accuracy: 0.0000e+00 - val_loss: 68.3727 - val_accuracy: 0.0000e+00\n",
      "Epoch 24/100\n",
      "7/7 [==============================] - 1s 174ms/step - loss: 70.2902 - accuracy: 0.0000e+00 - val_loss: 65.5761 - val_accuracy: 0.0000e+00\n",
      "Epoch 25/100\n",
      "7/7 [==============================] - 2s 237ms/step - loss: 72.1531 - accuracy: 0.0000e+00 - val_loss: 65.0325 - val_accuracy: 0.0000e+00\n",
      "Epoch 26/100\n",
      "7/7 [==============================] - 1s 204ms/step - loss: 70.4079 - accuracy: 0.0000e+00 - val_loss: 66.3973 - val_accuracy: 0.0000e+00\n",
      "Epoch 27/100\n",
      "7/7 [==============================] - 1s 172ms/step - loss: 68.8699 - accuracy: 0.0000e+00 - val_loss: 66.7860 - val_accuracy: 0.0000e+00\n",
      "Epoch 28/100\n",
      "7/7 [==============================] - 1s 170ms/step - loss: 69.8790 - accuracy: 0.0000e+00 - val_loss: 67.5604 - val_accuracy: 0.0000e+00\n",
      "Epoch 29/100\n",
      "7/7 [==============================] - 1s 172ms/step - loss: 69.0431 - accuracy: 0.0000e+00 - val_loss: 68.7657 - val_accuracy: 0.0000e+00\n",
      "Epoch 30/100\n",
      "7/7 [==============================] - 1s 173ms/step - loss: 69.8416 - accuracy: 0.0000e+00 - val_loss: 76.7604 - val_accuracy: 0.0000e+00\n",
      "Epoch 31/100\n",
      "7/7 [==============================] - 1s 195ms/step - loss: 68.7590 - accuracy: 0.0000e+00 - val_loss: 83.9710 - val_accuracy: 0.0000e+00\n",
      "Epoch 32/100\n",
      "7/7 [==============================] - 1s 182ms/step - loss: 69.6321 - accuracy: 0.0000e+00 - val_loss: 79.1989 - val_accuracy: 0.0000e+00\n",
      "Epoch 33/100\n",
      "7/7 [==============================] - 1s 194ms/step - loss: 71.5073 - accuracy: 0.0000e+00 - val_loss: 73.6287 - val_accuracy: 0.0000e+00\n",
      "Epoch 34/100\n",
      "7/7 [==============================] - 1s 172ms/step - loss: 68.3147 - accuracy: 0.0000e+00 - val_loss: 68.8989 - val_accuracy: 0.0000e+00\n",
      "Epoch 35/100\n",
      "7/7 [==============================] - 1s 179ms/step - loss: 67.1724 - accuracy: 0.0000e+00 - val_loss: 68.2234 - val_accuracy: 0.0000e+00\n",
      "Epoch 36/100\n",
      "7/7 [==============================] - 1s 168ms/step - loss: 69.3991 - accuracy: 0.0000e+00 - val_loss: 66.1889 - val_accuracy: 0.0000e+00\n",
      "Epoch 37/100\n",
      "7/7 [==============================] - 1s 168ms/step - loss: 69.2765 - accuracy: 0.0000e+00 - val_loss: 63.9832 - val_accuracy: 0.0000e+00\n",
      "Epoch 38/100\n",
      "7/7 [==============================] - 1s 167ms/step - loss: 68.1871 - accuracy: 0.0000e+00 - val_loss: 63.0896 - val_accuracy: 0.0000e+00\n",
      "Epoch 39/100\n",
      "7/7 [==============================] - 1s 162ms/step - loss: 67.6934 - accuracy: 0.0000e+00 - val_loss: 63.2913 - val_accuracy: 0.0000e+00\n",
      "Epoch 40/100\n",
      "7/7 [==============================] - 1s 172ms/step - loss: 65.8170 - accuracy: 0.0000e+00 - val_loss: 63.5817 - val_accuracy: 0.0000e+00\n",
      "Epoch 41/100\n",
      "7/7 [==============================] - 1s 170ms/step - loss: 67.6412 - accuracy: 0.0000e+00 - val_loss: 63.4616 - val_accuracy: 0.0000e+00\n",
      "Epoch 42/100\n",
      "7/7 [==============================] - 1s 182ms/step - loss: 65.7538 - accuracy: 0.0000e+00 - val_loss: 64.6684 - val_accuracy: 0.0000e+00\n",
      "Epoch 43/100\n",
      "7/7 [==============================] - 1s 168ms/step - loss: 66.3415 - accuracy: 0.0000e+00 - val_loss: 66.1434 - val_accuracy: 0.0000e+00\n",
      "Epoch 44/100\n",
      "7/7 [==============================] - 1s 177ms/step - loss: 69.1383 - accuracy: 0.0000e+00 - val_loss: 65.3671 - val_accuracy: 0.0000e+00\n",
      "Epoch 45/100\n",
      "7/7 [==============================] - 1s 186ms/step - loss: 65.6868 - accuracy: 0.0000e+00 - val_loss: 65.4212 - val_accuracy: 0.0000e+00\n",
      "Epoch 46/100\n",
      "7/7 [==============================] - 1s 175ms/step - loss: 67.5575 - accuracy: 0.0000e+00 - val_loss: 65.5154 - val_accuracy: 0.0000e+00\n",
      "Epoch 47/100\n",
      "7/7 [==============================] - 1s 177ms/step - loss: 64.6763 - accuracy: 0.0000e+00 - val_loss: 65.8533 - val_accuracy: 0.0000e+00\n",
      "Epoch 48/100\n",
      "7/7 [==============================] - 1s 172ms/step - loss: 63.4343 - accuracy: 0.0000e+00 - val_loss: 68.5409 - val_accuracy: 0.0000e+00\n",
      "Epoch 49/100\n",
      "7/7 [==============================] - 1s 184ms/step - loss: 63.3500 - accuracy: 0.0000e+00 - val_loss: 72.7882 - val_accuracy: 0.0000e+00\n",
      "Epoch 50/100\n",
      "7/7 [==============================] - 1s 192ms/step - loss: 66.6187 - accuracy: 0.0000e+00 - val_loss: 75.0579 - val_accuracy: 0.0000e+00\n",
      "Epoch 51/100\n",
      "7/7 [==============================] - 1s 174ms/step - loss: 62.4543 - accuracy: 0.0000e+00 - val_loss: 72.5193 - val_accuracy: 0.0000e+00\n",
      "Epoch 52/100\n",
      "7/7 [==============================] - 1s 177ms/step - loss: 66.4223 - accuracy: 0.0000e+00 - val_loss: 71.9992 - val_accuracy: 0.0000e+00\n",
      "Epoch 53/100\n",
      "7/7 [==============================] - 1s 168ms/step - loss: 63.2170 - accuracy: 0.0000e+00 - val_loss: 69.6980 - val_accuracy: 0.0000e+00\n",
      "Epoch 54/100\n",
      "7/7 [==============================] - 1s 184ms/step - loss: 64.2102 - accuracy: 0.0000e+00 - val_loss: 68.7771 - val_accuracy: 0.0000e+00\n"
     ]
    },
    {
     "name": "stdout",
     "output_type": "stream",
     "text": [
      "Epoch 55/100\n",
      "7/7 [==============================] - 1s 179ms/step - loss: 60.1214 - accuracy: 0.0000e+00 - val_loss: 73.1069 - val_accuracy: 0.0000e+00\n",
      "Epoch 56/100\n",
      "7/7 [==============================] - 1s 182ms/step - loss: 61.8441 - accuracy: 0.0000e+00 - val_loss: 71.9599 - val_accuracy: 0.0000e+00\n",
      "Epoch 57/100\n",
      "7/7 [==============================] - 1s 182ms/step - loss: 59.4648 - accuracy: 0.0000e+00 - val_loss: 71.0022 - val_accuracy: 0.0000e+00\n",
      "Epoch 58/100\n",
      "7/7 [==============================] - 1s 179ms/step - loss: 61.7052 - accuracy: 0.0000e+00 - val_loss: 71.0301 - val_accuracy: 0.0000e+00\n",
      "Epoch 59/100\n",
      "7/7 [==============================] - 1s 192ms/step - loss: 61.6398 - accuracy: 0.0000e+00 - val_loss: 71.1541 - val_accuracy: 0.0000e+00\n",
      "Epoch 60/100\n",
      "7/7 [==============================] - 1s 174ms/step - loss: 60.0178 - accuracy: 0.0000e+00 - val_loss: 70.7417 - val_accuracy: 0.0000e+00\n",
      "Epoch 61/100\n",
      "7/7 [==============================] - 1s 176ms/step - loss: 62.6835 - accuracy: 0.0000e+00 - val_loss: 67.4531 - val_accuracy: 0.0000e+00\n",
      "Epoch 62/100\n",
      "7/7 [==============================] - 1s 175ms/step - loss: 58.6025 - accuracy: 0.0000e+00 - val_loss: 65.9388 - val_accuracy: 0.0000e+00\n",
      "Epoch 63/100\n",
      "7/7 [==============================] - 1s 201ms/step - loss: 63.0638 - accuracy: 0.0000e+00 - val_loss: 65.0370 - val_accuracy: 0.0000e+00\n",
      "Epoch 64/100\n",
      "7/7 [==============================] - 1s 193ms/step - loss: 59.1306 - accuracy: 0.0000e+00 - val_loss: 64.4076 - val_accuracy: 0.0000e+00\n",
      "Epoch 65/100\n",
      "7/7 [==============================] - 1s 181ms/step - loss: 59.9280 - accuracy: 0.0000e+00 - val_loss: 64.7396 - val_accuracy: 0.0000e+00\n",
      "Epoch 66/100\n",
      "7/7 [==============================] - 1s 182ms/step - loss: 61.3324 - accuracy: 0.0000e+00 - val_loss: 66.7892 - val_accuracy: 0.0000e+00\n",
      "Epoch 67/100\n",
      "7/7 [==============================] - 1s 175ms/step - loss: 60.2787 - accuracy: 0.0000e+00 - val_loss: 67.3906 - val_accuracy: 0.0000e+00\n",
      "Epoch 68/100\n",
      "7/7 [==============================] - 1s 165ms/step - loss: 58.9028 - accuracy: 0.0000e+00 - val_loss: 67.9789 - val_accuracy: 0.0000e+00\n",
      "Epoch 69/100\n",
      "7/7 [==============================] - 1s 184ms/step - loss: 56.7932 - accuracy: 0.0000e+00 - val_loss: 67.9383 - val_accuracy: 0.0000e+00\n",
      "Epoch 70/100\n",
      "7/7 [==============================] - 1s 181ms/step - loss: 59.2320 - accuracy: 0.0000e+00 - val_loss: 68.0894 - val_accuracy: 0.0000e+00\n",
      "Epoch 71/100\n",
      "7/7 [==============================] - 1s 178ms/step - loss: 58.1493 - accuracy: 0.0000e+00 - val_loss: 68.3365 - val_accuracy: 0.0000e+00\n",
      "Epoch 72/100\n",
      "7/7 [==============================] - 1s 172ms/step - loss: 58.7377 - accuracy: 0.0000e+00 - val_loss: 68.2421 - val_accuracy: 0.0000e+00\n",
      "Epoch 73/100\n",
      "7/7 [==============================] - 1s 174ms/step - loss: 61.3161 - accuracy: 0.0000e+00 - val_loss: 67.7547 - val_accuracy: 0.0000e+00\n",
      "Epoch 74/100\n",
      "7/7 [==============================] - 1s 172ms/step - loss: 59.0081 - accuracy: 0.0000e+00 - val_loss: 68.0608 - val_accuracy: 0.0000e+00\n",
      "Epoch 75/100\n",
      "7/7 [==============================] - 1s 173ms/step - loss: 54.6242 - accuracy: 0.0000e+00 - val_loss: 66.9077 - val_accuracy: 0.0000e+00\n",
      "Epoch 76/100\n",
      "7/7 [==============================] - 1s 169ms/step - loss: 55.6639 - accuracy: 0.0000e+00 - val_loss: 65.5113 - val_accuracy: 0.0000e+00\n",
      "Epoch 77/100\n",
      "7/7 [==============================] - 1s 171ms/step - loss: 56.0280 - accuracy: 0.0000e+00 - val_loss: 64.8131 - val_accuracy: 0.0000e+00\n",
      "Epoch 78/100\n",
      "7/7 [==============================] - 1s 170ms/step - loss: 60.7269 - accuracy: 0.0000e+00 - val_loss: 63.4499 - val_accuracy: 0.0000e+00\n",
      "Epoch 79/100\n",
      "7/7 [==============================] - 1s 173ms/step - loss: 59.1556 - accuracy: 0.0000e+00 - val_loss: 62.2917 - val_accuracy: 0.0000e+00\n",
      "Epoch 80/100\n",
      "7/7 [==============================] - 1s 166ms/step - loss: 58.0733 - accuracy: 0.0000e+00 - val_loss: 61.3626 - val_accuracy: 0.0000e+00\n",
      "Epoch 81/100\n",
      "7/7 [==============================] - 1s 175ms/step - loss: 56.0891 - accuracy: 0.0000e+00 - val_loss: 60.2912 - val_accuracy: 0.0000e+00\n",
      "Epoch 82/100\n",
      "7/7 [==============================] - 1s 178ms/step - loss: 55.6531 - accuracy: 0.0000e+00 - val_loss: 59.1955 - val_accuracy: 0.0000e+00\n",
      "Epoch 83/100\n",
      "7/7 [==============================] - 1s 183ms/step - loss: 52.8814 - accuracy: 0.0000e+00 - val_loss: 58.5798 - val_accuracy: 0.0000e+00\n",
      "Epoch 84/100\n",
      "7/7 [==============================] - 1s 176ms/step - loss: 56.3544 - accuracy: 0.0000e+00 - val_loss: 58.1650 - val_accuracy: 0.0000e+00\n",
      "Epoch 85/100\n",
      "7/7 [==============================] - 1s 175ms/step - loss: 56.2681 - accuracy: 0.0000e+00 - val_loss: 59.0090 - val_accuracy: 0.0000e+00\n",
      "Epoch 86/100\n",
      "7/7 [==============================] - 1s 182ms/step - loss: 55.1026 - accuracy: 0.0000e+00 - val_loss: 59.6249 - val_accuracy: 0.0000e+00\n",
      "Epoch 87/100\n",
      "7/7 [==============================] - 1s 176ms/step - loss: 53.1070 - accuracy: 0.0000e+00 - val_loss: 59.5324 - val_accuracy: 0.0000e+00\n",
      "Epoch 88/100\n",
      "7/7 [==============================] - 1s 176ms/step - loss: 55.8725 - accuracy: 0.0000e+00 - val_loss: 59.1637 - val_accuracy: 0.0000e+00\n",
      "Epoch 89/100\n",
      "7/7 [==============================] - 1s 191ms/step - loss: 59.4565 - accuracy: 0.0000e+00 - val_loss: 60.6794 - val_accuracy: 0.0000e+00\n",
      "Epoch 90/100\n",
      "7/7 [==============================] - 1s 178ms/step - loss: 53.7923 - accuracy: 0.0000e+00 - val_loss: 61.4288 - val_accuracy: 0.0000e+00\n",
      "Epoch 91/100\n",
      "7/7 [==============================] - 1s 170ms/step - loss: 55.2648 - accuracy: 0.0000e+00 - val_loss: 60.5450 - val_accuracy: 0.0000e+00\n",
      "Epoch 92/100\n",
      "7/7 [==============================] - 1s 179ms/step - loss: 51.9214 - accuracy: 0.0000e+00 - val_loss: 59.7004 - val_accuracy: 0.0000e+00\n",
      "Epoch 93/100\n",
      "7/7 [==============================] - 1s 185ms/step - loss: 56.3191 - accuracy: 0.0000e+00 - val_loss: 59.7537 - val_accuracy: 0.0000e+00\n",
      "Epoch 94/100\n",
      "7/7 [==============================] - 1s 177ms/step - loss: 53.0420 - accuracy: 0.0000e+00 - val_loss: 59.8621 - val_accuracy: 0.0000e+00\n",
      "Epoch 95/100\n",
      "7/7 [==============================] - 1s 176ms/step - loss: 50.8565 - accuracy: 0.0000e+00 - val_loss: 59.1396 - val_accuracy: 0.0000e+00\n",
      "Epoch 96/100\n",
      "7/7 [==============================] - 1s 182ms/step - loss: 54.1336 - accuracy: 0.0000e+00 - val_loss: 58.3560 - val_accuracy: 0.0000e+00\n",
      "Epoch 97/100\n",
      "7/7 [==============================] - 1s 171ms/step - loss: 51.2425 - accuracy: 0.0000e+00 - val_loss: 57.8446 - val_accuracy: 0.0000e+00\n",
      "Epoch 98/100\n",
      "7/7 [==============================] - 1s 175ms/step - loss: 51.8881 - accuracy: 0.0000e+00 - val_loss: 57.1655 - val_accuracy: 0.0000e+00\n",
      "Epoch 99/100\n",
      "7/7 [==============================] - 1s 174ms/step - loss: 52.6499 - accuracy: 0.0000e+00 - val_loss: 58.2735 - val_accuracy: 0.0000e+00\n",
      "Epoch 100/100\n",
      "7/7 [==============================] - 1s 175ms/step - loss: 53.7993 - accuracy: 0.0000e+00 - val_loss: 58.4920 - val_accuracy: 0.0000e+00\n"
     ]
    },
    {
     "data": {
      "text/plain": [
       "<tensorflow.python.keras.callbacks.History at 0x7fd300410a50>"
      ]
     },
     "execution_count": 867,
     "metadata": {},
     "output_type": "execute_result"
    }
   ],
   "source": [
    "model.fit(X_train,\n",
    "          Y_train,\n",
    "          batch_size=10,\n",
    "          epochs=100,\n",
    "          verbose=1,\n",
    "          validation_data=(X_test, Y_test))"
   ]
  },
  {
   "cell_type": "code",
   "execution_count": 889,
   "metadata": {},
   "outputs": [
    {
     "name": "stdout",
     "output_type": "stream",
     "text": [
      "[INFO] predicting house prices...\n",
      "[INFO] avg. house price: 75.91, std house price: 51.62\n",
      "[INFO] mean: 58.70%, std: 24.26%\n"
     ]
    }
   ],
   "source": [
    "import locale\n",
    "\n",
    "# make predictions on the testing data\n",
    "print(\"[INFO] predicting house prices...\")\n",
    "preds = model.predict(X_test)\n",
    "\n",
    "# compute the difference between the *predicted* house prices and the *actual* house prices, then compute the percentage difference and\n",
    "# the absolute percentage difference\n",
    "diff = preds.flatten() - Y_test\n",
    "percentDiff = (diff / Y_test) * 100\n",
    "absPercentDiff = np.abs(percentDiff)\n",
    "\n",
    "# compute the mean and standard deviation of the absolute percentage difference\n",
    "mean = np.mean(absPercentDiff)\n",
    "std = np.std(absPercentDiff)\n",
    "\n",
    "# finally, show some statistics on our model\n",
    "locale.setlocale(locale.LC_ALL, \"en_US.UTF-8\")\n",
    "print(\"[INFO] avg. house price: {}, std house price: {}\".format(\n",
    "\tlocale.currency(data_with_imgs['Price'].mean(), symbol=False, grouping=True, international=True),\n",
    "\tlocale.currency(data_with_imgs['Price'].std(), symbol=False, grouping=True, international=True)))\n",
    "print(\"[INFO] mean: {:.2f}%, std: {:.2f}%\".format(mean, std))"
   ]
  },
  {
   "cell_type": "code",
   "execution_count": 872,
   "metadata": {},
   "outputs": [
    {
     "data": {
      "text/plain": [
       "array([[21.98401 ],\n",
       "       [33.924854],\n",
       "       [20.093454],\n",
       "       [30.63052 ],\n",
       "       [38.87267 ],\n",
       "       [34.61707 ],\n",
       "       [33.68173 ],\n",
       "       [26.37269 ],\n",
       "       [30.976921],\n",
       "       [32.272446],\n",
       "       [27.853891],\n",
       "       [33.124733],\n",
       "       [23.258469],\n",
       "       [23.56509 ],\n",
       "       [25.666292],\n",
       "       [34.21701 ]], dtype=float32)"
      ]
     },
     "execution_count": 872,
     "metadata": {},
     "output_type": "execute_result"
    }
   ],
   "source": [
    "val, symbol=True, grouping=False, international=False"
   ]
  },
  {
   "cell_type": "code",
   "execution_count": 873,
   "metadata": {},
   "outputs": [
    {
     "data": {
      "text/plain": [
       "array([ 20., 112., 190.,  30.,  18.,  38.,  71.,  48.,  34.,  60.,  45.,\n",
       "        40.,  28.,  40., 120.,  27.,  94.,  50., 150.,  30., 126.,  50.,\n",
       "        60.,  72.,  25.,  68., 190.,  65., 115.,  66.,  60.,  52., 220.,\n",
       "       100.,  51.,  85.,  30.,  64., 128.,  40., 100.,  20., 116.,  30.,\n",
       "       120., 201.,  25., 140.,  83.,  70.,  23., 133.,  86.,  50.,  18.,\n",
       "        28.,  47.,  42.,  35.,  68., 200.,  38.,  40.,  75.,  80., 100.,\n",
       "        20.,  25.,  69., 185.,  83., 100., 220.,  69.,  55.,  59.,  80.])"
      ]
     },
     "execution_count": 873,
     "metadata": {},
     "output_type": "execute_result"
    }
   ],
   "source": [
    "y_reg"
   ]
  },
  {
   "cell_type": "markdown",
   "metadata": {},
   "source": [
    "No aprende...GAN?"
   ]
  },
  {
   "cell_type": "code",
   "execution_count": 822,
   "metadata": {},
   "outputs": [],
   "source": [
    "from babel.numbers import format_currency\n",
    "print format_currency(1099.98, 'EUR', locale='de_DE')\n",
    "1.099,98 €"
   ]
  },
  {
   "cell_type": "code",
   "execution_count": null,
   "metadata": {},
   "outputs": [],
   "source": []
  }
 ],
 "metadata": {
  "kernelspec": {
   "display_name": "Python 3",
   "language": "python",
   "name": "python3"
  },
  "language_info": {
   "codemirror_mode": {
    "name": "ipython",
    "version": 3
   },
   "file_extension": ".py",
   "mimetype": "text/x-python",
   "name": "python",
   "nbconvert_exporter": "python",
   "pygments_lexer": "ipython3",
   "version": "3.7.6"
  }
 },
 "nbformat": 4,
 "nbformat_minor": 4
}
